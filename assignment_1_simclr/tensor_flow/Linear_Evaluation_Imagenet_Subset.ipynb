{
  "nbformat": 4,
  "nbformat_minor": 0,
  "metadata": {
    "accelerator": "GPU",
    "colab": {
      "name": "Linear_Evaluation_Imagenet_Subset.ipynb",
      "provenance": []
    },
    "kernelspec": {
      "display_name": "Python 3",
      "language": "python",
      "name": "python3"
    },
    "language_info": {
      "codemirror_mode": {
        "name": "ipython",
        "version": 3
      },
      "file_extension": ".py",
      "mimetype": "text/x-python",
      "name": "python",
      "nbconvert_exporter": "python",
      "pygments_lexer": "ipython3",
      "version": "3.7.1"
    }
  },
  "cells": [
    {
      "cell_type": "markdown",
      "metadata": {
        "id": "7ck3ljcss8R2"
      },
      "source": [
        "## Initial setup"
      ]
    },
    {
      "cell_type": "code",
      "metadata": {
        "id": "lIYdn1woOS1n",
        "colab": {
          "base_uri": "https://localhost:8080/"
        },
        "outputId": "e226af39-bca6-4946-ed48-dc1507ebf871"
      },
      "source": [
        "import tensorflow as tf\n",
        "print(tf.__version__)"
      ],
      "execution_count": null,
      "outputs": [
        {
          "output_type": "stream",
          "name": "stdout",
          "text": [
            "2.7.0\n"
          ]
        }
      ]
    },
    {
      "cell_type": "code",
      "metadata": {
        "id": "M3obU9ZXpGR0",
        "colab": {
          "base_uri": "https://localhost:8080/"
        },
        "outputId": "1e5fd3f5-b723-4d32-fa0d-2b6bc5167462"
      },
      "source": [
        "!nvidia-smi"
      ],
      "execution_count": null,
      "outputs": [
        {
          "output_type": "stream",
          "name": "stdout",
          "text": [
            "Wed Nov 24 07:32:47 2021       \n",
            "+-----------------------------------------------------------------------------+\n",
            "| NVIDIA-SMI 495.44       Driver Version: 460.32.03    CUDA Version: 11.2     |\n",
            "|-------------------------------+----------------------+----------------------+\n",
            "| GPU  Name        Persistence-M| Bus-Id        Disp.A | Volatile Uncorr. ECC |\n",
            "| Fan  Temp  Perf  Pwr:Usage/Cap|         Memory-Usage | GPU-Util  Compute M. |\n",
            "|                               |                      |               MIG M. |\n",
            "|===============================+======================+======================|\n",
            "|   0  Tesla P100-PCIE...  Off  | 00000000:00:04.0 Off |                    0 |\n",
            "| N/A   36C    P0    26W / 250W |      0MiB / 16280MiB |      0%      Default |\n",
            "|                               |                      |                  N/A |\n",
            "+-------------------------------+----------------------+----------------------+\n",
            "                                                                               \n",
            "+-----------------------------------------------------------------------------+\n",
            "| Processes:                                                                  |\n",
            "|  GPU   GI   CI        PID   Type   Process name                  GPU Memory |\n",
            "|        ID   ID                                                   Usage      |\n",
            "|=============================================================================|\n",
            "|  No running processes found                                                 |\n",
            "+-----------------------------------------------------------------------------+\n"
          ]
        }
      ]
    },
    {
      "cell_type": "code",
      "metadata": {
        "id": "iMRHOAjqtTni"
      },
      "source": [
        "# Install wandb for experiment tracking\n",
        "!pip install --upgrade https://github.com/wandb/client/archive/feature/code-save.zip"
      ],
      "execution_count": null,
      "outputs": []
    },
    {
      "cell_type": "code",
      "metadata": {
        "id": "QaensolgtUxM",
        "colab": {
          "base_uri": "https://localhost:8080/",
          "height": 107
        },
        "outputId": "e5fa44e9-4b35-4718-d999-1b61a0a11a63"
      },
      "source": [
        "import wandb\n",
        "wandb.login()"
      ],
      "execution_count": null,
      "outputs": [
        {
          "output_type": "display_data",
          "data": {
            "application/javascript": [
              "\n",
              "        window._wandbApiKey = new Promise((resolve, reject) => {\n",
              "            function loadScript(url) {\n",
              "            return new Promise(function(resolve, reject) {\n",
              "                let newScript = document.createElement(\"script\");\n",
              "                newScript.onerror = reject;\n",
              "                newScript.onload = resolve;\n",
              "                document.body.appendChild(newScript);\n",
              "                newScript.src = url;\n",
              "            });\n",
              "            }\n",
              "            loadScript(\"https://cdn.jsdelivr.net/npm/postmate/build/postmate.min.js\").then(() => {\n",
              "            const iframe = document.createElement('iframe')\n",
              "            iframe.style.cssText = \"width:0;height:0;border:none\"\n",
              "            document.body.appendChild(iframe)\n",
              "            const handshake = new Postmate({\n",
              "                container: iframe,\n",
              "                url: 'https://app.wandb.ai/authorize'\n",
              "            });\n",
              "            const timeout = setTimeout(() => reject(\"Couldn't auto authenticate\"), 5000)\n",
              "            handshake.then(function(child) {\n",
              "                child.on('authorize', data => {\n",
              "                    clearTimeout(timeout)\n",
              "                    resolve(data)\n",
              "                });\n",
              "            });\n",
              "            })\n",
              "        });\n",
              "    "
            ],
            "text/plain": [
              "<IPython.core.display.Javascript object>"
            ]
          },
          "metadata": {}
        },
        {
          "output_type": "stream",
          "name": "stderr",
          "text": [
            "\u001b[34m\u001b[1mwandb\u001b[0m: \u001b[32m\u001b[41mERROR\u001b[0m Not authenticated.  Copy a key from https://app.wandb.ai/authorize\n"
          ]
        },
        {
          "name": "stdout",
          "output_type": "stream",
          "text": [
            "API Key: ··········\n"
          ]
        },
        {
          "output_type": "stream",
          "name": "stderr",
          "text": [
            "\u001b[34m\u001b[1mwandb\u001b[0m: Appending key for api.wandb.ai to your netrc file: /root/.netrc\n"
          ]
        },
        {
          "output_type": "execute_result",
          "data": {
            "text/plain": [
              "True"
            ]
          },
          "metadata": {},
          "execution_count": 4
        }
      ]
    },
    {
      "cell_type": "code",
      "metadata": {
        "colab": {
          "base_uri": "https://localhost:8080/",
          "height": 123
        },
        "id": "dZsjyDMQ_kwj",
        "outputId": "81d6a554-7266-4b17-88a4-99bc251a1a00"
      },
      "source": [
        "wandb.init(project=\"simclr\")"
      ],
      "execution_count": null,
      "outputs": [
        {
          "output_type": "display_data",
          "data": {
            "text/html": [
              "\n",
              "                Logging results to <a href=\"https://wandb.com\" target=\"_blank\">Weights & Biases</a> <a href=\"https://docs.wandb.com/integrations/jupyter.html\" target=\"_blank\">(Documentation)</a>.<br/>\n",
              "                Project page: <a href=\"https://app.wandb.ai/at_sjsu/simclr\" target=\"_blank\">https://app.wandb.ai/at_sjsu/simclr</a><br/>\n",
              "                Run page: <a href=\"https://app.wandb.ai/at_sjsu/simclr/runs/3o4wiy81\" target=\"_blank\">https://app.wandb.ai/at_sjsu/simclr/runs/3o4wiy81</a><br/>\n",
              "            "
            ],
            "text/plain": [
              "<IPython.core.display.HTML object>"
            ]
          },
          "metadata": {}
        },
        {
          "output_type": "stream",
          "name": "stderr",
          "text": [
            "\u001b[34m\u001b[1mwandb\u001b[0m: Wandb version 0.12.7 is available!  To upgrade, please run:\n",
            "\u001b[34m\u001b[1mwandb\u001b[0m:  $ pip install wandb --upgrade\n"
          ]
        },
        {
          "output_type": "execute_result",
          "data": {
            "text/plain": [
              "W&B Run: https://app.wandb.ai/at_sjsu/simclr/runs/3o4wiy81"
            ]
          },
          "metadata": {},
          "execution_count": 25
        }
      ]
    },
    {
      "cell_type": "code",
      "metadata": {
        "id": "DjvNq66HtSbc"
      },
      "source": [
        "simclr_weights = wandb.restore(\"20211124-073103resnet_simclr.h5\",run_path=\"at_sjsu/simclr/runs/265q00z9/\")"
      ],
      "execution_count": null,
      "outputs": []
    },
    {
      "cell_type": "code",
      "metadata": {
        "id": "dCsK6zBRpmdo"
      },
      "source": [
        "# Other imports\n",
        "from sklearn.preprocessing import LabelEncoder\n",
        "from sklearn.manifold import TSNE\n",
        "from tensorflow.keras.layers import *\n",
        "from tensorflow.keras.models import *\n",
        "from wandb.keras import WandbCallback\n",
        "import matplotlib.pyplot as plt\n",
        "from imutils import paths\n",
        "from tqdm import tqdm\n",
        "import tensorflow as tf\n",
        "import seaborn as sns\n",
        "import numpy as np\n",
        "import cv2\n",
        "\n",
        "# Random seed fixation\n",
        "tf.random.set_seed(666)\n",
        "np.random.seed(666)"
      ],
      "execution_count": null,
      "outputs": []
    },
    {
      "cell_type": "markdown",
      "metadata": {
        "id": "yP3vs53rs8SM"
      },
      "source": [
        "## Dataset gathering and preparation"
      ]
    },
    {
      "cell_type": "code",
      "metadata": {
        "id": "HJQZoWXYpjeN",
        "colab": {
          "base_uri": "https://localhost:8080/"
        },
        "outputId": "fd157686-f27f-4093-f52a-410dae8f2f63"
      },
      "source": [
        "# Gather dataset\n",
        "!git clone https://github.com/thunderInfy/imagenet-5-categories"
      ],
      "execution_count": null,
      "outputs": [
        {
          "output_type": "stream",
          "name": "stdout",
          "text": [
            "Cloning into 'imagenet-5-categories'...\n",
            "remote: Enumerating objects: 1532, done.\u001b[K\n",
            "remote: Total 1532 (delta 0), reused 0 (delta 0), pack-reused 1532\u001b[K\n",
            "Receiving objects: 100% (1532/1532), 88.56 MiB | 24.12 MiB/s, done.\n",
            "Resolving deltas: 100% (1/1), done.\n"
          ]
        }
      ]
    },
    {
      "cell_type": "code",
      "metadata": {
        "id": "2PRnOXCdppEg",
        "colab": {
          "base_uri": "https://localhost:8080/"
        },
        "outputId": "f0c0a8e9-3be3-44fb-9cc8-bf47848d5786"
      },
      "source": [
        "# Train and test image paths\n",
        "train_images = list(paths.list_images(\"imagenet-5-categories/train\"))\n",
        "test_images = list(paths.list_images(\"imagenet-5-categories/test\"))\n",
        "print(len(train_images), len(test_images))"
      ],
      "execution_count": null,
      "outputs": [
        {
          "output_type": "stream",
          "name": "stdout",
          "text": [
            "1250 250\n"
          ]
        }
      ]
    },
    {
      "cell_type": "code",
      "metadata": {
        "id": "3-unR2HSqQJ0",
        "colab": {
          "base_uri": "https://localhost:8080/"
        },
        "outputId": "edcb2b42-0d4c-46de-f5ba-dc51867d08b4"
      },
      "source": [
        "# 10% of the dataset\n",
        "train_images_10 = np.random.choice(train_images, len(train_images)//10)\n",
        "len(train_images_10)"
      ],
      "execution_count": null,
      "outputs": [
        {
          "output_type": "execute_result",
          "data": {
            "text/plain": [
              "125"
            ]
          },
          "metadata": {},
          "execution_count": 31
        }
      ]
    },
    {
      "cell_type": "code",
      "metadata": {
        "id": "9giRP85TqizW"
      },
      "source": [
        "def prepare_images(image_paths):\n",
        "    images = []\n",
        "    labels = []\n",
        "\n",
        "    for image in tqdm(image_paths):\n",
        "        image_pixels = plt.imread(image)\n",
        "        image_pixels = cv2.resize(image_pixels, (224, 224))\n",
        "        image_pixels = image_pixels/255.\n",
        "\n",
        "        label = image.split(\"/\")[2].split(\"_\")[0]\n",
        "\n",
        "        images.append(image_pixels)\n",
        "        labels.append(label)\n",
        "\n",
        "    images = np.array(images)\n",
        "    labels = np.array(labels)\n",
        "\n",
        "    print(images.shape, labels.shape)\n",
        "\n",
        "    return images, labels"
      ],
      "execution_count": null,
      "outputs": []
    },
    {
      "cell_type": "code",
      "metadata": {
        "id": "YJL8IW6UsHkt",
        "colab": {
          "base_uri": "https://localhost:8080/"
        },
        "outputId": "bdcd6916-a3fa-45e2-f784-3744848ed199"
      },
      "source": [
        "X_train, y_train = prepare_images(train_images_10)\n",
        "X_test, y_test = prepare_images(test_images)"
      ],
      "execution_count": null,
      "outputs": [
        {
          "output_type": "stream",
          "name": "stderr",
          "text": [
            "100%|██████████| 125/125 [00:00<00:00, 206.35it/s]\n"
          ]
        },
        {
          "output_type": "stream",
          "name": "stdout",
          "text": [
            "(125, 224, 224, 3) (125,)\n"
          ]
        },
        {
          "output_type": "stream",
          "name": "stderr",
          "text": [
            "100%|██████████| 250/250 [00:01<00:00, 219.38it/s]\n"
          ]
        },
        {
          "output_type": "stream",
          "name": "stdout",
          "text": [
            "(250, 224, 224, 3) (250,)\n"
          ]
        }
      ]
    },
    {
      "cell_type": "code",
      "metadata": {
        "id": "YAv47WlJvse5"
      },
      "source": [
        "le = LabelEncoder()\n",
        "y_train_enc = le.fit_transform(y_train)\n",
        "y_test_enc = le.transform(y_test)"
      ],
      "execution_count": null,
      "outputs": []
    },
    {
      "cell_type": "markdown",
      "metadata": {
        "id": "vdM74W7Ws8Sl"
      },
      "source": [
        "## Utilities"
      ]
    },
    {
      "cell_type": "code",
      "metadata": {
        "id": "G8ha8pK7sSUO"
      },
      "source": [
        "# Architecture utils\n",
        "def get_resnet_simclr(hidden_1, hidden_2, hidden_3):\n",
        "    base_model = tf.keras.applications.ResNet50(include_top=False, weights=None, input_shape=(224, 224, 3))\n",
        "    base_model.trainable = True\n",
        "    inputs = Input((224, 224, 3))\n",
        "    h = base_model(inputs, training=False)\n",
        "    h = GlobalAveragePooling2D()(h)\n",
        "\n",
        "    projection_1 = Dense(hidden_1)(h)\n",
        "    projection_1 = Activation(\"relu\")(projection_1)\n",
        "    projection_2 = Dense(hidden_2)(projection_1)\n",
        "    projection_2 = Activation(\"relu\")(projection_2)\n",
        "    projection_3 = Dense(hidden_3)(projection_2)\n",
        "\n",
        "    resnet_simclr = Model(inputs, projection_3)\n",
        "\n",
        "    return resnet_simclr"
      ],
      "execution_count": null,
      "outputs": []
    },
    {
      "cell_type": "code",
      "metadata": {
        "id": "X0GklYB-sZYz",
        "colab": {
          "base_uri": "https://localhost:8080/"
        },
        "outputId": "876a7f98-0215-47cb-ffd7-f6fa6c5da334"
      },
      "source": [
        "resnet_simclr = get_resnet_simclr(256, 128, 50)\n",
        "resnet_simclr.load_weights(simclr_weights.name)\n",
        "resnet_simclr.summary()"
      ],
      "execution_count": null,
      "outputs": [
        {
          "output_type": "stream",
          "name": "stdout",
          "text": [
            "Model: \"model\"\n",
            "_________________________________________________________________\n",
            " Layer (type)                Output Shape              Param #   \n",
            "=================================================================\n",
            " input_2 (InputLayer)        [(None, 224, 224, 3)]     0         \n",
            "                                                                 \n",
            " resnet50 (Functional)       (None, 7, 7, 2048)        23587712  \n",
            "                                                                 \n",
            " global_average_pooling2d (G  (None, 2048)             0         \n",
            " lobalAveragePooling2D)                                          \n",
            "                                                                 \n",
            " dense (Dense)               (None, 256)               524544    \n",
            "                                                                 \n",
            " activation (Activation)     (None, 256)               0         \n",
            "                                                                 \n",
            " dense_1 (Dense)             (None, 128)               32896     \n",
            "                                                                 \n",
            " activation_1 (Activation)   (None, 128)               0         \n",
            "                                                                 \n",
            " dense_2 (Dense)             (None, 50)                6450      \n",
            "                                                                 \n",
            "=================================================================\n",
            "Total params: 24,151,602\n",
            "Trainable params: 24,098,482\n",
            "Non-trainable params: 53,120\n",
            "_________________________________________________________________\n"
          ]
        }
      ]
    },
    {
      "cell_type": "code",
      "metadata": {
        "id": "Z1tFKw-7ziaG"
      },
      "source": [
        "def plot_training(H):\n",
        "\tplt.plot(H.history[\"loss\"], label=\"train_loss\")\n",
        "\tplt.plot(H.history[\"val_loss\"], label=\"val_loss\")\n",
        "\tplt.plot(H.history[\"accuracy\"], label=\"train_acc\")\n",
        "\tplt.plot(H.history[\"val_accuracy\"], label=\"val_acc\")\n",
        "\tplt.title(\"Training Loss and Accuracy\")\n",
        "\tplt.xlabel(\"Epoch #\")\n",
        "\tplt.ylabel(\"Loss/Accuracy\")\n",
        "\tplt.legend(loc=\"lower left\")\n",
        "\tplt.show()"
      ],
      "execution_count": null,
      "outputs": []
    },
    {
      "cell_type": "code",
      "metadata": {
        "id": "7XojYORatX4p"
      },
      "source": [
        "def get_linear_model(features):\n",
        "    linear_model = Sequential([Dense(5, input_shape=(features, ), activation=\"softmax\")])\n",
        "    return linear_model"
      ],
      "execution_count": null,
      "outputs": []
    },
    {
      "cell_type": "markdown",
      "metadata": {
        "id": "_s0nfTYos8Sy"
      },
      "source": [
        "## Evaluation"
      ]
    },
    {
      "cell_type": "code",
      "metadata": {
        "id": "RGk081OMMl2a",
        "colab": {
          "base_uri": "https://localhost:8080/"
        },
        "outputId": "2faf0caa-3d74-4044-aaad-4e07b0fcecfc"
      },
      "source": [
        "resnet_simclr.layers[1].trainable = False\n",
        "resnet_simclr.summary()"
      ],
      "execution_count": null,
      "outputs": [
        {
          "output_type": "stream",
          "name": "stdout",
          "text": [
            "Model: \"model\"\n",
            "_________________________________________________________________\n",
            " Layer (type)                Output Shape              Param #   \n",
            "=================================================================\n",
            " input_2 (InputLayer)        [(None, 224, 224, 3)]     0         \n",
            "                                                                 \n",
            " resnet50 (Functional)       (None, 7, 7, 2048)        23587712  \n",
            "                                                                 \n",
            " global_average_pooling2d (G  (None, 2048)             0         \n",
            " lobalAveragePooling2D)                                          \n",
            "                                                                 \n",
            " dense (Dense)               (None, 256)               524544    \n",
            "                                                                 \n",
            " activation (Activation)     (None, 256)               0         \n",
            "                                                                 \n",
            " dense_1 (Dense)             (None, 128)               32896     \n",
            "                                                                 \n",
            " activation_1 (Activation)   (None, 128)               0         \n",
            "                                                                 \n",
            " dense_2 (Dense)             (None, 50)                6450      \n",
            "                                                                 \n",
            "=================================================================\n",
            "Total params: 24,151,602\n",
            "Trainable params: 563,890\n",
            "Non-trainable params: 23,587,712\n",
            "_________________________________________________________________\n"
          ]
        }
      ]
    },
    {
      "cell_type": "code",
      "metadata": {
        "id": "qnNJ5BKPsj4u",
        "colab": {
          "base_uri": "https://localhost:8080/"
        },
        "outputId": "39a56ce7-3d67-454c-c764-927e9b81c20e"
      },
      "source": [
        "# Encoder model with non-linear projections\n",
        "projection = Model(resnet_simclr.input, resnet_simclr.layers[-2].output)\n",
        "\n",
        "# Extract train and test features\n",
        "train_features = projection.predict(X_train)\n",
        "test_features = projection.predict(X_test)\n",
        "\n",
        "print(train_features.shape, test_features.shape)"
      ],
      "execution_count": null,
      "outputs": [
        {
          "output_type": "stream",
          "name": "stdout",
          "text": [
            "(125, 128) (250, 128)\n"
          ]
        }
      ]
    },
    {
      "cell_type": "code",
      "metadata": {
        "id": "1B9C0a6003-O"
      },
      "source": [
        "# Early Stopping to prevent overfitting\n",
        "es = tf.keras.callbacks.EarlyStopping(monitor=\"val_loss\", patience=2, verbose=2, restore_best_weights=True)"
      ],
      "execution_count": null,
      "outputs": []
    },
    {
      "cell_type": "code",
      "metadata": {
        "id": "-Rb-lf8KvMtR",
        "colab": {
          "base_uri": "https://localhost:8080/",
          "height": 1000
        },
        "outputId": "cb4a14ec-f78b-4885-887f-c8c7a296c086"
      },
      "source": [
        "# Linear model\n",
        "wandb.init(project=\"simclr\", id=\"linear-eval-relu-last\")\n",
        "\n",
        "linear_model = get_linear_model(128)\n",
        "linear_model.compile(loss=\"sparse_categorical_crossentropy\", metrics=[\"accuracy\"],\n",
        "                     optimizer=\"adam\")\n",
        "history = linear_model.fit(train_features, y_train_enc,\n",
        "                 validation_data=(test_features, y_test_enc),\n",
        "                 batch_size=64,\n",
        "                 epochs=35,\n",
        "                 callbacks=[es, WandbCallback()])"
      ],
      "execution_count": null,
      "outputs": [
        {
          "output_type": "display_data",
          "data": {
            "text/html": [
              "\n",
              "                Logging results to <a href=\"https://wandb.com\" target=\"_blank\">Weights & Biases</a> <a href=\"https://docs.wandb.com/integrations/jupyter.html\" target=\"_blank\">(Documentation)</a>.<br/>\n",
              "                Project page: <a href=\"https://app.wandb.ai/at_sjsu/simclr\" target=\"_blank\">https://app.wandb.ai/at_sjsu/simclr</a><br/>\n",
              "                Run page: <a href=\"https://app.wandb.ai/at_sjsu/simclr/runs/linear-eval-relu-last\" target=\"_blank\">https://app.wandb.ai/at_sjsu/simclr/runs/linear-eval-relu-last</a><br/>\n",
              "            "
            ],
            "text/plain": [
              "<IPython.core.display.HTML object>"
            ]
          },
          "metadata": {}
        },
        {
          "output_type": "stream",
          "name": "stderr",
          "text": [
            "\u001b[34m\u001b[1mwandb\u001b[0m: Wandb version 0.12.7 is available!  To upgrade, please run:\n",
            "\u001b[34m\u001b[1mwandb\u001b[0m:  $ pip install wandb --upgrade\n"
          ]
        },
        {
          "output_type": "stream",
          "name": "stdout",
          "text": [
            "Epoch 1/35\n",
            "2/2 [==============================] - 1s 187ms/step - loss: 5.3747 - accuracy: 0.1680 - val_loss: 4.5967 - val_accuracy: 0.1400\n",
            "Epoch 2/35\n",
            "1/2 [==============>...............] - ETA: 0s - loss: 5.0805 - accuracy: 0.1719WARNING:tensorflow:Callback method `on_train_batch_end` is slow compared to the batch time (batch time: 0.0019s vs `on_train_batch_end` time: 0.0026s). Check your callbacks.\n",
            "2/2 [==============================] - 0s 52ms/step - loss: 5.0818 - accuracy: 0.1680 - val_loss: 4.3731 - val_accuracy: 0.1440\n",
            "Epoch 3/35\n",
            "2/2 [==============================] - 0s 69ms/step - loss: 4.8059 - accuracy: 0.1680 - val_loss: 4.1667 - val_accuracy: 0.1560\n",
            "Epoch 4/35\n",
            "2/2 [==============================] - 0s 62ms/step - loss: 4.5495 - accuracy: 0.1760 - val_loss: 3.9759 - val_accuracy: 0.1640\n",
            "Epoch 5/35\n",
            "2/2 [==============================] - 0s 52ms/step - loss: 4.2840 - accuracy: 0.1680 - val_loss: 3.8018 - val_accuracy: 0.1640\n",
            "Epoch 6/35\n",
            "2/2 [==============================] - 0s 53ms/step - loss: 4.0511 - accuracy: 0.1920 - val_loss: 3.6434 - val_accuracy: 0.1640\n",
            "Epoch 7/35\n",
            "2/2 [==============================] - 0s 62ms/step - loss: 3.8337 - accuracy: 0.2080 - val_loss: 3.5003 - val_accuracy: 0.1680\n",
            "Epoch 8/35\n",
            "2/2 [==============================] - 0s 55ms/step - loss: 3.6307 - accuracy: 0.2240 - val_loss: 3.3707 - val_accuracy: 0.1720\n",
            "Epoch 9/35\n",
            "2/2 [==============================] - 0s 49ms/step - loss: 3.4305 - accuracy: 0.2560 - val_loss: 3.2545 - val_accuracy: 0.1880\n",
            "Epoch 10/35\n",
            "2/2 [==============================] - 0s 47ms/step - loss: 3.2653 - accuracy: 0.2560 - val_loss: 3.1486 - val_accuracy: 0.1920\n",
            "Epoch 11/35\n",
            "2/2 [==============================] - 0s 48ms/step - loss: 3.1046 - accuracy: 0.2560 - val_loss: 3.0539 - val_accuracy: 0.2080\n",
            "Epoch 12/35\n",
            "2/2 [==============================] - 0s 57ms/step - loss: 2.9641 - accuracy: 0.2640 - val_loss: 2.9666 - val_accuracy: 0.2200\n",
            "Epoch 13/35\n",
            "2/2 [==============================] - 0s 63ms/step - loss: 2.8283 - accuracy: 0.2720 - val_loss: 2.8862 - val_accuracy: 0.2280\n",
            "Epoch 14/35\n",
            "2/2 [==============================] - 0s 62ms/step - loss: 2.7222 - accuracy: 0.2640 - val_loss: 2.8110 - val_accuracy: 0.2240\n",
            "Epoch 15/35\n",
            "2/2 [==============================] - 0s 49ms/step - loss: 2.6027 - accuracy: 0.2880 - val_loss: 2.7402 - val_accuracy: 0.2400\n",
            "Epoch 16/35\n",
            "2/2 [==============================] - 0s 48ms/step - loss: 2.5045 - accuracy: 0.3040 - val_loss: 2.6730 - val_accuracy: 0.2480\n",
            "Epoch 17/35\n",
            "2/2 [==============================] - 0s 48ms/step - loss: 2.4114 - accuracy: 0.2960 - val_loss: 2.6084 - val_accuracy: 0.2640\n",
            "Epoch 18/35\n",
            "2/2 [==============================] - 0s 62ms/step - loss: 2.3202 - accuracy: 0.3120 - val_loss: 2.5479 - val_accuracy: 0.2800\n",
            "Epoch 19/35\n",
            "2/2 [==============================] - 0s 67ms/step - loss: 2.2349 - accuracy: 0.3200 - val_loss: 2.4912 - val_accuracy: 0.2800\n",
            "Epoch 20/35\n",
            "2/2 [==============================] - 0s 46ms/step - loss: 2.1584 - accuracy: 0.3520 - val_loss: 2.4367 - val_accuracy: 0.2880\n",
            "Epoch 21/35\n",
            "2/2 [==============================] - 0s 48ms/step - loss: 2.0844 - accuracy: 0.3680 - val_loss: 2.3847 - val_accuracy: 0.2920\n",
            "Epoch 22/35\n",
            "2/2 [==============================] - 0s 47ms/step - loss: 2.0103 - accuracy: 0.3760 - val_loss: 2.3357 - val_accuracy: 0.2920\n",
            "Epoch 23/35\n",
            "2/2 [==============================] - 0s 64ms/step - loss: 1.9448 - accuracy: 0.3840 - val_loss: 2.2888 - val_accuracy: 0.3000\n",
            "Epoch 24/35\n",
            "2/2 [==============================] - 0s 65ms/step - loss: 1.8816 - accuracy: 0.3920 - val_loss: 2.2440 - val_accuracy: 0.3200\n",
            "Epoch 25/35\n",
            "2/2 [==============================] - 0s 60ms/step - loss: 1.8212 - accuracy: 0.4000 - val_loss: 2.2018 - val_accuracy: 0.3320\n",
            "Epoch 26/35\n",
            "2/2 [==============================] - 0s 48ms/step - loss: 1.7642 - accuracy: 0.4000 - val_loss: 2.1614 - val_accuracy: 0.3400\n",
            "Epoch 27/35\n",
            "2/2 [==============================] - 0s 51ms/step - loss: 1.7095 - accuracy: 0.4240 - val_loss: 2.1228 - val_accuracy: 0.3480\n",
            "Epoch 28/35\n",
            "2/2 [==============================] - 0s 49ms/step - loss: 1.6621 - accuracy: 0.4160 - val_loss: 2.0857 - val_accuracy: 0.3600\n",
            "Epoch 29/35\n",
            "2/2 [==============================] - 0s 62ms/step - loss: 1.6096 - accuracy: 0.4320 - val_loss: 2.0519 - val_accuracy: 0.3760\n",
            "Epoch 30/35\n",
            "2/2 [==============================] - 0s 48ms/step - loss: 1.5640 - accuracy: 0.4400 - val_loss: 2.0193 - val_accuracy: 0.3840\n",
            "Epoch 31/35\n",
            "2/2 [==============================] - 0s 51ms/step - loss: 1.5197 - accuracy: 0.4480 - val_loss: 1.9889 - val_accuracy: 0.3880\n",
            "Epoch 32/35\n",
            "2/2 [==============================] - 0s 55ms/step - loss: 1.4769 - accuracy: 0.4560 - val_loss: 1.9604 - val_accuracy: 0.3840\n",
            "Epoch 33/35\n",
            "2/2 [==============================] - 0s 54ms/step - loss: 1.4387 - accuracy: 0.4640 - val_loss: 1.9335 - val_accuracy: 0.3760\n",
            "Epoch 34/35\n",
            "2/2 [==============================] - 0s 62ms/step - loss: 1.4018 - accuracy: 0.4640 - val_loss: 1.9085 - val_accuracy: 0.3840\n",
            "Epoch 35/35\n",
            "2/2 [==============================] - 0s 50ms/step - loss: 1.3655 - accuracy: 0.4720 - val_loss: 1.8858 - val_accuracy: 0.3800\n"
          ]
        }
      ]
    },
    {
      "cell_type": "code",
      "metadata": {
        "colab": {
          "base_uri": "https://localhost:8080/",
          "height": 295
        },
        "id": "_KfeqH8BiAxn",
        "outputId": "84597b46-9c95-425b-9087-f96aea76101f"
      },
      "source": [
        "plot_training(history)"
      ],
      "execution_count": null,
      "outputs": [
        {
          "output_type": "display_data",
          "data": {
            "image/png": "[encoded data removed]",
            "text/plain": [
              "<Figure size 432x288 with 1 Axes>"
            ]
          },
          "metadata": {
            "needs_background": "light"
          }
        }
      ]
    },
    {
      "cell_type": "code",
      "metadata": {
        "id": "pNQxjmTsvd_u",
        "colab": {
          "base_uri": "https://localhost:8080/"
        },
        "outputId": "339bb144-b16a-481a-96c8-a1788b796db4"
      },
      "source": [
        "# Encoder model with less non-linearity\n",
        "projection = Model(resnet_simclr.input, resnet_simclr.layers[-4].output)\n",
        "\n",
        "# Extract train and test features\n",
        "train_features = projection.predict(X_train)\n",
        "test_features = projection.predict(X_test)\n",
        "\n",
        "print(train_features.shape, test_features.shape)"
      ],
      "execution_count": null,
      "outputs": [
        {
          "output_type": "stream",
          "name": "stdout",
          "text": [
            "(125, 256) (250, 256)\n"
          ]
        }
      ]
    },
    {
      "cell_type": "code",
      "metadata": {
        "id": "N4YLxLpw1rWK",
        "colab": {
          "base_uri": "https://localhost:8080/",
          "height": 1000
        },
        "outputId": "f8dee4f5-cd00-4499-b790-9d1488b6f4a0"
      },
      "source": [
        "wandb.init(project=\"simclr\", id=\"linear-eval-relu-second-last\")\n",
        "\n",
        "linear_model = get_linear_model(256)\n",
        "linear_model.compile(loss=\"sparse_categorical_crossentropy\", metrics=[\"accuracy\"],\n",
        "                     optimizer=\"adam\")\n",
        "history = linear_model.fit(train_features, y_train_enc,\n",
        "                 validation_data=(test_features, y_test_enc),\n",
        "                 batch_size=64,\n",
        "                 epochs=35,\n",
        "                 callbacks=[es, WandbCallback()])\n",
        "plot_training(history)"
      ],
      "execution_count": null,
      "outputs": [
        {
          "output_type": "display_data",
          "data": {
            "text/html": [
              "\n",
              "                Logging results to <a href=\"https://wandb.com\" target=\"_blank\">Weights & Biases</a> <a href=\"https://docs.wandb.com/integrations/jupyter.html\" target=\"_blank\">(Documentation)</a>.<br/>\n",
              "                Project page: <a href=\"https://app.wandb.ai/at_sjsu/simclr\" target=\"_blank\">https://app.wandb.ai/at_sjsu/simclr</a><br/>\n",
              "                Run page: <a href=\"https://app.wandb.ai/at_sjsu/simclr/runs/linear-eval-relu-second-last\" target=\"_blank\">https://app.wandb.ai/at_sjsu/simclr/runs/linear-eval-relu-second-last</a><br/>\n",
              "            "
            ],
            "text/plain": [
              "<IPython.core.display.HTML object>"
            ]
          },
          "metadata": {}
        },
        {
          "output_type": "stream",
          "name": "stderr",
          "text": [
            "\u001b[34m\u001b[1mwandb\u001b[0m: Wandb version 0.12.7 is available!  To upgrade, please run:\n",
            "\u001b[34m\u001b[1mwandb\u001b[0m:  $ pip install wandb --upgrade\n"
          ]
        },
        {
          "output_type": "stream",
          "name": "stdout",
          "text": [
            "Epoch 1/35\n",
            "2/2 [==============================] - 0s 160ms/step - loss: 6.2073 - accuracy: 0.1520 - val_loss: 5.0633 - val_accuracy: 0.1320\n",
            "Epoch 2/35\n",
            "1/2 [==============>...............] - ETA: 0s - loss: 5.9185 - accuracy: 0.1875WARNING:tensorflow:Callback method `on_train_batch_end` is slow compared to the batch time (batch time: 0.0016s vs `on_train_batch_end` time: 0.0024s). Check your callbacks.\n",
            "2/2 [==============================] - 0s 53ms/step - loss: 5.5642 - accuracy: 0.1680 - val_loss: 4.5865 - val_accuracy: 0.1520\n",
            "Epoch 3/35\n",
            "2/2 [==============================] - 0s 52ms/step - loss: 5.0053 - accuracy: 0.1680 - val_loss: 4.1879 - val_accuracy: 0.1800\n",
            "Epoch 4/35\n",
            "2/2 [==============================] - 0s 76ms/step - loss: 4.5131 - accuracy: 0.1840 - val_loss: 3.8613 - val_accuracy: 0.1920\n",
            "Epoch 5/35\n",
            "2/2 [==============================] - 0s 50ms/step - loss: 4.1057 - accuracy: 0.2240 - val_loss: 3.5977 - val_accuracy: 0.2200\n",
            "Epoch 6/35\n",
            "2/2 [==============================] - 0s 65ms/step - loss: 3.7437 - accuracy: 0.2400 - val_loss: 3.3892 - val_accuracy: 0.2600\n",
            "Epoch 7/35\n",
            "2/2 [==============================] - 0s 57ms/step - loss: 3.4856 - accuracy: 0.2800 - val_loss: 3.2112 - val_accuracy: 0.2840\n",
            "Epoch 8/35\n",
            "2/2 [==============================] - 0s 70ms/step - loss: 3.2550 - accuracy: 0.3200 - val_loss: 3.0500 - val_accuracy: 0.2880\n",
            "Epoch 9/35\n",
            "2/2 [==============================] - 0s 50ms/step - loss: 3.0666 - accuracy: 0.3440 - val_loss: 2.9088 - val_accuracy: 0.2840\n",
            "Epoch 10/35\n",
            "2/2 [==============================] - 0s 50ms/step - loss: 2.9206 - accuracy: 0.3680 - val_loss: 2.7894 - val_accuracy: 0.3000\n",
            "Epoch 11/35\n",
            "2/2 [==============================] - 0s 67ms/step - loss: 2.7603 - accuracy: 0.3760 - val_loss: 2.6938 - val_accuracy: 0.3040\n",
            "Epoch 12/35\n",
            "2/2 [==============================] - 0s 50ms/step - loss: 2.6533 - accuracy: 0.3520 - val_loss: 2.6201 - val_accuracy: 0.3240\n",
            "Epoch 13/35\n",
            "2/2 [==============================] - 0s 66ms/step - loss: 2.5460 - accuracy: 0.3520 - val_loss: 2.5558 - val_accuracy: 0.3240\n",
            "Epoch 14/35\n",
            "2/2 [==============================] - 0s 53ms/step - loss: 2.4520 - accuracy: 0.3520 - val_loss: 2.4931 - val_accuracy: 0.3360\n",
            "Epoch 15/35\n",
            "2/2 [==============================] - 0s 75ms/step - loss: 2.3683 - accuracy: 0.3280 - val_loss: 2.4267 - val_accuracy: 0.3360\n",
            "Epoch 16/35\n",
            "2/2 [==============================] - 0s 57ms/step - loss: 2.2638 - accuracy: 0.3200 - val_loss: 2.3471 - val_accuracy: 0.3440\n",
            "Epoch 17/35\n",
            "2/2 [==============================] - 0s 58ms/step - loss: 2.1688 - accuracy: 0.3200 - val_loss: 2.2583 - val_accuracy: 0.3600\n",
            "Epoch 18/35\n",
            "2/2 [==============================] - 0s 56ms/step - loss: 2.0739 - accuracy: 0.3440 - val_loss: 2.1672 - val_accuracy: 0.3640\n",
            "Epoch 19/35\n",
            "2/2 [==============================] - 0s 61ms/step - loss: 1.9787 - accuracy: 0.3520 - val_loss: 2.0744 - val_accuracy: 0.3520\n",
            "Epoch 20/35\n",
            "2/2 [==============================] - 0s 55ms/step - loss: 1.8810 - accuracy: 0.3840 - val_loss: 1.9877 - val_accuracy: 0.3640\n",
            "Epoch 21/35\n",
            "2/2 [==============================] - 0s 55ms/step - loss: 1.7979 - accuracy: 0.3920 - val_loss: 1.9068 - val_accuracy: 0.3720\n",
            "Epoch 22/35\n",
            "2/2 [==============================] - 0s 60ms/step - loss: 1.7171 - accuracy: 0.4160 - val_loss: 1.8371 - val_accuracy: 0.3800\n",
            "Epoch 23/35\n",
            "2/2 [==============================] - 0s 52ms/step - loss: 1.6433 - accuracy: 0.4320 - val_loss: 1.7766 - val_accuracy: 0.3840\n",
            "Epoch 24/35\n",
            "2/2 [==============================] - 0s 62ms/step - loss: 1.5812 - accuracy: 0.4320 - val_loss: 1.7249 - val_accuracy: 0.3880\n",
            "Epoch 25/35\n",
            "2/2 [==============================] - 0s 67ms/step - loss: 1.5217 - accuracy: 0.4560 - val_loss: 1.6831 - val_accuracy: 0.4000\n",
            "Epoch 26/35\n",
            "2/2 [==============================] - 0s 57ms/step - loss: 1.4697 - accuracy: 0.4640 - val_loss: 1.6480 - val_accuracy: 0.4040\n",
            "Epoch 27/35\n",
            "2/2 [==============================] - 0s 53ms/step - loss: 1.4208 - accuracy: 0.4720 - val_loss: 1.6213 - val_accuracy: 0.4080\n",
            "Epoch 28/35\n",
            "2/2 [==============================] - 0s 70ms/step - loss: 1.3773 - accuracy: 0.4880 - val_loss: 1.5995 - val_accuracy: 0.3880\n",
            "Epoch 29/35\n",
            "2/2 [==============================] - 0s 70ms/step - loss: 1.3396 - accuracy: 0.4880 - val_loss: 1.5818 - val_accuracy: 0.3840\n",
            "Epoch 30/35\n",
            "2/2 [==============================] - 0s 65ms/step - loss: 1.3030 - accuracy: 0.4960 - val_loss: 1.5656 - val_accuracy: 0.3880\n",
            "Epoch 31/35\n",
            "2/2 [==============================] - 0s 66ms/step - loss: 1.2685 - accuracy: 0.4960 - val_loss: 1.5534 - val_accuracy: 0.4000\n",
            "Epoch 32/35\n",
            "2/2 [==============================] - 0s 51ms/step - loss: 1.2397 - accuracy: 0.4960 - val_loss: 1.5405 - val_accuracy: 0.4080\n",
            "Epoch 33/35\n",
            "2/2 [==============================] - 0s 75ms/step - loss: 1.2109 - accuracy: 0.4960 - val_loss: 1.5296 - val_accuracy: 0.4080\n",
            "Epoch 34/35\n",
            "2/2 [==============================] - 0s 80ms/step - loss: 1.1871 - accuracy: 0.4800 - val_loss: 1.5205 - val_accuracy: 0.4120\n",
            "Epoch 35/35\n",
            "2/2 [==============================] - 0s 69ms/step - loss: 1.1678 - accuracy: 0.4960 - val_loss: 1.5119 - val_accuracy: 0.4120\n"
          ]
        },
        {
          "output_type": "display_data",
          "data": {
            "image/png": "[encoded data removed]",
            "text/plain": [
              "<Figure size 432x288 with 1 Axes>"
            ]
          },
          "metadata": {
            "needs_background": "light"
          }
        }
      ]
    },
    {
      "cell_type": "code",
      "metadata": {
        "id": "AIjHhSofSUWl",
        "colab": {
          "base_uri": "https://localhost:8080/"
        },
        "outputId": "2ed9eade-ee3d-4bcb-ed3f-0c9bb1be0cc1"
      },
      "source": [
        "# Encoder model with no projection\n",
        "projection = Model(resnet_simclr.input, resnet_simclr.layers[-6].output)\n",
        "\n",
        "# Extract train and test features\n",
        "train_features = projection.predict(X_train)\n",
        "test_features = projection.predict(X_test)\n",
        "\n",
        "print(train_features.shape, test_features.shape)"
      ],
      "execution_count": null,
      "outputs": [
        {
          "output_type": "stream",
          "name": "stdout",
          "text": [
            "(125, 2048) (250, 2048)\n"
          ]
        }
      ]
    },
    {
      "cell_type": "code",
      "metadata": {
        "id": "iDFeqRqVSqzs",
        "colab": {
          "base_uri": "https://localhost:8080/",
          "height": 674
        },
        "outputId": "b89b19fb-dc45-4b40-a8b8-5d099062604f"
      },
      "source": [
        "wandb.init(project=\"simclr\", id=\"linear-eval-no-projections\")\n",
        "\n",
        "linear_model = get_linear_model(2048)\n",
        "linear_model.compile(loss=\"sparse_categorical_crossentropy\", metrics=[\"accuracy\"],\n",
        "                     optimizer=\"adam\")\n",
        "history = linear_model.fit(train_features, y_train_enc,\n",
        "                 validation_data=(test_features, y_test_enc),\n",
        "                 batch_size=64,\n",
        "                 epochs=35,\n",
        "                 callbacks=[es, WandbCallback()])\n",
        "plot_training(history)"
      ],
      "execution_count": null,
      "outputs": [
        {
          "output_type": "display_data",
          "data": {
            "text/html": [
              "\n",
              "                Logging results to <a href=\"https://wandb.com\" target=\"_blank\">Weights & Biases</a> <a href=\"https://docs.wandb.com/integrations/jupyter.html\" target=\"_blank\">(Documentation)</a>.<br/>\n",
              "                Project page: <a href=\"https://app.wandb.ai/at_sjsu/simclr\" target=\"_blank\">https://app.wandb.ai/at_sjsu/simclr</a><br/>\n",
              "                Run page: <a href=\"https://app.wandb.ai/at_sjsu/simclr/runs/linear-eval-no-projections\" target=\"_blank\">https://app.wandb.ai/at_sjsu/simclr/runs/linear-eval-no-projections</a><br/>\n",
              "            "
            ],
            "text/plain": [
              "<IPython.core.display.HTML object>"
            ]
          },
          "metadata": {}
        },
        {
          "output_type": "stream",
          "name": "stderr",
          "text": [
            "\u001b[34m\u001b[1mwandb\u001b[0m: Wandb version 0.12.7 is available!  To upgrade, please run:\n",
            "\u001b[34m\u001b[1mwandb\u001b[0m:  $ pip install wandb --upgrade\n"
          ]
        },
        {
          "output_type": "stream",
          "name": "stdout",
          "text": [
            "Epoch 1/35\n",
            "2/2 [==============================] - 0s 159ms/step - loss: 2.2203 - accuracy: 0.2400 - val_loss: 1.9473 - val_accuracy: 0.2640\n",
            "Epoch 2/35\n",
            "2/2 [==============================] - 0s 51ms/step - loss: 1.9960 - accuracy: 0.2960 - val_loss: 1.5518 - val_accuracy: 0.4680\n",
            "Epoch 3/35\n",
            "2/2 [==============================] - 0s 65ms/step - loss: 1.3745 - accuracy: 0.5280 - val_loss: 1.4154 - val_accuracy: 0.4200\n",
            "Epoch 4/35\n",
            "2/2 [==============================] - 0s 49ms/step - loss: 1.3023 - accuracy: 0.4720 - val_loss: 1.4442 - val_accuracy: 0.3480\n",
            "Epoch 5/35\n",
            "2/2 [==============================] - 0s 67ms/step - loss: 1.3270 - accuracy: 0.4800 - val_loss: 1.2672 - val_accuracy: 0.4560\n",
            "Epoch 6/35\n",
            "2/2 [==============================] - 0s 50ms/step - loss: 1.0943 - accuracy: 0.5280 - val_loss: 1.2780 - val_accuracy: 0.4880\n",
            "Epoch 7/35\n",
            "1/2 [==============>...............] - ETA: 0s - loss: 1.1143 - accuracy: 0.5469Restoring model weights from the end of the best epoch: 5.\n",
            "2/2 [==============================] - 0s 37ms/step - loss: 1.1294 - accuracy: 0.5680 - val_loss: 1.3423 - val_accuracy: 0.5200\n",
            "Epoch 00007: early stopping\n"
          ]
        },
        {
          "output_type": "display_data",
          "data": {
            "image/png": "[encoded data removed]",
            "text/plain": [
              "<Figure size 432x288 with 1 Axes>"
            ]
          },
          "metadata": {
            "needs_background": "light"
          }
        }
      ]
    },
    {
      "cell_type": "markdown",
      "metadata": {
        "id": "RvWbbKNvvphv"
      },
      "source": [
        "## Visualization of the representations"
      ]
    },
    {
      "cell_type": "code",
      "metadata": {
        "id": "20t6aI9Ivsxe",
        "colab": {
          "base_uri": "https://localhost:8080/",
          "height": 123
        },
        "outputId": "ff8e26f7-e9be-4f52-e837-c904ab489995"
      },
      "source": [
        "wandb.init(project=\"simclr\", id=\"visualization\")"
      ],
      "execution_count": null,
      "outputs": [
        {
          "output_type": "display_data",
          "data": {
            "text/html": [
              "\n",
              "                Logging results to <a href=\"https://wandb.com\" target=\"_blank\">Weights & Biases</a> <a href=\"https://docs.wandb.com/integrations/jupyter.html\" target=\"_blank\">(Documentation)</a>.<br/>\n",
              "                Project page: <a href=\"https://app.wandb.ai/at_sjsu/simclr\" target=\"_blank\">https://app.wandb.ai/at_sjsu/simclr</a><br/>\n",
              "                Run page: <a href=\"https://app.wandb.ai/at_sjsu/simclr/runs/visualization\" target=\"_blank\">https://app.wandb.ai/at_sjsu/simclr/runs/visualization</a><br/>\n",
              "            "
            ],
            "text/plain": [
              "<IPython.core.display.HTML object>"
            ]
          },
          "metadata": {}
        },
        {
          "output_type": "stream",
          "name": "stderr",
          "text": [
            "\u001b[34m\u001b[1mwandb\u001b[0m: Wandb version 0.12.7 is available!  To upgrade, please run:\n",
            "\u001b[34m\u001b[1mwandb\u001b[0m:  $ pip install wandb --upgrade\n"
          ]
        },
        {
          "output_type": "execute_result",
          "data": {
            "text/plain": [
              "W&B Run: https://app.wandb.ai/at_sjsu/simclr/runs/visualization"
            ]
          },
          "metadata": {},
          "execution_count": 48
        }
      ]
    },
    {
      "cell_type": "code",
      "metadata": {
        "id": "gs5Lep1zmF9D"
      },
      "source": [
        "# Visualization of the representations\n",
        "def plot_vecs_n_labels(v, labels):\n",
        "    fig = plt.figure(figsize = (10, 10))\n",
        "    sns.set_style(\"darkgrid\")\n",
        "    sns.scatterplot(v[:,0], v[:,1], hue=labels, legend='full', palette=sns.color_palette(\"bright\", 5))\n",
        "    plt.show()\n",
        "\n",
        "    return fig"
      ],
      "execution_count": null,
      "outputs": []
    },
    {
      "cell_type": "code",
      "metadata": {
        "id": "EbvO5LSxnFdx",
        "colab": {
          "base_uri": "https://localhost:8080/",
          "height": 993
        },
        "outputId": "921b67f8-ea67-45de-94b9-6992ce54b24c"
      },
      "source": [
        "# Representations with no nonlinear projections\n",
        "tsne = TSNE()\n",
        "low_vectors = tsne.fit_transform(train_features)\n",
        "fig = plot_vecs_n_labels(low_vectors, y_train_enc)\n",
        "wandb.log({\"no_no_linear_projection\": fig})"
      ],
      "execution_count": null,
      "outputs": [
        {
          "output_type": "stream",
          "name": "stderr",
          "text": [
            "/usr/local/lib/python3.7/dist-packages/sklearn/manifold/_t_sne.py:783: FutureWarning: The default initialization in TSNE will change from 'random' to 'pca' in 1.2.\n",
            "  FutureWarning,\n",
            "/usr/local/lib/python3.7/dist-packages/sklearn/manifold/_t_sne.py:793: FutureWarning: The default learning rate in TSNE will change from 200.0 to 'auto' in 1.2.\n",
            "  FutureWarning,\n",
            "/usr/local/lib/python3.7/dist-packages/seaborn/_decorators.py:43: FutureWarning: Pass the following variables as keyword args: x, y. From version 0.12, the only valid positional argument will be `data`, and passing other arguments without an explicit keyword will result in an error or misinterpretation.\n",
            "  FutureWarning\n"
          ]
        },
        {
          "output_type": "display_data",
          "data": {
            "image/png": "[encoded data removed]",
            "text/plain": [
              "<Figure size 720x720 with 1 Axes>"
            ]
          },
          "metadata": {
            "needs_background": "light"
          }
        },
        {
          "output_type": "stream",
          "name": "stderr",
          "text": [
            "\u001b[34m\u001b[1mwandb\u001b[0m: Wandb version 0.12.7 is available!  To upgrade, please run:\n",
            "\u001b[34m\u001b[1mwandb\u001b[0m:  $ pip install wandb --upgrade\n",
            "/usr/local/lib/python3.7/dist-packages/plotly/matplotlylib/mpltools.py:368: MatplotlibDeprecationWarning:\n",
            "\n",
            "\n",
            "The is_frame_like function was deprecated in Matplotlib 3.1 and will be removed in 3.3.\n",
            "\n",
            "/usr/local/lib/python3.7/dist-packages/plotly/matplotlylib/renderer.py:474: UserWarning:\n",
            "\n",
            "Dang! That path collection is out of this world. I totally don't know what to do with it yet! Plotly can only import path collections linked to 'data' coordinates\n",
            "\n",
            "/usr/local/lib/python3.7/dist-packages/plotly/matplotlylib/renderer.py:512: UserWarning:\n",
            "\n",
            "I found a path object that I don't think is part of a bar chart. Ignoring.\n",
            "\n"
          ]
        }
      ]
    },
    {
      "cell_type": "code",
      "metadata": {
        "id": "JT18a-FFoiwJ",
        "colab": {
          "base_uri": "https://localhost:8080/",
          "height": 1000
        },
        "outputId": "065fa625-b6f6-450e-a66d-2b5ce9872174"
      },
      "source": [
        "# Representations with second last ReLU\n",
        "tsne = TSNE()\n",
        "projection = Model(resnet_simclr.input, resnet_simclr.layers[-4].output)\n",
        "train_features = projection.predict(X_train)\n",
        "low_vectors = tsne.fit_transform(train_features)\n",
        "fig = plot_vecs_n_labels(low_vectors, y_train_enc)\n",
        "wandb.log({\"second_last_relu\": fig})"
      ],
      "execution_count": null,
      "outputs": [
        {
          "output_type": "stream",
          "name": "stderr",
          "text": [
            "/usr/local/lib/python3.7/dist-packages/sklearn/manifold/_t_sne.py:783: FutureWarning:\n",
            "\n",
            "The default initialization in TSNE will change from 'random' to 'pca' in 1.2.\n",
            "\n",
            "/usr/local/lib/python3.7/dist-packages/sklearn/manifold/_t_sne.py:793: FutureWarning:\n",
            "\n",
            "The default learning rate in TSNE will change from 200.0 to 'auto' in 1.2.\n",
            "\n",
            "/usr/local/lib/python3.7/dist-packages/seaborn/_decorators.py:43: FutureWarning:\n",
            "\n",
            "Pass the following variables as keyword args: x, y. From version 0.12, the only valid positional argument will be `data`, and passing other arguments without an explicit keyword will result in an error or misinterpretation.\n",
            "\n"
          ]
        },
        {
          "output_type": "display_data",
          "data": {
            "image/png": "[encoded data removed]",
            "text/plain": [
              "<Figure size 720x720 with 1 Axes>"
            ]
          },
          "metadata": {}
        },
        {
          "output_type": "stream",
          "name": "stderr",
          "text": [
            "\u001b[34m\u001b[1mwandb\u001b[0m: Wandb version 0.12.7 is available!  To upgrade, please run:\n",
            "\u001b[34m\u001b[1mwandb\u001b[0m:  $ pip install wandb --upgrade\n",
            "/usr/local/lib/python3.7/dist-packages/plotly/matplotlylib/mpltools.py:368: MatplotlibDeprecationWarning:\n",
            "\n",
            "\n",
            "The is_frame_like function was deprecated in Matplotlib 3.1 and will be removed in 3.3.\n",
            "\n",
            "/usr/local/lib/python3.7/dist-packages/plotly/matplotlylib/renderer.py:474: UserWarning:\n",
            "\n",
            "Dang! That path collection is out of this world. I totally don't know what to do with it yet! Plotly can only import path collections linked to 'data' coordinates\n",
            "\n",
            "/usr/local/lib/python3.7/dist-packages/plotly/matplotlylib/renderer.py:512: UserWarning:\n",
            "\n",
            "I found a path object that I don't think is part of a bar chart. Ignoring.\n",
            "\n"
          ]
        }
      ]
    },
    {
      "cell_type": "code",
      "metadata": {
        "id": "JzXTGmJ_o8dy",
        "colab": {
          "base_uri": "https://localhost:8080/",
          "height": 1000
        },
        "outputId": "f0a929c8-a903-4428-e538-c108bb337598"
      },
      "source": [
        "# Representations with the last ReLU\n",
        "tsne = TSNE()\n",
        "projection = Model(resnet_simclr.input, resnet_simclr.layers[-2].output)\n",
        "train_features = projection.predict(X_train)\n",
        "low_vectors = tsne.fit_transform(train_features)\n",
        "fig = plot_vecs_n_labels(low_vectors, y_train_enc)\n",
        "wandb.log({\"last_relu\": fig})"
      ],
      "execution_count": null,
      "outputs": [
        {
          "output_type": "stream",
          "name": "stderr",
          "text": [
            "/usr/local/lib/python3.7/dist-packages/sklearn/manifold/_t_sne.py:783: FutureWarning:\n",
            "\n",
            "The default initialization in TSNE will change from 'random' to 'pca' in 1.2.\n",
            "\n",
            "/usr/local/lib/python3.7/dist-packages/sklearn/manifold/_t_sne.py:793: FutureWarning:\n",
            "\n",
            "The default learning rate in TSNE will change from 200.0 to 'auto' in 1.2.\n",
            "\n",
            "/usr/local/lib/python3.7/dist-packages/seaborn/_decorators.py:43: FutureWarning:\n",
            "\n",
            "Pass the following variables as keyword args: x, y. From version 0.12, the only valid positional argument will be `data`, and passing other arguments without an explicit keyword will result in an error or misinterpretation.\n",
            "\n"
          ]
        },
        {
          "output_type": "display_data",
          "data": {
            "image/png": "[encoded data removed]",
            "text/plain": [
              "<Figure size 720x720 with 1 Axes>"
            ]
          },
          "metadata": {}
        },
        {
          "output_type": "stream",
          "name": "stderr",
          "text": [
            "\u001b[34m\u001b[1mwandb\u001b[0m: Wandb version 0.12.7 is available!  To upgrade, please run:\n",
            "\u001b[34m\u001b[1mwandb\u001b[0m:  $ pip install wandb --upgrade\n",
            "/usr/local/lib/python3.7/dist-packages/plotly/matplotlylib/mpltools.py:368: MatplotlibDeprecationWarning:\n",
            "\n",
            "\n",
            "The is_frame_like function was deprecated in Matplotlib 3.1 and will be removed in 3.3.\n",
            "\n",
            "/usr/local/lib/python3.7/dist-packages/plotly/matplotlylib/renderer.py:474: UserWarning:\n",
            "\n",
            "Dang! That path collection is out of this world. I totally don't know what to do with it yet! Plotly can only import path collections linked to 'data' coordinates\n",
            "\n",
            "/usr/local/lib/python3.7/dist-packages/plotly/matplotlylib/renderer.py:512: UserWarning:\n",
            "\n",
            "I found a path object that I don't think is part of a bar chart. Ignoring.\n",
            "\n"
          ]
        }
      ]
    }
  ]
}