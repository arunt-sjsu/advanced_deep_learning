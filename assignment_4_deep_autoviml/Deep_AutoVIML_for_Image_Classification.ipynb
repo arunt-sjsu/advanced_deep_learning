{
  "nbformat": 4,
  "nbformat_minor": 0,
  "metadata": {
    "colab": {
      "name": "Deep AutoVIML for Image Classification.ipynb",
      "provenance": [],
      "collapsed_sections": []
    },
    "kernelspec": {
      "name": "python3",
      "display_name": "Python 3"
    },
    "language_info": {
      "name": "python"
    }
  },
  "cells": [
    {
      "cell_type": "markdown",
      "metadata": {
        "id": "o5civC-DKAJm"
      },
      "source": [
        "Image Classification\n"
      ]
    },
    {
      "cell_type": "code",
      "metadata": {
        "id": "N7ifZv04Iy-Y"
      },
      "source": [
        "from deep_autoviml import deep_autoviml as deepauto\n",
        "import numpy as np\n",
        "import pandas as pd\n",
        "from sklearn.model_selection import train_test_split\n",
        "from sklearn.preprocessing import StandardScaler\n",
        "import tensorflow as tf\n"
      ],
      "execution_count": null,
      "outputs": []
    },
    {
      "cell_type": "code",
      "metadata": {
        "id": "yL_rcH-VKEpO"
      },
      "source": [
        "BATCHSIZE = 256\n",
        "CLASSES = 10\n",
        "EPOCHS = 25\n",
        "NUM_TRIALS = 5\n"
      ],
      "execution_count": null,
      "outputs": []
    },
    {
      "cell_type": "code",
      "metadata": {
        "id": "7Cm_xNfTKJob"
      },
      "source": [
        "target = 'image' ### It doesn't matter what name you give for image target\n",
        "datapath = '../Ram/Data_Sets/'\n"
      ],
      "execution_count": null,
      "outputs": []
    },
    {
      "cell_type": "code",
      "metadata": {
        "id": "58tDnw31KOIl"
      },
      "source": [
        "image_dir = datapath+'beans/'\n",
        "img_height = 224\n",
        "img_width = 224\n",
        "img_channels = 3\n"
      ],
      "execution_count": null,
      "outputs": []
    },
    {
      "cell_type": "code",
      "metadata": {
        "id": "36ii-wQ7KQmG"
      },
      "source": [
        "keras_model_type =  \"image\" ## always try \"auto\" first, then \"basic\", \"deep\", \"big deep\", \"giant deep\", \"cnn1\" etc.\n",
        "keras_options = {\"early_stopping\": True, 'lr_scheduler': 'rlr', \"epochs\": 3}  ### always set early_stopping to True first and then change it to False\n",
        "model_options = {'tuner':\"optuna\", \"max_trials\":2, 'cat_feat_cross_flag':True, \n",
        "                 'image_directory': image_dir, 'image_height': img_height, \n",
        "                 'image_width':img_width, 'image_channels':img_channels }\n",
        "## always set the tuner to \"storm\" first and then \"optuna\"\n",
        "#### You always need 15 max_trials to get something decent #####\n"
      ],
      "execution_count": null,
      "outputs": []
    },
    {
      "cell_type": "code",
      "metadata": {
        "id": "TX8TCY7AKSqc"
      },
      "source": [
        "model, dicti = deepauto.fit(\"\", target, keras_model_type=keras_model_type, \n",
        "                            project_name='beans',\n",
        "                 save_model_flag=False, model_options=model_options,model_use_case='',\n",
        "                            keras_options=keras_options, use_my_model='', verbose=0)\n"
      ],
      "execution_count": null,
      "outputs": []
    },
    {
      "cell_type": "code",
      "metadata": {
        "id": "sAWslsdYKVQO"
      },
      "source": [
        "test_image_dir = datapath + 'beans/test'\n",
        "predictions = deepauto.predict_images(test_image_dir, model, dicti)\n"
      ],
      "execution_count": null,
      "outputs": []
    },
    {
      "cell_type": "code",
      "metadata": {
        "id": "U4bwRIAtKXb5"
      },
      "source": [
        "from sklearn.metrics import classification_report, confusion_matrix, mean_absolute_error, mean_squared_error\n",
        "#print(classification_report(test[target].values,predictions[1]))\n",
        "#print(np.sqrt(mean_squared_error(test[target].values,predictions[0])))\n"
      ],
      "execution_count": null,
      "outputs": []
    }
  ]
}