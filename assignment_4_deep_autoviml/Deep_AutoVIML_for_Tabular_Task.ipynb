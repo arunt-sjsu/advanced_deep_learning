{
  "nbformat": 4,
  "nbformat_minor": 0,
  "metadata": {
    "colab": {
      "name": "Deep AutoVIML for Tabular Task.ipynb",
      "provenance": []
    },
    "kernelspec": {
      "name": "python3",
      "display_name": "Python 3"
    },
    "language_info": {
      "name": "python"
    }
  },
  "cells": [
    {
      "cell_type": "code",
      "metadata": {
        "id": "E3vfg0MkG45h"
      },
      "source": [
        "! pip install deep_autoviml\n",
        "! pip install Generic_Functions "
      ],
      "execution_count": null,
      "outputs": []
    },
    {
      "cell_type": "markdown",
      "metadata": {
        "id": "75D6RvvbGlVT"
      },
      "source": [
        "Tabular task with including a free text column"
      ]
    },
    {
      "cell_type": "code",
      "metadata": {
        "id": "3hRbSaxZGbze"
      },
      "source": [
        "import pandas as pd\n",
        "import numpy as np\n",
        "from sklearn.model_selection import train_test_split\n",
        "from split_data_n_ways import split_data_n_ways, fast_classify_features\n",
        "from sklearn.preprocessing import LabelEncoder\n",
        "LLB = LabelEncoder()\n",
        "from deep_autoviml import deep_autoviml as deepauto\n"
      ],
      "execution_count": null,
      "outputs": []
    },
    {
      "cell_type": "code",
      "metadata": {
        "id": "kWrK1xWsHUeq"
      },
      "source": [
        "datapath = 'C:/Users/Ram/Documents/Ram/Data_Sets/'\n",
        "filename = 'titanic_train.csv'\n",
        "train_datafile = datapath+filename\n",
        "project_name = \"churn\"\n",
        "target = 'Survived'\n",
        "sep = ','\n"
      ],
      "execution_count": null,
      "outputs": []
    },
    {
      "cell_type": "code",
      "metadata": {
        "id": "ya_sJ_I4H92z"
      },
      "source": [
        "# load dataset\n",
        "train = pd.read_csv(train_datafile, header=0, sep=sep)\n",
        "print(train.shape)\n",
        "train.head(1)\n"
      ],
      "execution_count": null,
      "outputs": []
    },
    {
      "cell_type": "code",
      "metadata": {
        "id": "l97xOBf7ICJk"
      },
      "source": [
        "# split into input and output elements\n",
        "#train, test = train_test_split(train, test_size=0.2, random_state=99)\n",
        "filename = 'titanic_test.csv'\n",
        "url = datapath + filename\n",
        "test = pd.read_csv(url, header=0, sep=sep)\n",
        "print(train.shape, test.shape)\n",
        "test.head(1)\n"
      ],
      "execution_count": null,
      "outputs": []
    },
    {
      "cell_type": "code",
      "metadata": {
        "id": "I7GN1bf2IEqc"
      },
      "source": [
        "keras_model_type =  \"auto\" ## always try \"fast1\" first, then \"fast2\", then \"auto\".\n",
        "##  If NLP, use \"BERT\" and if image, use \"image\" for keras_model_type. ###\n",
        "model_options = {\"tuner\":\"optuna\", 'nlp_char_limit':10, 'cat_feat_cross_flag':False, 'max_trials': 5}\n",
        "keras_options = {\"patience\":10,'class_weight':True, \"early_stopping\": True, \"epochs\": 100}\n"
      ],
      "execution_count": null,
      "outputs": []
    },
    {
      "cell_type": "code",
      "metadata": {
        "id": "CF_e_wHpIGlY"
      },
      "source": [
        "output = deepauto.fit(train, target, keras_model_type,project_name=project_name, keras_options=keras_options,\n",
        "                 model_options=model_options, save_model_flag=False, use_my_model='', verbose=1)\n"
      ],
      "execution_count": null,
      "outputs": []
    },
    {
      "cell_type": "code",
      "metadata": {
        "id": "C8jLo6U0Ie1Y"
      },
      "source": [
        "model = output[0]\n",
        "cat_vocab_dict = output[1]\n"
      ],
      "execution_count": null,
      "outputs": []
    },
    {
      "cell_type": "code",
      "metadata": {
        "id": "3_NTvPaEIgyY"
      },
      "source": [
        "y_preds = deepauto.predict(model, project_name, test_dataset=test,\n",
        "                                 keras_model_type=keras_model_type, cat_vocab_dict=cat_vocab_dict)\n"
      ],
      "execution_count": null,
      "outputs": []
    },
    {
      "cell_type": "code",
      "metadata": {
        "id": "XTZpyaAmIi4m"
      },
      "source": [
        "y_test = test[target].values\n",
        "y_test.shape\n"
      ],
      "execution_count": null,
      "outputs": []
    },
    {
      "cell_type": "code",
      "metadata": {
        "id": "kuZgsZD1Ik1X"
      },
      "source": [
        "y_preds[0].shape\n"
      ],
      "execution_count": null,
      "outputs": []
    },
    {
      "cell_type": "code",
      "metadata": {
        "id": "00OgXWGYInj7"
      },
      "source": [
        "from deep_autoviml.utilities.utilities import print_classification_model_stats, print_regression_model_stats\n",
        "print_classification_model_stats(y_test, y_preds[1])\n"
      ],
      "execution_count": null,
      "outputs": []
    }
  ]
}