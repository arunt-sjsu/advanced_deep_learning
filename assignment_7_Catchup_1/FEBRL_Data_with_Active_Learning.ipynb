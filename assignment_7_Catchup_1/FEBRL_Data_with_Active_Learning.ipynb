{
  "cells": [
    {
      "cell_type": "markdown",
      "metadata": {
        "id": "view-in-github",
        "colab_type": "text"
      },
      "source": [
        "<a href=\"https://colab.research.google.com/github/arunt-sjsu/advanced_deep_learning/blob/main/assignment_7_Catchup_1/FEBRL_Data_with_Active_Learning.ipynb\" target=\"_parent\"><img src=\"https://colab.research.google.com/assets/colab-badge.svg\" alt=\"Open In Colab\"/></a>"
      ]
    },
    {
      "cell_type": "markdown",
      "metadata": {
        "id": "yn94EA23G5cu"
      },
      "source": [
        "# Use Active Learning to Link FEBRL People Data\n",
        "The following notebook is a replication of the active learning example using FEBRL dataset. \n",
        "\n",
        "We use dedeupe dataset to perform an active learning excercise and apply simsum classification."
      ]
    },
    {
      "cell_type": "markdown",
      "metadata": {
        "id": "S3tgpAwWG5cz"
      },
      "source": [
        "<a href=\"https://colab.research.google.com/github/rachhouse/intro-to-data-linking/blob/main/tutorial_notebooks/03_Link_FEBRL_Data_with_Active_Learning.ipynb\" target=\"_parent\"><img src=\"https://colab.research.google.com/assets/colab-badge.svg\" alt=\"Open In Colab\"></a>"
      ]
    },
    {
      "cell_type": "code",
      "execution_count": null,
      "metadata": {
        "id": "3sxUZ5wnG5c1"
      },
      "outputs": [],
      "source": [
        "import requests\n",
        "\n",
        "tutorial_functions_url = \"https://raw.githubusercontent.com/rachhouse/intro-to-data-linking/main/tutorial_notebooks/linking_tutorial_functions.py\"\n",
        "r = requests.get(tutorial_functions_url)\n",
        "    \n",
        "with open(\"linking_tutorial_functions.py\", \"w\") as fh:\n",
        "  fh.write(r.text)\n",
        "    \n",
        "!pip install -q altair dedupe dedupe-variable-name jellyfish recordlinkage \n",
        "!pip install -U numpy\n"
      ]
    },
    {
      "cell_type": "code",
      "execution_count": 1,
      "metadata": {
        "id": "8E-RhjM3G5c5",
        "colab": {
          "base_uri": "https://localhost:8080/"
        },
        "outputId": "899c08a0-e36b-444b-82c0-adc776907b65"
      },
      "outputs": [
        {
          "output_type": "stream",
          "name": "stderr",
          "text": [
            "INFO:root:Generating grammar tables from /usr/lib/python3.7/lib2to3/Grammar.txt\n",
            "INFO:root:Generating grammar tables from /usr/lib/python3.7/lib2to3/PatternGrammar.txt\n"
          ]
        }
      ],
      "source": [
        "import datetime\n",
        "import itertools\n",
        "import os\n",
        "import pathlib\n",
        "import re\n",
        "from typing import Any, Dict, Optional\n",
        "\n",
        "import dedupe\n",
        "import pandas as pd\n",
        "\n",
        "import linking_tutorial_functions as tutorial"
      ]
    },
    {
      "cell_type": "markdown",
      "metadata": {
        "id": "hGCphS16G5c6"
      },
      "source": [
        "## Define Working Filepaths"
      ]
    },
    {
      "cell_type": "markdown",
      "metadata": {
        "id": "ZXGJhhoaG5c7"
      },
      "source": [
        "For convenience, we'll define a `pathlib.Path` to reference our current working directory."
      ]
    },
    {
      "cell_type": "code",
      "execution_count": 2,
      "metadata": {
        "id": "ICc6kOMqG5c8",
        "colab": {
          "base_uri": "https://localhost:8080/"
        },
        "outputId": "a2388d83-8e54-4d90-99f5-8692583064b3"
      },
      "outputs": [
        {
          "output_type": "execute_result",
          "data": {
            "text/plain": [
              "PosixPath('/content')"
            ]
          },
          "metadata": {},
          "execution_count": 2
        }
      ],
      "source": [
        "WORKING_DIR = pathlib.Path(os.path.abspath(''))\n",
        "WORKING_DIR"
      ]
    },
    {
      "cell_type": "markdown",
      "metadata": {
        "id": "SB4LuMASG5c9"
      },
      "source": [
        "## Load Training Dataset and Ground Truth Labels"
      ]
    },
    {
      "cell_type": "code",
      "execution_count": 3,
      "metadata": {
        "id": "CzCwi7ATG5c9"
      },
      "outputs": [],
      "source": [
        "df_A, df_B, df_ground_truth = tutorial.load_febrl_training_data(True)"
      ]
    },
    {
      "cell_type": "markdown",
      "metadata": {
        "id": "acFNPQ5nG5c-"
      },
      "source": [
        "Let's take a quick look at our training dataset to refresh on the columns, formats, and data."
      ]
    },
    {
      "cell_type": "code",
      "execution_count": 4,
      "metadata": {
        "id": "B8hgFrQzG5c-",
        "colab": {
          "base_uri": "https://localhost:8080/",
          "height": 238
        },
        "outputId": "bec05dfe-b678-4dd5-ba7f-268eb2028bf9"
      },
      "outputs": [
        {
          "output_type": "execute_result",
          "data": {
            "text/html": [
              "<div>\n",
              "<style scoped>\n",
              "    .dataframe tbody tr th:only-of-type {\n",
              "        vertical-align: middle;\n",
              "    }\n",
              "\n",
              "    .dataframe tbody tr th {\n",
              "        vertical-align: top;\n",
              "    }\n",
              "\n",
              "    .dataframe thead th {\n",
              "        text-align: right;\n",
              "    }\n",
              "</style>\n",
              "<table border=\"1\" class=\"dataframe\">\n",
              "  <thead>\n",
              "    <tr style=\"text-align: right;\">\n",
              "      <th></th>\n",
              "      <th>first_name</th>\n",
              "      <th>surname</th>\n",
              "      <th>street_number</th>\n",
              "      <th>address_1</th>\n",
              "      <th>address_2</th>\n",
              "      <th>suburb</th>\n",
              "      <th>postcode</th>\n",
              "      <th>state</th>\n",
              "      <th>date_of_birth</th>\n",
              "      <th>age</th>\n",
              "      <th>phone_number</th>\n",
              "      <th>soc_sec_id</th>\n",
              "    </tr>\n",
              "    <tr>\n",
              "      <th>person_id_A</th>\n",
              "      <th></th>\n",
              "      <th></th>\n",
              "      <th></th>\n",
              "      <th></th>\n",
              "      <th></th>\n",
              "      <th></th>\n",
              "      <th></th>\n",
              "      <th></th>\n",
              "      <th></th>\n",
              "      <th></th>\n",
              "      <th></th>\n",
              "      <th></th>\n",
              "    </tr>\n",
              "  </thead>\n",
              "  <tbody>\n",
              "    <tr>\n",
              "      <th>fbc4143d-15f9-4f27-b5f0-dedbadce6616</th>\n",
              "      <td>matilda</td>\n",
              "      <td>struck</td>\n",
              "      <td>8</td>\n",
              "      <td>ballard place</td>\n",
              "      <td></td>\n",
              "      <td>west perth</td>\n",
              "      <td>2470</td>\n",
              "      <td>qld</td>\n",
              "      <td>19611002</td>\n",
              "      <td>32</td>\n",
              "      <td>03 05903135</td>\n",
              "      <td>8276847</td>\n",
              "    </tr>\n",
              "    <tr>\n",
              "      <th>48a56cad-7ba6-45e1-97cd-517ba65bdab5</th>\n",
              "      <td>lachlan</td>\n",
              "      <td>eglinton</td>\n",
              "      <td>36</td>\n",
              "      <td>kambalda crescent</td>\n",
              "      <td>villa 427</td>\n",
              "      <td>auburn</td>\n",
              "      <td>5109</td>\n",
              "      <td></td>\n",
              "      <td>19260108</td>\n",
              "      <td>27</td>\n",
              "      <td></td>\n",
              "      <td>9937958</td>\n",
              "    </tr>\n",
              "    <tr>\n",
              "      <th>b1792d21-e4be-4b86-8dea-454ffa5194c5</th>\n",
              "      <td>mikayla</td>\n",
              "      <td>asher</td>\n",
              "      <td>588</td>\n",
              "      <td>britten-jones drive</td>\n",
              "      <td></td>\n",
              "      <td>miami</td>\n",
              "      <td>4218</td>\n",
              "      <td>nsw</td>\n",
              "      <td>19251102</td>\n",
              "      <td>32</td>\n",
              "      <td>03 33770501</td>\n",
              "      <td>7017310</td>\n",
              "    </tr>\n",
              "    <tr>\n",
              "      <th>96653d73-bebc-4459-94f3-c3f0a8c514d4</th>\n",
              "      <td>grace</td>\n",
              "      <td>bristow</td>\n",
              "      <td>7</td>\n",
              "      <td></td>\n",
              "      <td>wandella park snowy</td>\n",
              "      <td>cardiff</td>\n",
              "      <td>6163</td>\n",
              "      <td>nsw</td>\n",
              "      <td>19400120</td>\n",
              "      <td></td>\n",
              "      <td>07 37864073</td>\n",
              "      <td>3535974</td>\n",
              "    </tr>\n",
              "    <tr>\n",
              "      <th>41f038b8-77c0-45a5-9e1f-e62b8637ffd1</th>\n",
              "      <td>wilson</td>\n",
              "      <td>bishop</td>\n",
              "      <td>11</td>\n",
              "      <td>chisholm street</td>\n",
              "      <td></td>\n",
              "      <td>bronte</td>\n",
              "      <td>2490</td>\n",
              "      <td>nsw</td>\n",
              "      <td>19210305</td>\n",
              "      <td>27</td>\n",
              "      <td>04 15209769</td>\n",
              "      <td>5573522</td>\n",
              "    </tr>\n",
              "  </tbody>\n",
              "</table>\n",
              "</div>"
            ],
            "text/plain": [
              "                                     first_name  ... soc_sec_id\n",
              "person_id_A                                      ...           \n",
              "fbc4143d-15f9-4f27-b5f0-dedbadce6616    matilda  ...    8276847\n",
              "48a56cad-7ba6-45e1-97cd-517ba65bdab5    lachlan  ...    9937958\n",
              "b1792d21-e4be-4b86-8dea-454ffa5194c5    mikayla  ...    7017310\n",
              "96653d73-bebc-4459-94f3-c3f0a8c514d4      grace  ...    3535974\n",
              "41f038b8-77c0-45a5-9e1f-e62b8637ffd1     wilson  ...    5573522\n",
              "\n",
              "[5 rows x 12 columns]"
            ]
          },
          "metadata": {},
          "execution_count": 4
        }
      ],
      "source": [
        "df_A.head()"
      ]
    },
    {
      "cell_type": "markdown",
      "metadata": {
        "id": "gucoMJNvG5c_"
      },
      "source": [
        "## Data Augmentation"
      ]
    },
    {
      "cell_type": "markdown",
      "metadata": {
        "id": "WJNjL3E-G5c_"
      },
      "source": [
        "We'll do minimal data augmentation before feeding our training data to `dedupe`; we just want to format the date of birth data as `mm/dd/yy`, and ensure all columns are in string format and stripped of trailing/leading whitespace. Additionally, `dedupe` requires input data to be in dictionaries, using the record id as the key and the record metadata as the value. So, we'll convert our dataframes to this format."
      ]
    },
    {
      "cell_type": "code",
      "execution_count": 5,
      "metadata": {
        "id": "ytzNm8OAG5dA"
      },
      "outputs": [],
      "source": [
        "def format_dob(dob: str) -> Optional[str]:\n",
        "    \"\"\" Transform date of birth format from YYYYMMDD to mm/dd/yy.\n",
        "        If DOB cannot be transformed, return None.\n",
        "    \"\"\"\n",
        "    try:\n",
        "        if re.match(r\"\\d{8}\", dob):\n",
        "            return (datetime.datetime.strptime(dob, \"%Y%m%d\")).strftime(\"%m/%d/%y\")\n",
        "    except:\n",
        "        pass\n",
        "\n",
        "    return None\n",
        "\n",
        "def strip_and_null(x: Any) -> Optional[str]:\n",
        "    \"\"\" Stringify incoming variable, remove trailing/leading whitespace\n",
        "        and return resulting string. Return None if resulting string is empty.\n",
        "    \"\"\"\n",
        "    x = str(x).strip()\n",
        "    \n",
        "    if x == \"\":\n",
        "        return None\n",
        "    else:\n",
        "        return x\n",
        "    \n",
        "def convert_df_to_dict(df: pd.DataFrame) -> Dict[str, Dict]:\n",
        "    \"\"\" Convert pandas DataFrame to dict keyed by record id.\n",
        "        Convert all fields to strings or Nones to satisfy dedupe.\n",
        "        Transform date format of date_of_birth field.\n",
        "    \"\"\"    \n",
        "\n",
        "    for col in df.columns:\n",
        "        df[col] = df[col].apply(lambda x: strip_and_null(x))\n",
        "\n",
        "    df[\"date_of_birth\"] = df[\"date_of_birth\"].apply(lambda x: format_dob(x))    \n",
        "\n",
        "    return df.to_dict(\"index\")"
      ]
    },
    {
      "cell_type": "code",
      "execution_count": 6,
      "metadata": {
        "id": "mhV4vpAlG5dB"
      },
      "outputs": [],
      "source": [
        "records_A = convert_df_to_dict(df_A)\n",
        "records_B = convert_df_to_dict(df_B)"
      ]
    },
    {
      "cell_type": "markdown",
      "metadata": {
        "id": "wLCG2lFaG5dB"
      },
      "source": [
        "We can examine a small sample of the resulting transformed records:"
      ]
    },
    {
      "cell_type": "code",
      "execution_count": 8,
      "metadata": {
        "id": "7HEh60EhG5dC",
        "colab": {
          "base_uri": "https://localhost:8080/"
        },
        "outputId": "bfbe3a7d-5a03-44f9-b76a-ec6a939b0f55"
      },
      "outputs": [
        {
          "output_type": "execute_result",
          "data": {
            "text/plain": [
              "[{'address_1': 'ballard place',\n",
              "  'address_2': None,\n",
              "  'age': '32',\n",
              "  'date_of_birth': '10/02/61',\n",
              "  'first_name': 'matilda',\n",
              "  'phone_number': '03 05903135',\n",
              "  'postcode': '2470',\n",
              "  'soc_sec_id': '8276847',\n",
              "  'state': 'qld',\n",
              "  'street_number': '8',\n",
              "  'suburb': 'west perth',\n",
              "  'surname': 'struck'},\n",
              " {'address_1': 'kambalda crescent',\n",
              "  'address_2': 'villa 427',\n",
              "  'age': '27',\n",
              "  'date_of_birth': '01/08/26',\n",
              "  'first_name': 'lachlan',\n",
              "  'phone_number': None,\n",
              "  'postcode': '5109',\n",
              "  'soc_sec_id': '9937958',\n",
              "  'state': None,\n",
              "  'street_number': '36',\n",
              "  'suburb': 'auburn',\n",
              "  'surname': 'eglinton'}]"
            ]
          },
          "metadata": {},
          "execution_count": 8
        }
      ],
      "source": [
        "[records_A[k] for k in list(records_A.keys())[0:2]]"
      ]
    },
    {
      "cell_type": "markdown",
      "metadata": {
        "id": "LKCBoCpyG5dC"
      },
      "source": [
        "## Prepare Training"
      ]
    },
    {
      "cell_type": "markdown",
      "metadata": {
        "id": "VubvFHqQG5dF"
      },
      "source": [
        "When we linked our data via SimSum and supervised learning, we defined our blockers and comparators manually with `recordlinkage`. The `dedupe` library takes an active learning approach to blocking and classification and will use our feedback gathered during the labeling session to learn blocking rules and train a classifier. \n",
        "\n",
        "To prepare our `dedupe.RecordLink` object for training, first we'll define the fields that we think `dedupe` should pay attention to when matching records - these definitions will serve as the comparators. The `field` contains the name of the attribute to use for comparison, and the `type` defines the comparison type."
      ]
    },
    {
      "cell_type": "code",
      "execution_count": 15,
      "metadata": {
        "id": "VMW6irLkG5dG",
        "colab": {
          "base_uri": "https://localhost:8080/"
        },
        "outputId": "513f0427-930a-4d7c-c84f-1f0d3570b4a7"
      },
      "outputs": [
        {
          "output_type": "stream",
          "name": "stderr",
          "text": [
            "INFO:dedupe.canopy_index:Removing stop word re\n",
            "INFO:dedupe.training:Final predicate set:\n",
            "INFO:dedupe.training:SimplePredicate: (dayPredicate, date_of_birth)\n"
          ]
        },
        {
          "output_type": "stream",
          "name": "stdout",
          "text": [
            "CPU times: user 58.8 s, sys: 735 ms, total: 59.6 s\n",
            "Wall time: 59.1 s\n"
          ]
        }
      ],
      "source": [
        "%%time\n",
        "\n",
        "fields = [\n",
        "    { \"field\" : \"first_name\", \"type\" : \"Name\" },\n",
        "    { \"field\" : \"surname\", \"type\" : \"Name\" },\n",
        "    { \"field\" : \"address_1\", \"type\" : \"ShortString\" },\n",
        "    { \"field\" : \"address_2\", \"type\" : \"ShortString\" },\n",
        "    { \"field\" : \"suburb\", \"type\" : \"ShortString\" },\n",
        "    { \"field\" : \"postcode\", \"type\" : \"Exact\" },\n",
        "    { \"field\" : \"state\", \"type\" : \"Exact\" },\n",
        "    { \"field\" : \"date_of_birth\", \"type\" : \"DateTime\" },\n",
        "    { \"field\" : \"soc_sec_id\", \"type\" : \"Exact\" },\n",
        "]\n",
        "\n",
        "linker = dedupe.RecordLink(fields)\n",
        "linker.prepare_training(records_A, records_B)"
      ]
    },
    {
      "cell_type": "markdown",
      "metadata": {
        "id": "mZnuPN6iG5dG"
      },
      "source": [
        "## Active Learning Labeling Session!"
      ]
    },
    {
      "cell_type": "markdown",
      "metadata": {
        "id": "taNW1gCVG5dG"
      },
      "source": [
        "At this point, we're ready to provide feedback to `dedupe` via an active learning labeling session. For this, `dedupe` supplies a convenience method to iterate through pairs it is uncertain about. As you provide feedback for each pair, dedupe learns blocking rules and recalculates its linking model weights.\n",
        "\n",
        "You can use `y` (yes, match), `n` (no, not match), and `u` (unsure) to provide feedback on candidate links. When you're ready to exit the labeling session, use `f`."
      ]
    },
    {
      "cell_type": "code",
      "execution_count": 16,
      "metadata": {
        "id": "PbKHCUlUG5dH",
        "colab": {
          "base_uri": "https://localhost:8080/"
        },
        "outputId": "3ec601c4-5b26-462a-f421-452e2a82fe5f"
      },
      "outputs": [
        {
          "output_type": "stream",
          "name": "stderr",
          "text": [
            "first_name : fergus\n",
            "surname : yialas\n",
            "address_1 : dutton street\n",
            "address_2 : None\n",
            "suburb : lalor\n",
            "postcode : 2350\n",
            "state : tas\n",
            "date_of_birth : 05/06/41\n",
            "soc_sec_id : 5690786\n",
            "\n",
            "first_name : joshu\n",
            "surname : webb\n",
            "address_1 : None\n",
            "address_2 : None\n",
            "suburb : lalor\n",
            "postcode : 5500\n",
            "state : None\n",
            "date_of_birth : 07/16/04\n",
            "soc_sec_id : 9699819\n",
            "\n",
            "0/10 positive, 0/10 negative\n",
            "Do these records refer to the same thing?\n",
            "(y)es / (n)o / (u)nsure / (f)inished\n"
          ]
        },
        {
          "name": "stdout",
          "output_type": "stream",
          "text": [
            "n\n"
          ]
        },
        {
          "output_type": "stream",
          "name": "stderr",
          "text": [
            "first_name : kazuki\n",
            "surname : rook\n",
            "address_1 : None\n",
            "address_2 : parklands village\n",
            "suburb : allambie\n",
            "postcode : 4340\n",
            "state : qld\n",
            "date_of_birth : 11/20/60\n",
            "soc_sec_id : 4589956\n",
            "\n",
            "first_name : kazu ji\n",
            "surname : rook\n",
            "address_1 : None\n",
            "address_2 : parklands village\n",
            "suburb : allambie\n",
            "postcode : 4340\n",
            "state : qc\n",
            "date_of_birth : 12/10/60\n",
            "soc_sec_id : 4589956\n",
            "\n",
            "0/10 positive, 1/10 negative\n",
            "Do these records refer to the same thing?\n",
            "(y)es / (n)o / (u)nsure / (f)inished / (p)revious\n"
          ]
        },
        {
          "name": "stdout",
          "output_type": "stream",
          "text": [
            "y\n"
          ]
        },
        {
          "output_type": "stream",
          "name": "stderr",
          "text": [
            "first_name : niamh\n",
            "surname : nan\n",
            "address_1 : phillip avenue\n",
            "address_2 : parlour mountain\n",
            "suburb : None\n",
            "postcode : 3939\n",
            "state : vic\n",
            "date_of_birth : 11/17/99\n",
            "soc_sec_id : 8913923\n",
            "\n",
            "first_name : hannah\n",
            "surname : nan\n",
            "address_1 : None\n",
            "address_2 : gumnut cottage\n",
            "suburb : ryde\n",
            "postcode : 2220\n",
            "state : vig\n",
            "date_of_birth : None\n",
            "soc_sec_id : 2342535\n",
            "\n",
            "1/10 positive, 1/10 negative\n",
            "Do these records refer to the same thing?\n",
            "(y)es / (n)o / (u)nsure / (f)inished / (p)revious\n"
          ]
        },
        {
          "name": "stdout",
          "output_type": "stream",
          "text": [
            "n\n"
          ]
        },
        {
          "output_type": "stream",
          "name": "stderr",
          "text": [
            "INFO:dedupe.training:Final predicate set:\n",
            "INFO:dedupe.training:SimplePredicate: (wholeFieldPredicate, soc_sec_id)\n",
            "first_name : bodhi\n",
            "surname : conaghty\n",
            "address_1 : henty street\n",
            "address_2 : mendip lodge\n",
            "suburb : pymble\n",
            "postcode : 7315\n",
            "state : nsw\n",
            "date_of_birth : 12/20/76\n",
            "soc_sec_id : 6959141\n",
            "\n",
            "first_name : bodhl\n",
            "surname : conaghty\n",
            "address_1 : henty street\n",
            "address_2 : mendip lodge\n",
            "suburb : pymble\n",
            "postcode : 7315\n",
            "state : nsw\n",
            "date_of_birth : 12/20/76\n",
            "soc_sec_id : 9087838\n",
            "\n",
            "1/10 positive, 2/10 negative\n",
            "Do these records refer to the same thing?\n",
            "(y)es / (n)o / (u)nsure / (f)inished / (p)revious\n"
          ]
        },
        {
          "name": "stdout",
          "output_type": "stream",
          "text": [
            "y\n"
          ]
        },
        {
          "output_type": "stream",
          "name": "stderr",
          "text": [
            "first_name : barnaby\n",
            "surname : krix\n",
            "address_1 : leslie street\n",
            "address_2 : mirani\n",
            "suburb : bargara\n",
            "postcode : 4500\n",
            "state : qld\n",
            "date_of_birth : 06/30/59\n",
            "soc_sec_id : 1474782\n",
            "\n",
            "first_name : bafsh\n",
            "surname : krix\n",
            "address_1 : leslie atreet\n",
            "address_2 : mirani\n",
            "suburb : bargara\n",
            "postcode : 4500\n",
            "state : qld\n",
            "date_of_birth : 06/30/59\n",
            "soc_sec_id : 1474982\n",
            "\n",
            "2/10 positive, 2/10 negative\n",
            "Do these records refer to the same thing?\n",
            "(y)es / (n)o / (u)nsure / (f)inished / (p)revious\n"
          ]
        },
        {
          "name": "stdout",
          "output_type": "stream",
          "text": [
            "y\n"
          ]
        },
        {
          "output_type": "stream",
          "name": "stderr",
          "text": [
            "INFO:dedupe.training:Final predicate set:\n",
            "INFO:dedupe.training:SimplePredicate: (wholeFieldPredicate, soc_sec_id)\n",
            "INFO:dedupe.training:PartialPredicate: (tokenFieldPredicate, surname, CorporationName)\n",
            "first_name : jazz\n",
            "surname : clarke\n",
            "address_1 : maccallum circuit\n",
            "address_2 : None\n",
            "suburb : bayview\n",
            "postcode : 3152\n",
            "state : vic\n",
            "date_of_birth : 01/11/96\n",
            "soc_sec_id : 4459305\n",
            "\n",
            "first_name : jazz\n",
            "surname : clarje\n",
            "address_1 : maccallum circuit\n",
            "address_2 : None\n",
            "suburb : bayview\n",
            "postcode : 3152\n",
            "state : vic\n",
            "date_of_birth : 01/11/96\n",
            "soc_sec_id : 4453905\n",
            "\n",
            "3/10 positive, 2/10 negative\n",
            "Do these records refer to the same thing?\n",
            "(y)es / (n)o / (u)nsure / (f)inished / (p)revious\n"
          ]
        },
        {
          "name": "stdout",
          "output_type": "stream",
          "text": [
            "y\n"
          ]
        },
        {
          "output_type": "stream",
          "name": "stderr",
          "text": [
            "INFO:dedupe.training:Final predicate set:\n",
            "INFO:dedupe.training:SimplePredicate: (dayPredicate, date_of_birth)\n",
            "INFO:dedupe.training:SimplePredicate: (firstTwoTokensPredicate, address_2)\n",
            "first_name : emiily\n",
            "surname : lowe\n",
            "address_1 : pollock street\n",
            "address_2 : beechworth\n",
            "suburb : madora\n",
            "postcode : 5161\n",
            "state : vic\n",
            "date_of_birth : 06/03/88\n",
            "soc_sec_id : 6055911\n",
            "\n",
            "first_name : philipp\n",
            "surname : lowe\n",
            "address_1 : pollock street\n",
            "address_2 : beechworth\n",
            "suburb : madora\n",
            "postcode : 5161\n",
            "state : vic\n",
            "date_of_birth : None\n",
            "soc_sec_id : 6055911\n",
            "\n",
            "4/10 positive, 2/10 negative\n",
            "Do these records refer to the same thing?\n",
            "(y)es / (n)o / (u)nsure / (f)inished / (p)revious\n"
          ]
        },
        {
          "name": "stdout",
          "output_type": "stream",
          "text": [
            "n\n"
          ]
        },
        {
          "output_type": "stream",
          "name": "stderr",
          "text": [
            "first_name : lachlan\n",
            "surname : warrior\n",
            "address_1 : sheaffe street\n",
            "address_2 : None\n",
            "suburb : wendouree\n",
            "postcode : 3199\n",
            "state : sa\n",
            "date_of_birth : None\n",
            "soc_sec_id : 4453394\n",
            "\n",
            "first_name : laclhal\n",
            "surname : warrior\n",
            "address_1 : sheaffe street\n",
            "address_2 : None\n",
            "suburb : wendouree\n",
            "postcode : 3199\n",
            "state : nse\n",
            "date_of_birth : None\n",
            "soc_sec_id : 4453394\n",
            "\n",
            "4/10 positive, 3/10 negative\n",
            "Do these records refer to the same thing?\n",
            "(y)es / (n)o / (u)nsure / (f)inished / (p)revious\n"
          ]
        },
        {
          "name": "stdout",
          "output_type": "stream",
          "text": [
            "y\n"
          ]
        },
        {
          "output_type": "stream",
          "name": "stderr",
          "text": [
            "first_name : michael\n",
            "surname : bishop\n",
            "address_1 : mueller street\n",
            "address_2 : None\n",
            "suburb : scarborough\n",
            "postcode : 3121\n",
            "state : None\n",
            "date_of_birth : 07/25/08\n",
            "soc_sec_id : 6087264\n",
            "\n",
            "first_name : mirah\n",
            "surname : bishp\n",
            "address_1 : mueller street\n",
            "address_2 : None\n",
            "suburb : scarborough\n",
            "postcode : 3121\n",
            "state : None\n",
            "date_of_birth : 07/17/08\n",
            "soc_sec_id : 6087264\n",
            "\n",
            "5/10 positive, 3/10 negative\n",
            "Do these records refer to the same thing?\n",
            "(y)es / (n)o / (u)nsure / (f)inished / (p)revious\n"
          ]
        },
        {
          "name": "stdout",
          "output_type": "stream",
          "text": [
            "y\n"
          ]
        },
        {
          "output_type": "stream",
          "name": "stderr",
          "text": [
            "INFO:dedupe.training:Final predicate set:\n",
            "INFO:dedupe.training:SimplePredicate: (dayPredicate, date_of_birth)\n",
            "INFO:dedupe.training:SimplePredicate: (wholeFieldPredicate, soc_sec_id)\n",
            "first_name : jordyn\n",
            "surname : millar\n",
            "address_1 : baracchi crescent\n",
            "address_2 : wayamba\n",
            "suburb : carine\n",
            "postcode : 4012\n",
            "state : vic\n",
            "date_of_birth : 02/14/92\n",
            "soc_sec_id : 6169602\n",
            "\n",
            "first_name : jordyn\n",
            "surname : millar\n",
            "address_1 : baracchi crescent\n",
            "address_2 : None\n",
            "suburb : carine\n",
            "postcode : 4012\n",
            "state : None\n",
            "date_of_birth : 03/14/92\n",
            "soc_sec_id : 6169621\n",
            "\n",
            "6/10 positive, 3/10 negative\n",
            "Do these records refer to the same thing?\n",
            "(y)es / (n)o / (u)nsure / (f)inished / (p)revious\n"
          ]
        },
        {
          "name": "stdout",
          "output_type": "stream",
          "text": [
            "y\n"
          ]
        },
        {
          "output_type": "stream",
          "name": "stderr",
          "text": [
            "first_name : claudia\n",
            "surname : moscatt\n",
            "address_1 : emu bank street\n",
            "address_2 : brookfield\n",
            "suburb : cundletown\n",
            "postcode : 2500\n",
            "state : None\n",
            "date_of_birth : 12/21/19\n",
            "soc_sec_id : 2577386\n",
            "\n",
            "first_name : claudis\n",
            "surname : moscatt\n",
            "address_1 : emu bank street\n",
            "address_2 : brookfield\n",
            "suburb : cundletown\n",
            "postcode : 2500\n",
            "state : None\n",
            "date_of_birth : 11/21/19\n",
            "soc_sec_id : 2577368\n",
            "\n",
            "7/10 positive, 3/10 negative\n",
            "Do these records refer to the same thing?\n",
            "(y)es / (n)o / (u)nsure / (f)inished / (p)revious\n"
          ]
        },
        {
          "name": "stdout",
          "output_type": "stream",
          "text": [
            "y\n"
          ]
        },
        {
          "output_type": "stream",
          "name": "stderr",
          "text": [
            "INFO:dedupe.training:Final predicate set:\n",
            "INFO:dedupe.training:SimplePredicate: (wholeFieldPredicate, address_1)\n",
            "INFO:dedupe.training:SimplePredicate: (twoGramFingerprint, address_2)\n",
            "first_name : jarryd\n",
            "surname : white\n",
            "address_1 : sturgeon street\n",
            "address_2 : None\n",
            "suburb : mount colah\n",
            "postcode : 2800\n",
            "state : qld\n",
            "date_of_birth : 05/21/29\n",
            "soc_sec_id : 9569060\n",
            "\n",
            "first_name : nan\n",
            "surname : white\n",
            "address_1 : None\n",
            "address_2 : None\n",
            "suburb : mount colah\n",
            "postcode : 2800\n",
            "state : qldo\n",
            "date_of_birth : 05/21/29\n",
            "soc_sec_id : 9569068\n",
            "\n",
            "8/10 positive, 3/10 negative\n",
            "Do these records refer to the same thing?\n",
            "(y)es / (n)o / (u)nsure / (f)inished / (p)revious\n"
          ]
        },
        {
          "name": "stdout",
          "output_type": "stream",
          "text": [
            "u\n"
          ]
        },
        {
          "output_type": "stream",
          "name": "stderr",
          "text": [
            "first_name : toby\n",
            "surname : dent\n",
            "address_1 : studley street\n",
            "address_2 : sunnydale cottage\n",
            "suburb : bowral\n",
            "postcode : 2450\n",
            "state : wa\n",
            "date_of_birth : 04/02/81\n",
            "soc_sec_id : 9402107\n",
            "\n",
            "first_name : toby\n",
            "surname : de nd\n",
            "address_1 : None\n",
            "address_2 : None\n",
            "suburb : bowral\n",
            "postcode : 2450\n",
            "state : wa\n",
            "date_of_birth : 04/02/81\n",
            "soc_sec_id : 9402107\n",
            "\n",
            "8/10 positive, 3/10 negative\n",
            "Do these records refer to the same thing?\n",
            "(y)es / (n)o / (u)nsure / (f)inished / (p)revious\n"
          ]
        },
        {
          "name": "stdout",
          "output_type": "stream",
          "text": [
            "y\n"
          ]
        },
        {
          "output_type": "stream",
          "name": "stderr",
          "text": [
            "first_name : annalise\n",
            "surname : crlik\n",
            "address_1 : None\n",
            "address_2 : the crater\n",
            "suburb : melville\n",
            "postcode : 3460\n",
            "state : nsw\n",
            "date_of_birth : 10/05/45\n",
            "soc_sec_id : 3039405\n",
            "\n",
            "first_name : annalise\n",
            "surname : crlih\n",
            "address_1 : None\n",
            "address_2 : None\n",
            "suburb : melville\n",
            "postcode : 3460\n",
            "state : None\n",
            "date_of_birth : 10/05/45\n",
            "soc_sec_id : 3039405\n",
            "\n",
            "9/10 positive, 3/10 negative\n",
            "Do these records refer to the same thing?\n",
            "(y)es / (n)o / (u)nsure / (f)inished / (p)revious\n"
          ]
        },
        {
          "name": "stdout",
          "output_type": "stream",
          "text": [
            "y\n"
          ]
        },
        {
          "output_type": "stream",
          "name": "stderr",
          "text": [
            "INFO:dedupe.training:Final predicate set:\n",
            "INFO:dedupe.training:SimplePredicate: (wholeFieldPredicate, address_1)\n",
            "INFO:dedupe.training:SimplePredicate: (dayPredicate, date_of_birth)\n",
            "INFO:dedupe.training:SimplePredicate: (firstTwoTokensPredicate, address_2)\n",
            "first_name : chelsea\n",
            "surname : lyden\n",
            "address_1 : corroboree park\n",
            "address_2 : None\n",
            "suburb : broken hill\n",
            "postcode : 6232\n",
            "state : nsw\n",
            "date_of_birth : 08/17/87\n",
            "soc_sec_id : 1169181\n",
            "\n",
            "first_name : chelsea\n",
            "surname : lyden\n",
            "address_1 : corroboiee park\n",
            "address_2 : None\n",
            "suburb : broken hill\n",
            "postcode : 6232\n",
            "state : ns\n",
            "date_of_birth : 08/27/87\n",
            "soc_sec_id : 1169181\n",
            "\n",
            "10/10 positive, 3/10 negative\n",
            "Do these records refer to the same thing?\n",
            "(y)es / (n)o / (u)nsure / (f)inished / (p)revious\n"
          ]
        },
        {
          "name": "stdout",
          "output_type": "stream",
          "text": [
            "f\n"
          ]
        },
        {
          "output_type": "stream",
          "name": "stderr",
          "text": [
            "Finished labeling\n"
          ]
        }
      ],
      "source": [
        "dedupe.console_label(linker)"
      ]
    },
    {
      "cell_type": "markdown",
      "metadata": {
        "id": "BCKnlReIG5dH"
      },
      "source": [
        "We can now train our linker, based on the labeling session feedback."
      ]
    },
    {
      "cell_type": "code",
      "execution_count": 17,
      "metadata": {
        "id": "XJ_r4-WpG5dH",
        "colab": {
          "base_uri": "https://localhost:8080/"
        },
        "outputId": "da1a5060-fb4c-47a3-9dfa-f644a1a94b10"
      },
      "outputs": [
        {
          "output_type": "stream",
          "name": "stderr",
          "text": [
            "INFO:rlr.crossvalidation:using cross validation to find optimum alpha...\n",
            "/usr/local/lib/python3.7/dist-packages/rlr/crossvalidation.py:122: RuntimeWarning: invalid value encountered in double_scalars\n",
            "  * (true_distinct + false_distinct)))\n",
            "INFO:rlr.crossvalidation:optimum alpha: 0.000100, score 0.01041666666666667\n",
            "INFO:dedupe.training:Final predicate set:\n",
            "INFO:dedupe.training:(SimplePredicate: (monthPredicate, date_of_birth), SimplePredicate: (sameThreeCharStartPredicate, surname), SimplePredicate: (fingerprint, suburb))\n",
            "INFO:dedupe.training:(TfidfNGramSearchPredicate: (0.8, suburb), SimplePredicate: (commonSixGram, surname), SimplePredicate: (exclusiveDayPredicate, date_of_birth))\n",
            "INFO:dedupe.training:(SimplePredicate: (wholeFieldPredicate, soc_sec_id), PartialPredicate: (sameThreeCharStartPredicate, first_name, Surname), PartialPredicate: (suffixArray, surname, Surname))\n",
            "INFO:dedupe.training:(SimplePredicate: (firstTwoTokensPredicate, address_2), PartialPredicate: (tokenFieldPredicate, surname, Surname), SimplePredicate: (yearPredicate, date_of_birth))\n"
          ]
        },
        {
          "output_type": "stream",
          "name": "stdout",
          "text": [
            "CPU times: user 7.68 s, sys: 920 ms, total: 8.6 s\n",
            "Wall time: 7.7 s\n"
          ]
        }
      ],
      "source": [
        "%%time\n",
        "linker.train()"
      ]
    },
    {
      "cell_type": "markdown",
      "metadata": {
        "id": "V82UHwbJG5dH"
      },
      "source": [
        "Let's persist our training data (captured during in the labeling session), as well as the learned model weights."
      ]
    },
    {
      "cell_type": "code",
      "execution_count": 18,
      "metadata": {
        "id": "5d-LgNFiG5dH"
      },
      "outputs": [],
      "source": [
        "ACTIVE_LEARNING_DIR = WORKING_DIR / \"dedupe_active_learning\"\n",
        "ACTIVE_LEARNING_DIR.mkdir(parents=True, exist_ok=True)\n",
        "\n",
        "SETTINGS_FILE = ACTIVE_LEARNING_DIR / \"dedupe_learned_settings\"\n",
        "TRAINING_FILE = ACTIVE_LEARNING_DIR / \"dedupe_training.json\"\n",
        "\n",
        "with open(TRAINING_FILE, \"w\") as fh:\n",
        "    linker.write_training(fh)\n",
        "    \n",
        "with open(SETTINGS_FILE, \"wb\") as sf:\n",
        "    linker.write_settings(sf)"
      ]
    },
    {
      "cell_type": "markdown",
      "metadata": {
        "id": "1OrVpLvAG5dI"
      },
      "source": [
        "## Examine Learned Blockers"
      ]
    },
    {
      "cell_type": "markdown",
      "metadata": {
        "id": "qU9tIPj_G5dI"
      },
      "source": [
        "Now, let's take a look at the predicates (blockers) that `dedupe` learned during our active learning labeling session. Note that `dedupe` can learn composite predicates/blockers, i.e. individual predicates can be combined with logical operators."
      ]
    },
    {
      "cell_type": "code",
      "execution_count": 19,
      "metadata": {
        "id": "ZQjxmS7aG5dI",
        "colab": {
          "base_uri": "https://localhost:8080/"
        },
        "outputId": "b1e74f15-283e-4e02-94de-346a05a565fc"
      },
      "outputs": [
        {
          "output_type": "execute_result",
          "data": {
            "text/plain": [
              "((SimplePredicate: (monthPredicate, date_of_birth),\n",
              "  SimplePredicate: (sameThreeCharStartPredicate, surname),\n",
              "  SimplePredicate: (fingerprint, suburb)),\n",
              " (TfidfNGramSearchPredicate: (0.8, suburb),\n",
              "  SimplePredicate: (commonSixGram, surname),\n",
              "  SimplePredicate: (exclusiveDayPredicate, date_of_birth)),\n",
              " (SimplePredicate: (wholeFieldPredicate, soc_sec_id),\n",
              "  PartialPredicate: (sameThreeCharStartPredicate, first_name, Surname),\n",
              "  PartialPredicate: (suffixArray, surname, Surname)),\n",
              " (SimplePredicate: (firstTwoTokensPredicate, address_2),\n",
              "  PartialPredicate: (tokenFieldPredicate, surname, Surname),\n",
              "  SimplePredicate: (yearPredicate, date_of_birth)))"
            ]
          },
          "metadata": {},
          "execution_count": 19
        }
      ],
      "source": [
        "linker.predicates"
      ]
    },
    {
      "cell_type": "markdown",
      "metadata": {
        "id": "lL1YeU6jG5dJ"
      },
      "source": [
        "Next, let's examine the resulting candidate pairs and look at our blocking efficiency. The `.pairs` method will give us all candidate record pairs that are generated by blocking with the learned blockers."
      ]
    },
    {
      "cell_type": "code",
      "execution_count": 20,
      "metadata": {
        "id": "aNI8gwfNG5dJ",
        "colab": {
          "base_uri": "https://localhost:8080/"
        },
        "outputId": "b3fce6d6-aaa3-4c01-9f64-ac3ae402bb5c"
      },
      "outputs": [
        {
          "output_type": "stream",
          "name": "stdout",
          "text": [
            "1,190 candidate pairs generated from blocking.\n"
          ]
        }
      ],
      "source": [
        "candidate_pairs = [x for x in linker.pairs(records_A, records_B)]\n",
        "print(f\"{len(candidate_pairs):,} candidate pairs generated from blocking.\")"
      ]
    },
    {
      "cell_type": "markdown",
      "metadata": {
        "id": "t-XdIsxzG5dK"
      },
      "source": [
        "You'll notice that, in contrast to `recordlinkage`, our post-blocking candidate pairs contain both the record ids as well as the record metadata."
      ]
    },
    {
      "cell_type": "code",
      "execution_count": 21,
      "metadata": {
        "id": "WluKPhKSG5dK",
        "colab": {
          "base_uri": "https://localhost:8080/"
        },
        "outputId": "6a946fab-12ef-4785-dbc8-021917ac1a8a"
      },
      "outputs": [
        {
          "output_type": "execute_result",
          "data": {
            "text/plain": [
              "(('fbc4143d-15f9-4f27-b5f0-dedbadce6616',\n",
              "  {'address_1': 'ballard place',\n",
              "   'address_2': None,\n",
              "   'age': '32',\n",
              "   'date_of_birth': '10/02/61',\n",
              "   'first_name': 'matilda',\n",
              "   'phone_number': '03 05903135',\n",
              "   'postcode': '2470',\n",
              "   'soc_sec_id': '8276847',\n",
              "   'state': 'qld',\n",
              "   'street_number': '8',\n",
              "   'suburb': 'west perth',\n",
              "   'surname': 'struck'}),\n",
              " ('a9f5a761-83d6-452e-9f27-a452b3d06a4e',\n",
              "  {'address_1': 'ballard place',\n",
              "   'address_2': None,\n",
              "   'age': '32',\n",
              "   'date_of_birth': '10/02/61',\n",
              "   'first_name': 'matikda',\n",
              "   'phone_number': '03 05903135',\n",
              "   'postcode': '2407',\n",
              "   'soc_sec_id': '8276847',\n",
              "   'state': 'qld',\n",
              "   'street_number': '0',\n",
              "   'suburb': 'west perth',\n",
              "   'surname': 'strucl'}))"
            ]
          },
          "metadata": {},
          "execution_count": 21
        }
      ],
      "source": [
        "candidate_pairs[0]"
      ]
    },
    {
      "cell_type": "markdown",
      "metadata": {
        "id": "KdGjpxa1G5dL"
      },
      "source": [
        "We can assemble our candidate pair ids into an indexed pandas dataframe for easier comparision with our known true links."
      ]
    },
    {
      "cell_type": "code",
      "execution_count": 22,
      "metadata": {
        "id": "arZG7nZ0G5dL",
        "colab": {
          "base_uri": "https://localhost:8080/",
          "height": 220
        },
        "outputId": "d0c83162-1d8b-4c59-f2c6-859a7f4c09b8"
      },
      "outputs": [
        {
          "output_type": "execute_result",
          "data": {
            "text/html": [
              "<div>\n",
              "<style scoped>\n",
              "    .dataframe tbody tr th:only-of-type {\n",
              "        vertical-align: middle;\n",
              "    }\n",
              "\n",
              "    .dataframe tbody tr th {\n",
              "        vertical-align: top;\n",
              "    }\n",
              "\n",
              "    .dataframe thead th {\n",
              "        text-align: right;\n",
              "    }\n",
              "</style>\n",
              "<table border=\"1\" class=\"dataframe\">\n",
              "  <thead>\n",
              "    <tr style=\"text-align: right;\">\n",
              "      <th></th>\n",
              "      <th></th>\n",
              "    </tr>\n",
              "    <tr>\n",
              "      <th>person_id_A</th>\n",
              "      <th>person_id_B</th>\n",
              "    </tr>\n",
              "  </thead>\n",
              "  <tbody>\n",
              "    <tr>\n",
              "      <th>fbc4143d-15f9-4f27-b5f0-dedbadce6616</th>\n",
              "      <th>a9f5a761-83d6-452e-9f27-a452b3d06a4e</th>\n",
              "    </tr>\n",
              "    <tr>\n",
              "      <th>48a56cad-7ba6-45e1-97cd-517ba65bdab5</th>\n",
              "      <th>c77c2c04-4415-4c4d-b248-18dc28fd63d0</th>\n",
              "    </tr>\n",
              "    <tr>\n",
              "      <th>41f038b8-77c0-45a5-9e1f-e62b8637ffd1</th>\n",
              "      <th>337aa0c5-4a0a-4bcd-89db-6fa998fa783c</th>\n",
              "    </tr>\n",
              "    <tr>\n",
              "      <th>b4e3efc2-9c8f-4e3e-8b98-9bfa842094f9</th>\n",
              "      <th>e63f19ca-3f5b-4021-ac1e-05fc7495bd48</th>\n",
              "    </tr>\n",
              "    <tr>\n",
              "      <th>050a4ce1-8fc9-410d-bae1-65a70a518e34</th>\n",
              "      <th>e36dc4e4-c33c-4021-9dba-ceed3a4956d7</th>\n",
              "    </tr>\n",
              "  </tbody>\n",
              "</table>\n",
              "</div>"
            ],
            "text/plain": [
              "Empty DataFrame\n",
              "Columns: []\n",
              "Index: [(fbc4143d-15f9-4f27-b5f0-dedbadce6616, a9f5a761-83d6-452e-9f27-a452b3d06a4e), (48a56cad-7ba6-45e1-97cd-517ba65bdab5, c77c2c04-4415-4c4d-b248-18dc28fd63d0), (41f038b8-77c0-45a5-9e1f-e62b8637ffd1, 337aa0c5-4a0a-4bcd-89db-6fa998fa783c), (b4e3efc2-9c8f-4e3e-8b98-9bfa842094f9, e63f19ca-3f5b-4021-ac1e-05fc7495bd48), (050a4ce1-8fc9-410d-bae1-65a70a518e34, e36dc4e4-c33c-4021-9dba-ceed3a4956d7)]"
            ]
          },
          "metadata": {},
          "execution_count": 22
        }
      ],
      "source": [
        "df_candidate_links = pd.DataFrame(\n",
        "    [(x[0][0], x[1][0]) for x in candidate_pairs]\n",
        ").rename(columns={0 : \"person_id_A\", 1 : \"person_id_B\"}).set_index([\"person_id_A\", \"person_id_B\"])\n",
        "\n",
        "df_candidate_links.head()"
      ]
    },
    {
      "cell_type": "markdown",
      "metadata": {
        "id": "RJFF7UIFG5dM"
      },
      "source": [
        "Now, let's take a look at our learned blocker performance."
      ]
    },
    {
      "cell_type": "code",
      "execution_count": 23,
      "metadata": {
        "id": "kTGLDOW3G5dM",
        "colab": {
          "base_uri": "https://localhost:8080/"
        },
        "outputId": "7d1dc087-1a69-441d-c474-0a7766f5af69"
      },
      "outputs": [
        {
          "output_type": "stream",
          "name": "stdout",
          "text": [
            "10,562,500 total possible pairs.\n",
            "\n",
            "1,190 pairs after full blocking: 0.999887% search space reduction.\n",
            "39.67% true links retained after blocking.\n"
          ]
        }
      ],
      "source": [
        "max_candidate_pairs = df_A.shape[0]*df_B.shape[0]\n",
        "\n",
        "print(f\"{max_candidate_pairs:,} total possible pairs.\")\n",
        "\n",
        "# Calculate search space reduction.\n",
        "search_space_reduction = round(1 - len(candidate_pairs)/max_candidate_pairs, 6)\n",
        "print(f\"\\n{len(candidate_pairs):,} pairs after full blocking: {search_space_reduction}% search space reduction.\")\n",
        "\n",
        "# Calculate retained true links percentage.\n",
        "total_true_links = df_ground_truth.shape[0]\n",
        "true_links_after_blocking = pd.merge(\n",
        "    df_ground_truth,\n",
        "    df_candidate_links,\n",
        "    left_index=True,\n",
        "    right_index=True,\n",
        "    how=\"inner\"\n",
        ").shape[0]\n",
        "\n",
        "retained_true_link_percent = round((true_links_after_blocking/total_true_links) * 100, 2)\n",
        "print(f\"{retained_true_link_percent}% true links retained after blocking.\")"
      ]
    },
    {
      "cell_type": "markdown",
      "metadata": {
        "id": "JunVP8E7G5dN"
      },
      "source": [
        "## Score Pairs and Examine Learned Classifier"
      ]
    },
    {
      "cell_type": "markdown",
      "metadata": {
        "id": "CptmqCqAG5dN"
      },
      "source": [
        "After `dedupe` has trained blockers and a classification model based on our labeling session, we can link the records in our training dataset via the `.join` method."
      ]
    },
    {
      "cell_type": "code",
      "execution_count": 24,
      "metadata": {
        "id": "5Yuu1uSXG5dO",
        "colab": {
          "base_uri": "https://localhost:8080/"
        },
        "outputId": "d7a9d4f7-035c-42d0-fe2f-96dec853ed43"
      },
      "outputs": [
        {
          "output_type": "stream",
          "name": "stdout",
          "text": [
            "CPU times: user 2.17 s, sys: 104 ms, total: 2.27 s\n",
            "Wall time: 3.41 s\n"
          ]
        }
      ],
      "source": [
        "%%time\n",
        "linked_records = linker.join(records_A, records_B, threshold=0.0, constraint=\"one-to-one\")"
      ]
    },
    {
      "cell_type": "markdown",
      "metadata": {
        "id": "NzjyfxhFG5dO"
      },
      "source": [
        "`linker.join` will return the links, along with a model confidence."
      ]
    },
    {
      "cell_type": "code",
      "execution_count": 25,
      "metadata": {
        "id": "ND0VLWb0G5dO",
        "colab": {
          "base_uri": "https://localhost:8080/"
        },
        "outputId": "d03a3640-6d27-4d96-9ab4-b91f0ea466eb"
      },
      "outputs": [
        {
          "output_type": "execute_result",
          "data": {
            "text/plain": [
              "[(('fff044ab-8dca-4946-bfa4-1675ee7d56b5',\n",
              "   '99060a0c-e1bf-4869-bf08-2e15389193b6'),\n",
              "  1.0),\n",
              " (('ffd668ac-2f63-4c05-a6a3-58ebcf1f4a80',\n",
              "   '3e8c4b67-3611-4a08-84c8-b082b627bb21'),\n",
              "  1.0),\n",
              " (('ff86e492-166d-4652-bf5b-61b9eef60e51',\n",
              "   '0e4b371a-3c2b-4e2d-bae3-1e37058855b7'),\n",
              "  1.0)]"
            ]
          },
          "metadata": {},
          "execution_count": 25
        }
      ],
      "source": [
        "linked_records[0:3]"
      ]
    },
    {
      "cell_type": "markdown",
      "metadata": {
        "id": "k5jn5dGIG5dP"
      },
      "source": [
        "We'll format the `dedupe` linker predictions into a format that we can use with our existing evaluation functions."
      ]
    },
    {
      "cell_type": "code",
      "execution_count": 26,
      "metadata": {
        "id": "am5aTndPG5dP",
        "colab": {
          "base_uri": "https://localhost:8080/",
          "height": 455
        },
        "outputId": "559aa910-13f8-4403-e9be-662e8e73672e"
      },
      "outputs": [
        {
          "output_type": "execute_result",
          "data": {
            "text/html": [
              "<div>\n",
              "<style scoped>\n",
              "    .dataframe tbody tr th:only-of-type {\n",
              "        vertical-align: middle;\n",
              "    }\n",
              "\n",
              "    .dataframe tbody tr th {\n",
              "        vertical-align: top;\n",
              "    }\n",
              "\n",
              "    .dataframe thead th {\n",
              "        text-align: right;\n",
              "    }\n",
              "</style>\n",
              "<table border=\"1\" class=\"dataframe\">\n",
              "  <thead>\n",
              "    <tr style=\"text-align: right;\">\n",
              "      <th></th>\n",
              "      <th></th>\n",
              "      <th>model_score</th>\n",
              "      <th>ground_truth</th>\n",
              "    </tr>\n",
              "    <tr>\n",
              "      <th>person_id_A</th>\n",
              "      <th>person_id_B</th>\n",
              "      <th></th>\n",
              "      <th></th>\n",
              "    </tr>\n",
              "  </thead>\n",
              "  <tbody>\n",
              "    <tr>\n",
              "      <th>fff044ab-8dca-4946-bfa4-1675ee7d56b5</th>\n",
              "      <th>99060a0c-e1bf-4869-bf08-2e15389193b6</th>\n",
              "      <td>1.000000</td>\n",
              "      <td>True</td>\n",
              "    </tr>\n",
              "    <tr>\n",
              "      <th>ffd668ac-2f63-4c05-a6a3-58ebcf1f4a80</th>\n",
              "      <th>3e8c4b67-3611-4a08-84c8-b082b627bb21</th>\n",
              "      <td>1.000000</td>\n",
              "      <td>True</td>\n",
              "    </tr>\n",
              "    <tr>\n",
              "      <th>ff86e492-166d-4652-bf5b-61b9eef60e51</th>\n",
              "      <th>0e4b371a-3c2b-4e2d-bae3-1e37058855b7</th>\n",
              "      <td>1.000000</td>\n",
              "      <td>True</td>\n",
              "    </tr>\n",
              "    <tr>\n",
              "      <th>ff64e7b6-7a23-45d2-abfd-df84b7dfe02a</th>\n",
              "      <th>e44731a3-6d4d-4d1e-8466-57aef723dcdc</th>\n",
              "      <td>1.000000</td>\n",
              "      <td>True</td>\n",
              "    </tr>\n",
              "    <tr>\n",
              "      <th>fed0c57c-c844-47f9-a338-3777f231729b</th>\n",
              "      <th>b908bc05-6230-4b65-91d4-b7aa8f61b6b0</th>\n",
              "      <td>1.000000</td>\n",
              "      <td>True</td>\n",
              "    </tr>\n",
              "    <tr>\n",
              "      <th>...</th>\n",
              "      <th>...</th>\n",
              "      <td>...</td>\n",
              "      <td>...</td>\n",
              "    </tr>\n",
              "    <tr>\n",
              "      <th>62d4aa2a-864d-4646-87d2-f7117a1a4e0f</th>\n",
              "      <th>11bbd921-7258-421e-814c-2cd50347429a</th>\n",
              "      <td>0.207074</td>\n",
              "      <td>True</td>\n",
              "    </tr>\n",
              "    <tr>\n",
              "      <th>c720fe31-603b-483b-a65e-0aec2f5a1fd0</th>\n",
              "      <th>90e57a5c-a1a0-4ecb-9f2e-793aea34b056</th>\n",
              "      <td>0.202214</td>\n",
              "      <td>True</td>\n",
              "    </tr>\n",
              "    <tr>\n",
              "      <th>23afe634-5cbe-4a97-a33a-a611cb8c702c</th>\n",
              "      <th>efc1f4fa-fb86-424c-89ac-ed3be8a75519</th>\n",
              "      <td>0.159320</td>\n",
              "      <td>True</td>\n",
              "    </tr>\n",
              "    <tr>\n",
              "      <th>88211d39-93f1-404b-b2be-594a7a0a24dd</th>\n",
              "      <th>b143acb5-b7ad-49b0-aaef-6848b98ecb15</th>\n",
              "      <td>0.044695</td>\n",
              "      <td>True</td>\n",
              "    </tr>\n",
              "    <tr>\n",
              "      <th>b014c251-b24c-4713-9b9a-0d29487927b4</th>\n",
              "      <th>3cc6ecdc-f80c-460e-8699-07ff742cbb1d</th>\n",
              "      <td>0.000030</td>\n",
              "      <td>True</td>\n",
              "    </tr>\n",
              "  </tbody>\n",
              "</table>\n",
              "<p>1190 rows × 2 columns</p>\n",
              "</div>"
            ],
            "text/plain": [
              "                                                                           model_score  ground_truth\n",
              "person_id_A                          person_id_B                                                    \n",
              "fff044ab-8dca-4946-bfa4-1675ee7d56b5 99060a0c-e1bf-4869-bf08-2e15389193b6     1.000000          True\n",
              "ffd668ac-2f63-4c05-a6a3-58ebcf1f4a80 3e8c4b67-3611-4a08-84c8-b082b627bb21     1.000000          True\n",
              "ff86e492-166d-4652-bf5b-61b9eef60e51 0e4b371a-3c2b-4e2d-bae3-1e37058855b7     1.000000          True\n",
              "ff64e7b6-7a23-45d2-abfd-df84b7dfe02a e44731a3-6d4d-4d1e-8466-57aef723dcdc     1.000000          True\n",
              "fed0c57c-c844-47f9-a338-3777f231729b b908bc05-6230-4b65-91d4-b7aa8f61b6b0     1.000000          True\n",
              "...                                                                                ...           ...\n",
              "62d4aa2a-864d-4646-87d2-f7117a1a4e0f 11bbd921-7258-421e-814c-2cd50347429a     0.207074          True\n",
              "c720fe31-603b-483b-a65e-0aec2f5a1fd0 90e57a5c-a1a0-4ecb-9f2e-793aea34b056     0.202214          True\n",
              "23afe634-5cbe-4a97-a33a-a611cb8c702c efc1f4fa-fb86-424c-89ac-ed3be8a75519     0.159320          True\n",
              "88211d39-93f1-404b-b2be-594a7a0a24dd b143acb5-b7ad-49b0-aaef-6848b98ecb15     0.044695          True\n",
              "b014c251-b24c-4713-9b9a-0d29487927b4 3cc6ecdc-f80c-460e-8699-07ff742cbb1d     0.000030          True\n",
              "\n",
              "[1190 rows x 2 columns]"
            ]
          },
          "metadata": {},
          "execution_count": 26
        }
      ],
      "source": [
        "df_predictions = pd.DataFrame(\n",
        "    [ {\"person_id_A\" : x[0][0], \"person_id_B\" : x[0][1], \"model_score\" : x[1]} for x in linked_records]\n",
        ")\n",
        "\n",
        "df_predictions = df_predictions.set_index([\"person_id_A\", \"person_id_B\"])\n",
        "\n",
        "df_predictions = pd.merge(\n",
        "    df_predictions,\n",
        "    df_ground_truth,\n",
        "    left_index=True,\n",
        "    right_index=True,\n",
        "    how=\"left\",\n",
        ")\n",
        "\n",
        "df_predictions[\"ground_truth\"].fillna(False, inplace=True)\n",
        "df_predictions"
      ]
    },
    {
      "cell_type": "markdown",
      "metadata": {
        "id": "Jyjc_h1cG5dP"
      },
      "source": [
        "## Choosing a Linking Model Score Threshold"
      ]
    },
    {
      "cell_type": "markdown",
      "metadata": {
        "id": "t5cBCYpWG5dQ"
      },
      "source": [
        "The `dedupe` `.join` method that we used to score our training data directly incorporates the learned blockers. Thus, note that the scored pairs appearing on the distribution represent blocked pairs, and that our blockers *significantly* reduced the candidate pair search space."
      ]
    },
    {
      "cell_type": "markdown",
      "metadata": {
        "id": "CMPPXhplG5dQ"
      },
      "source": [
        "### Model Score Distribution"
      ]
    },
    {
      "cell_type": "code",
      "execution_count": 27,
      "metadata": {
        "id": "EIXI16HqG5dQ",
        "colab": {
          "base_uri": "https://localhost:8080/"
        },
        "outputId": "9979d742-664c-4fb9-9b8b-d99af0258e78"
      },
      "outputs": [
        {
          "output_type": "execute_result",
          "data": {
            "text/plain": [
              "True    1190\n",
              "Name: ground_truth, dtype: int64"
            ]
          },
          "metadata": {},
          "execution_count": 27
        }
      ],
      "source": [
        "df_predictions[\"ground_truth\"].value_counts()"
      ]
    },
    {
      "cell_type": "code",
      "execution_count": 28,
      "metadata": {
        "id": "zFpXbswrG5dQ",
        "colab": {
          "base_uri": "https://localhost:8080/",
          "height": 503
        },
        "outputId": "bf66a0a6-75cf-49d1-953d-5ffecf7780bd"
      },
      "outputs": [
        {
          "output_type": "stream",
          "name": "stderr",
          "text": [
            "INFO:numexpr.utils:NumExpr defaulting to 2 threads.\n"
          ]
        },
        {
          "output_type": "execute_result",
          "data": {
            "text/plain": [
              "alt.Chart(...)"
            ],
            "text/html": [
              "\n",
              "<div id=\"altair-viz-b04e0abf7bf64340b254eb9d3e6ae5c3\"></div>\n",
              "<script type=\"text/javascript\">\n",
              "  (function(spec, embedOpt){\n",
              "    let outputDiv = document.currentScript.previousElementSibling;\n",
              "    if (outputDiv.id !== \"altair-viz-b04e0abf7bf64340b254eb9d3e6ae5c3\") {\n",
              "      outputDiv = document.getElementById(\"altair-viz-b04e0abf7bf64340b254eb9d3e6ae5c3\");\n",
              "    }\n",
              "    const paths = {\n",
              "      \"vega\": \"https://cdn.jsdelivr.net/npm//vega@5?noext\",\n",
              "      \"vega-lib\": \"https://cdn.jsdelivr.net/npm//vega-lib?noext\",\n",
              "      \"vega-lite\": \"https://cdn.jsdelivr.net/npm//vega-lite@4.8.1?noext\",\n",
              "      \"vega-embed\": \"https://cdn.jsdelivr.net/npm//vega-embed@6?noext\",\n",
              "    };\n",
              "\n",
              "    function loadScript(lib) {\n",
              "      return new Promise(function(resolve, reject) {\n",
              "        var s = document.createElement('script');\n",
              "        s.src = paths[lib];\n",
              "        s.async = true;\n",
              "        s.onload = () => resolve(paths[lib]);\n",
              "        s.onerror = () => reject(`Error loading script: ${paths[lib]}`);\n",
              "        document.getElementsByTagName(\"head\")[0].appendChild(s);\n",
              "      });\n",
              "    }\n",
              "\n",
              "    function showError(err) {\n",
              "      outputDiv.innerHTML = `<div class=\"error\" style=\"color:red;\">${err}</div>`;\n",
              "      throw err;\n",
              "    }\n",
              "\n",
              "    function displayChart(vegaEmbed) {\n",
              "      vegaEmbed(outputDiv, spec, embedOpt)\n",
              "        .catch(err => showError(`Javascript Error: ${err.message}<br>This usually means there's a typo in your chart specification. See the javascript console for the full traceback.`));\n",
              "    }\n",
              "\n",
              "    if(typeof define === \"function\" && define.amd) {\n",
              "      requirejs.config({paths});\n",
              "      require([\"vega-embed\"], displayChart, err => showError(`Error loading script: ${err.message}`));\n",
              "    } else if (typeof vegaEmbed === \"function\") {\n",
              "      displayChart(vegaEmbed);\n",
              "    } else {\n",
              "      loadScript(\"vega\")\n",
              "        .then(() => loadScript(\"vega-lite\"))\n",
              "        .then(() => loadScript(\"vega-embed\"))\n",
              "        .catch(showError)\n",
              "        .then(() => displayChart(vegaEmbed));\n",
              "    }\n",
              "  })({\"config\": {\"view\": {\"continuousWidth\": 400, \"continuousHeight\": 300}}, \"data\": {\"name\": \"data-5e5a58805c8a9be24f753e6dbe73e1bc\"}, \"mark\": {\"type\": \"bar\", \"binSpacing\": 0, \"opacity\": 0.7}, \"encoding\": {\"color\": {\"type\": \"nominal\", \"field\": \"ground_truth\", \"legend\": {\"title\": \"Ground Truth Label\"}, \"scale\": {\"domain\": [\"True Link\", \"Not a Link\"], \"scheme\": \"tableau10\"}}, \"opacity\": {\"condition\": {\"value\": 0.7, \"selection\": \"selector001\"}, \"value\": 0.2}, \"tooltip\": [{\"type\": \"quantitative\", \"field\": \"model_score\", \"title\": \"Model Score\"}, {\"type\": \"nominal\", \"field\": \"ground_truth\", \"title\": \"Ground Truth\"}, {\"type\": \"quantitative\", \"field\": \"count\", \"title\": \"Count of Links\"}], \"x\": {\"type\": \"quantitative\", \"axis\": {\"tickCount\": 5, \"title\": \"Model Score (Binned)\"}, \"bin\": {\"extent\": [0, 1], \"step\": 0.01}, \"field\": \"model_score\"}, \"y\": {\"type\": \"quantitative\", \"axis\": {\"title\": \"Count of Links\"}, \"field\": \"count\", \"stack\": null}}, \"height\": 400, \"selection\": {\"selector001\": {\"type\": \"multi\", \"fields\": [\"ground_truth\"], \"bind\": \"legend\"}, \"selector002\": {\"type\": \"interval\", \"bind\": \"scales\", \"encodings\": [\"x\", \"y\"]}}, \"title\": \"Model Score Distribution\", \"width\": 800, \"$schema\": \"https://vega.github.io/schema/vega-lite/v4.8.1.json\", \"datasets\": {\"data-5e5a58805c8a9be24f753e6dbe73e1bc\": [{\"model_score\": 0.0, \"ground_truth\": \"True Link\", \"count\": 1}, {\"model_score\": 0.04, \"ground_truth\": \"True Link\", \"count\": 1}, {\"model_score\": 0.16, \"ground_truth\": \"True Link\", \"count\": 1}, {\"model_score\": 0.2, \"ground_truth\": \"True Link\", \"count\": 1}, {\"model_score\": 0.21, \"ground_truth\": \"True Link\", \"count\": 1}, {\"model_score\": 0.25, \"ground_truth\": \"True Link\", \"count\": 1}, {\"model_score\": 0.28, \"ground_truth\": \"True Link\", \"count\": 1}, {\"model_score\": 0.58, \"ground_truth\": \"True Link\", \"count\": 1}, {\"model_score\": 0.93, \"ground_truth\": \"True Link\", \"count\": 1}, {\"model_score\": 0.97, \"ground_truth\": \"True Link\", \"count\": 1}, {\"model_score\": 0.98, \"ground_truth\": \"True Link\", \"count\": 1}, {\"model_score\": 1.0, \"ground_truth\": \"True Link\", \"count\": 1179}]}}, {\"mode\": \"vega-lite\"});\n",
              "</script>"
            ]
          },
          "metadata": {},
          "execution_count": 28
        }
      ],
      "source": [
        "tutorial.plot_model_score_distribution(df_predictions)"
      ]
    },
    {
      "cell_type": "markdown",
      "metadata": {
        "id": "FNnrmZAvG5dR"
      },
      "source": [
        "### Precision and Recall vs. Model Score"
      ]
    },
    {
      "cell_type": "code",
      "execution_count": 29,
      "metadata": {
        "id": "ErKDr_3mG5dR"
      },
      "outputs": [],
      "source": [
        "df_eval = tutorial.evaluate_linking(\n",
        "    df=df_predictions\n",
        ")"
      ]
    },
    {
      "cell_type": "code",
      "execution_count": null,
      "metadata": {
        "id": "wa9K01wSG5dR"
      },
      "outputs": [],
      "source": [
        "df_eval.head()"
      ]
    },
    {
      "cell_type": "code",
      "execution_count": 31,
      "metadata": {
        "id": "HXb3z-llG5dS",
        "colab": {
          "base_uri": "https://localhost:8080/",
          "height": 485
        },
        "outputId": "cb83b058-30a2-48a7-cef9-603cf95e29da"
      },
      "outputs": [
        {
          "output_type": "execute_result",
          "data": {
            "text/plain": [
              "alt.LayerChart(...)"
            ],
            "text/html": [
              "\n",
              "<div id=\"altair-viz-f3e5b50c97e24d579e384aa8ced4fd82\"></div>\n",
              "<script type=\"text/javascript\">\n",
              "  (function(spec, embedOpt){\n",
              "    let outputDiv = document.currentScript.previousElementSibling;\n",
              "    if (outputDiv.id !== \"altair-viz-f3e5b50c97e24d579e384aa8ced4fd82\") {\n",
              "      outputDiv = document.getElementById(\"altair-viz-f3e5b50c97e24d579e384aa8ced4fd82\");\n",
              "    }\n",
              "    const paths = {\n",
              "      \"vega\": \"https://cdn.jsdelivr.net/npm//vega@5?noext\",\n",
              "      \"vega-lib\": \"https://cdn.jsdelivr.net/npm//vega-lib?noext\",\n",
              "      \"vega-lite\": \"https://cdn.jsdelivr.net/npm//vega-lite@4.8.1?noext\",\n",
              "      \"vega-embed\": \"https://cdn.jsdelivr.net/npm//vega-embed@6?noext\",\n",
              "    };\n",
              "\n",
              "    function loadScript(lib) {\n",
              "      return new Promise(function(resolve, reject) {\n",
              "        var s = document.createElement('script');\n",
              "        s.src = paths[lib];\n",
              "        s.async = true;\n",
              "        s.onload = () => resolve(paths[lib]);\n",
              "        s.onerror = () => reject(`Error loading script: ${paths[lib]}`);\n",
              "        document.getElementsByTagName(\"head\")[0].appendChild(s);\n",
              "      });\n",
              "    }\n",
              "\n",
              "    function showError(err) {\n",
              "      outputDiv.innerHTML = `<div class=\"error\" style=\"color:red;\">${err}</div>`;\n",
              "      throw err;\n",
              "    }\n",
              "\n",
              "    function displayChart(vegaEmbed) {\n",
              "      vegaEmbed(outputDiv, spec, embedOpt)\n",
              "        .catch(err => showError(`Javascript Error: ${err.message}<br>This usually means there's a typo in your chart specification. See the javascript console for the full traceback.`));\n",
              "    }\n",
              "\n",
              "    if(typeof define === \"function\" && define.amd) {\n",
              "      requirejs.config({paths});\n",
              "      require([\"vega-embed\"], displayChart, err => showError(`Error loading script: ${err.message}`));\n",
              "    } else if (typeof vegaEmbed === \"function\") {\n",
              "      displayChart(vegaEmbed);\n",
              "    } else {\n",
              "      loadScript(\"vega\")\n",
              "        .then(() => loadScript(\"vega-lite\"))\n",
              "        .then(() => loadScript(\"vega-embed\"))\n",
              "        .catch(showError)\n",
              "        .then(() => displayChart(vegaEmbed));\n",
              "    }\n",
              "  })({\"config\": {\"view\": {\"continuousWidth\": 400, \"continuousHeight\": 300}}, \"layer\": [{\"mark\": \"line\", \"encoding\": {\"color\": {\"type\": \"nominal\", \"field\": \"variable\", \"legend\": {\"title\": \"Variable\"}}, \"tooltip\": [{\"type\": \"nominal\", \"field\": \"variable\"}, {\"type\": \"quantitative\", \"field\": \"threshold\"}, {\"type\": \"quantitative\", \"field\": \"value\"}], \"x\": {\"type\": \"quantitative\", \"axis\": {\"title\": \"Model Threshold\"}, \"field\": \"threshold\"}, \"y\": {\"type\": \"quantitative\", \"axis\": {\"title\": \"Precision/Recall Value\"}, \"field\": \"value\", \"scale\": {\"domain\": [0, 1]}}}, \"selection\": {\"selector004\": {\"type\": \"interval\", \"bind\": \"scales\", \"encodings\": [\"x\", \"y\"]}}, \"title\": \"Precision and Recall v.s. Model Threshold\"}, {\"mark\": \"point\", \"encoding\": {\"opacity\": {\"value\": 0}, \"x\": {\"type\": \"quantitative\", \"field\": \"threshold\"}}, \"selection\": {\"selector003\": {\"type\": \"single\", \"nearest\": true, \"on\": \"mouseover\", \"fields\": [\"threshold\"], \"empty\": \"none\"}}}, {\"mark\": \"point\", \"encoding\": {\"color\": {\"type\": \"nominal\", \"field\": \"variable\", \"legend\": {\"title\": \"Variable\"}}, \"opacity\": {\"condition\": {\"value\": 1, \"selection\": \"selector003\"}, \"value\": 0}, \"tooltip\": [{\"type\": \"nominal\", \"field\": \"variable\"}, {\"type\": \"quantitative\", \"field\": \"threshold\"}, {\"type\": \"quantitative\", \"field\": \"value\"}], \"x\": {\"type\": \"quantitative\", \"axis\": {\"title\": \"Model Threshold\"}, \"field\": \"threshold\"}, \"y\": {\"type\": \"quantitative\", \"axis\": {\"title\": \"Precision/Recall Value\"}, \"field\": \"value\", \"scale\": {\"domain\": [0, 1]}}}, \"title\": \"Precision and Recall v.s. Model Threshold\"}, {\"mark\": {\"type\": \"rule\", \"color\": \"gray\"}, \"encoding\": {\"x\": {\"type\": \"quantitative\", \"field\": \"threshold\"}}, \"transform\": [{\"filter\": {\"selection\": \"selector003\"}}]}, {\"mark\": {\"type\": \"text\", \"align\": \"right\", \"dx\": -10, \"dy\": -5, \"fontWeight\": 300, \"lineBreak\": \"\\n\"}, \"encoding\": {\"color\": {\"type\": \"nominal\", \"field\": \"variable\", \"legend\": {\"title\": \"Variable\"}}, \"text\": {\"condition\": {\"type\": \"nominal\", \"field\": \"label\", \"selection\": \"selector003\"}, \"value\": \" \"}, \"tooltip\": [{\"type\": \"nominal\", \"field\": \"variable\"}, {\"type\": \"quantitative\", \"field\": \"threshold\"}, {\"type\": \"quantitative\", \"field\": \"value\"}], \"x\": {\"type\": \"quantitative\", \"axis\": {\"title\": \"Model Threshold\"}, \"field\": \"threshold\"}, \"y\": {\"type\": \"quantitative\", \"axis\": {\"title\": \"Precision/Recall Value\"}, \"field\": \"value\", \"scale\": {\"domain\": [0, 1]}}}, \"title\": \"Precision and Recall v.s. Model Threshold\"}], \"data\": {\"name\": \"data-531a74bcb6231de04f256a5b5b307684\"}, \"height\": 400, \"width\": 800, \"$schema\": \"https://vega.github.io/schema/vega-lite/v4.8.1.json\", \"datasets\": {\"data-531a74bcb6231de04f256a5b5b307684\": [{\"threshold\": 0.0, \"label\": \"threshold: 0.0\\nprecision: 1.0\\nrecall: 1.0\", \"variable\": \"recall\", \"value\": 1.0}, {\"threshold\": 0.02040816326530612, \"label\": \"threshold: 0.02\\nprecision: 1.0\\nrecall: 0.999\", \"variable\": \"recall\", \"value\": 0.9991596638655462}, {\"threshold\": 0.04081632653061224, \"label\": \"threshold: 0.041\\nprecision: 1.0\\nrecall: 0.999\", \"variable\": \"recall\", \"value\": 0.9991596638655462}, {\"threshold\": 0.061224489795918366, \"label\": \"threshold: 0.061\\nprecision: 1.0\\nrecall: 0.998\", \"variable\": \"recall\", \"value\": 0.9983193277310924}, {\"threshold\": 0.08163265306122448, \"label\": \"threshold: 0.082\\nprecision: 1.0\\nrecall: 0.998\", \"variable\": \"recall\", \"value\": 0.9983193277310924}, {\"threshold\": 0.1020408163265306, \"label\": \"threshold: 0.102\\nprecision: 1.0\\nrecall: 0.998\", \"variable\": \"recall\", \"value\": 0.9983193277310924}, {\"threshold\": 0.12244897959183673, \"label\": \"threshold: 0.122\\nprecision: 1.0\\nrecall: 0.998\", \"variable\": \"recall\", \"value\": 0.9983193277310924}, {\"threshold\": 0.14285714285714285, \"label\": \"threshold: 0.143\\nprecision: 1.0\\nrecall: 0.998\", \"variable\": \"recall\", \"value\": 0.9983193277310924}, {\"threshold\": 0.16326530612244897, \"label\": \"threshold: 0.163\\nprecision: 1.0\\nrecall: 0.997\", \"variable\": \"recall\", \"value\": 0.9974789915966387}, {\"threshold\": 0.18367346938775508, \"label\": \"threshold: 0.184\\nprecision: 1.0\\nrecall: 0.997\", \"variable\": \"recall\", \"value\": 0.9974789915966387}, {\"threshold\": 0.2040816326530612, \"label\": \"threshold: 0.204\\nprecision: 1.0\\nrecall: 0.997\", \"variable\": \"recall\", \"value\": 0.9966386554621849}, {\"threshold\": 0.22448979591836732, \"label\": \"threshold: 0.224\\nprecision: 1.0\\nrecall: 0.996\", \"variable\": \"recall\", \"value\": 0.9957983193277311}, {\"threshold\": 0.24489795918367346, \"label\": \"threshold: 0.245\\nprecision: 1.0\\nrecall: 0.996\", \"variable\": \"recall\", \"value\": 0.9957983193277311}, {\"threshold\": 0.26530612244897955, \"label\": \"threshold: 0.265\\nprecision: 1.0\\nrecall: 0.995\", \"variable\": \"recall\", \"value\": 0.9949579831932773}, {\"threshold\": 0.2857142857142857, \"label\": \"threshold: 0.286\\nprecision: 1.0\\nrecall: 0.994\", \"variable\": \"recall\", \"value\": 0.9941176470588236}, {\"threshold\": 0.3061224489795918, \"label\": \"threshold: 0.306\\nprecision: 1.0\\nrecall: 0.994\", \"variable\": \"recall\", \"value\": 0.9941176470588236}, {\"threshold\": 0.32653061224489793, \"label\": \"threshold: 0.327\\nprecision: 1.0\\nrecall: 0.994\", \"variable\": \"recall\", \"value\": 0.9941176470588236}, {\"threshold\": 0.3469387755102041, \"label\": \"threshold: 0.347\\nprecision: 1.0\\nrecall: 0.994\", \"variable\": \"recall\", \"value\": 0.9941176470588236}, {\"threshold\": 0.36734693877551017, \"label\": \"threshold: 0.367\\nprecision: 1.0\\nrecall: 0.994\", \"variable\": \"recall\", \"value\": 0.9941176470588236}, {\"threshold\": 0.3877551020408163, \"label\": \"threshold: 0.388\\nprecision: 1.0\\nrecall: 0.994\", \"variable\": \"recall\", \"value\": 0.9941176470588236}, {\"threshold\": 0.4081632653061224, \"label\": \"threshold: 0.408\\nprecision: 1.0\\nrecall: 0.994\", \"variable\": \"recall\", \"value\": 0.9941176470588236}, {\"threshold\": 0.42857142857142855, \"label\": \"threshold: 0.429\\nprecision: 1.0\\nrecall: 0.994\", \"variable\": \"recall\", \"value\": 0.9941176470588236}, {\"threshold\": 0.44897959183673464, \"label\": \"threshold: 0.449\\nprecision: 1.0\\nrecall: 0.994\", \"variable\": \"recall\", \"value\": 0.9941176470588236}, {\"threshold\": 0.4693877551020408, \"label\": \"threshold: 0.469\\nprecision: 1.0\\nrecall: 0.994\", \"variable\": \"recall\", \"value\": 0.9941176470588236}, {\"threshold\": 0.4897959183673469, \"label\": \"threshold: 0.49\\nprecision: 1.0\\nrecall: 0.994\", \"variable\": \"recall\", \"value\": 0.9941176470588236}, {\"threshold\": 0.5102040816326531, \"label\": \"threshold: 0.51\\nprecision: 1.0\\nrecall: 0.994\", \"variable\": \"recall\", \"value\": 0.9941176470588236}, {\"threshold\": 0.5306122448979591, \"label\": \"threshold: 0.531\\nprecision: 1.0\\nrecall: 0.994\", \"variable\": \"recall\", \"value\": 0.9941176470588236}, {\"threshold\": 0.5510204081632653, \"label\": \"threshold: 0.551\\nprecision: 1.0\\nrecall: 0.994\", \"variable\": \"recall\", \"value\": 0.9941176470588236}, {\"threshold\": 0.5714285714285714, \"label\": \"threshold: 0.571\\nprecision: 1.0\\nrecall: 0.994\", \"variable\": \"recall\", \"value\": 0.9941176470588236}, {\"threshold\": 0.5918367346938775, \"label\": \"threshold: 0.592\\nprecision: 1.0\\nrecall: 0.993\", \"variable\": \"recall\", \"value\": 0.9932773109243698}, {\"threshold\": 0.6122448979591836, \"label\": \"threshold: 0.612\\nprecision: 1.0\\nrecall: 0.993\", \"variable\": \"recall\", \"value\": 0.9932773109243698}, {\"threshold\": 0.6326530612244897, \"label\": \"threshold: 0.633\\nprecision: 1.0\\nrecall: 0.993\", \"variable\": \"recall\", \"value\": 0.9932773109243698}, {\"threshold\": 0.6530612244897959, \"label\": \"threshold: 0.653\\nprecision: 1.0\\nrecall: 0.993\", \"variable\": \"recall\", \"value\": 0.9932773109243698}, {\"threshold\": 0.673469387755102, \"label\": \"threshold: 0.673\\nprecision: 1.0\\nrecall: 0.993\", \"variable\": \"recall\", \"value\": 0.9932773109243698}, {\"threshold\": 0.6938775510204082, \"label\": \"threshold: 0.694\\nprecision: 1.0\\nrecall: 0.993\", \"variable\": \"recall\", \"value\": 0.9932773109243698}, {\"threshold\": 0.7142857142857142, \"label\": \"threshold: 0.714\\nprecision: 1.0\\nrecall: 0.993\", \"variable\": \"recall\", \"value\": 0.9932773109243698}, {\"threshold\": 0.7346938775510203, \"label\": \"threshold: 0.735\\nprecision: 1.0\\nrecall: 0.993\", \"variable\": \"recall\", \"value\": 0.9932773109243698}, {\"threshold\": 0.7551020408163265, \"label\": \"threshold: 0.755\\nprecision: 1.0\\nrecall: 0.993\", \"variable\": \"recall\", \"value\": 0.9932773109243698}, {\"threshold\": 0.7755102040816326, \"label\": \"threshold: 0.776\\nprecision: 1.0\\nrecall: 0.993\", \"variable\": \"recall\", \"value\": 0.9932773109243698}, {\"threshold\": 0.7959183673469387, \"label\": \"threshold: 0.796\\nprecision: 1.0\\nrecall: 0.993\", \"variable\": \"recall\", \"value\": 0.9932773109243698}, {\"threshold\": 0.8163265306122448, \"label\": \"threshold: 0.816\\nprecision: 1.0\\nrecall: 0.993\", \"variable\": \"recall\", \"value\": 0.9932773109243698}, {\"threshold\": 0.836734693877551, \"label\": \"threshold: 0.837\\nprecision: 1.0\\nrecall: 0.993\", \"variable\": \"recall\", \"value\": 0.9932773109243698}, {\"threshold\": 0.8571428571428571, \"label\": \"threshold: 0.857\\nprecision: 1.0\\nrecall: 0.993\", \"variable\": \"recall\", \"value\": 0.9932773109243698}, {\"threshold\": 0.8775510204081632, \"label\": \"threshold: 0.878\\nprecision: 1.0\\nrecall: 0.993\", \"variable\": \"recall\", \"value\": 0.9932773109243698}, {\"threshold\": 0.8979591836734693, \"label\": \"threshold: 0.898\\nprecision: 1.0\\nrecall: 0.993\", \"variable\": \"recall\", \"value\": 0.9932773109243698}, {\"threshold\": 0.9183673469387754, \"label\": \"threshold: 0.918\\nprecision: 1.0\\nrecall: 0.993\", \"variable\": \"recall\", \"value\": 0.9932773109243698}, {\"threshold\": 0.9387755102040816, \"label\": \"threshold: 0.939\\nprecision: 1.0\\nrecall: 0.992\", \"variable\": \"recall\", \"value\": 0.992436974789916}, {\"threshold\": 0.9591836734693877, \"label\": \"threshold: 0.959\\nprecision: 1.0\\nrecall: 0.992\", \"variable\": \"recall\", \"value\": 0.992436974789916}, {\"threshold\": 0.9795918367346939, \"label\": \"threshold: 0.98\\nprecision: 1.0\\nrecall: 0.992\", \"variable\": \"recall\", \"value\": 0.9915966386554622}, {\"threshold\": 1.0, \"label\": \"threshold: 1.0\\nprecision: 1.0\\nrecall: 0.934\", \"variable\": \"recall\", \"value\": 0.9336134453781513}, {\"threshold\": 0.0, \"label\": \"threshold: 0.0\\nprecision: 1.0\\nrecall: 1.0\", \"variable\": \"precision\", \"value\": 1.0}, {\"threshold\": 0.02040816326530612, \"label\": \"threshold: 0.02\\nprecision: 1.0\\nrecall: 0.999\", \"variable\": \"precision\", \"value\": 1.0}, {\"threshold\": 0.04081632653061224, \"label\": \"threshold: 0.041\\nprecision: 1.0\\nrecall: 0.999\", \"variable\": \"precision\", \"value\": 1.0}, {\"threshold\": 0.061224489795918366, \"label\": \"threshold: 0.061\\nprecision: 1.0\\nrecall: 0.998\", \"variable\": \"precision\", \"value\": 1.0}, {\"threshold\": 0.08163265306122448, \"label\": \"threshold: 0.082\\nprecision: 1.0\\nrecall: 0.998\", \"variable\": \"precision\", \"value\": 1.0}, {\"threshold\": 0.1020408163265306, \"label\": \"threshold: 0.102\\nprecision: 1.0\\nrecall: 0.998\", \"variable\": \"precision\", \"value\": 1.0}, {\"threshold\": 0.12244897959183673, \"label\": \"threshold: 0.122\\nprecision: 1.0\\nrecall: 0.998\", \"variable\": \"precision\", \"value\": 1.0}, {\"threshold\": 0.14285714285714285, \"label\": \"threshold: 0.143\\nprecision: 1.0\\nrecall: 0.998\", \"variable\": \"precision\", \"value\": 1.0}, {\"threshold\": 0.16326530612244897, \"label\": \"threshold: 0.163\\nprecision: 1.0\\nrecall: 0.997\", \"variable\": \"precision\", \"value\": 1.0}, {\"threshold\": 0.18367346938775508, \"label\": \"threshold: 0.184\\nprecision: 1.0\\nrecall: 0.997\", \"variable\": \"precision\", \"value\": 1.0}, {\"threshold\": 0.2040816326530612, \"label\": \"threshold: 0.204\\nprecision: 1.0\\nrecall: 0.997\", \"variable\": \"precision\", \"value\": 1.0}, {\"threshold\": 0.22448979591836732, \"label\": \"threshold: 0.224\\nprecision: 1.0\\nrecall: 0.996\", \"variable\": \"precision\", \"value\": 1.0}, {\"threshold\": 0.24489795918367346, \"label\": \"threshold: 0.245\\nprecision: 1.0\\nrecall: 0.996\", \"variable\": \"precision\", \"value\": 1.0}, {\"threshold\": 0.26530612244897955, \"label\": \"threshold: 0.265\\nprecision: 1.0\\nrecall: 0.995\", \"variable\": \"precision\", \"value\": 1.0}, {\"threshold\": 0.2857142857142857, \"label\": \"threshold: 0.286\\nprecision: 1.0\\nrecall: 0.994\", \"variable\": \"precision\", \"value\": 1.0}, {\"threshold\": 0.3061224489795918, \"label\": \"threshold: 0.306\\nprecision: 1.0\\nrecall: 0.994\", \"variable\": \"precision\", \"value\": 1.0}, {\"threshold\": 0.32653061224489793, \"label\": \"threshold: 0.327\\nprecision: 1.0\\nrecall: 0.994\", \"variable\": \"precision\", \"value\": 1.0}, {\"threshold\": 0.3469387755102041, \"label\": \"threshold: 0.347\\nprecision: 1.0\\nrecall: 0.994\", \"variable\": \"precision\", \"value\": 1.0}, {\"threshold\": 0.36734693877551017, \"label\": \"threshold: 0.367\\nprecision: 1.0\\nrecall: 0.994\", \"variable\": \"precision\", \"value\": 1.0}, {\"threshold\": 0.3877551020408163, \"label\": \"threshold: 0.388\\nprecision: 1.0\\nrecall: 0.994\", \"variable\": \"precision\", \"value\": 1.0}, {\"threshold\": 0.4081632653061224, \"label\": \"threshold: 0.408\\nprecision: 1.0\\nrecall: 0.994\", \"variable\": \"precision\", \"value\": 1.0}, {\"threshold\": 0.42857142857142855, \"label\": \"threshold: 0.429\\nprecision: 1.0\\nrecall: 0.994\", \"variable\": \"precision\", \"value\": 1.0}, {\"threshold\": 0.44897959183673464, \"label\": \"threshold: 0.449\\nprecision: 1.0\\nrecall: 0.994\", \"variable\": \"precision\", \"value\": 1.0}, {\"threshold\": 0.4693877551020408, \"label\": \"threshold: 0.469\\nprecision: 1.0\\nrecall: 0.994\", \"variable\": \"precision\", \"value\": 1.0}, {\"threshold\": 0.4897959183673469, \"label\": \"threshold: 0.49\\nprecision: 1.0\\nrecall: 0.994\", \"variable\": \"precision\", \"value\": 1.0}, {\"threshold\": 0.5102040816326531, \"label\": \"threshold: 0.51\\nprecision: 1.0\\nrecall: 0.994\", \"variable\": \"precision\", \"value\": 1.0}, {\"threshold\": 0.5306122448979591, \"label\": \"threshold: 0.531\\nprecision: 1.0\\nrecall: 0.994\", \"variable\": \"precision\", \"value\": 1.0}, {\"threshold\": 0.5510204081632653, \"label\": \"threshold: 0.551\\nprecision: 1.0\\nrecall: 0.994\", \"variable\": \"precision\", \"value\": 1.0}, {\"threshold\": 0.5714285714285714, \"label\": \"threshold: 0.571\\nprecision: 1.0\\nrecall: 0.994\", \"variable\": \"precision\", \"value\": 1.0}, {\"threshold\": 0.5918367346938775, \"label\": \"threshold: 0.592\\nprecision: 1.0\\nrecall: 0.993\", \"variable\": \"precision\", \"value\": 1.0}, {\"threshold\": 0.6122448979591836, \"label\": \"threshold: 0.612\\nprecision: 1.0\\nrecall: 0.993\", \"variable\": \"precision\", \"value\": 1.0}, {\"threshold\": 0.6326530612244897, \"label\": \"threshold: 0.633\\nprecision: 1.0\\nrecall: 0.993\", \"variable\": \"precision\", \"value\": 1.0}, {\"threshold\": 0.6530612244897959, \"label\": \"threshold: 0.653\\nprecision: 1.0\\nrecall: 0.993\", \"variable\": \"precision\", \"value\": 1.0}, {\"threshold\": 0.673469387755102, \"label\": \"threshold: 0.673\\nprecision: 1.0\\nrecall: 0.993\", \"variable\": \"precision\", \"value\": 1.0}, {\"threshold\": 0.6938775510204082, \"label\": \"threshold: 0.694\\nprecision: 1.0\\nrecall: 0.993\", \"variable\": \"precision\", \"value\": 1.0}, {\"threshold\": 0.7142857142857142, \"label\": \"threshold: 0.714\\nprecision: 1.0\\nrecall: 0.993\", \"variable\": \"precision\", \"value\": 1.0}, {\"threshold\": 0.7346938775510203, \"label\": \"threshold: 0.735\\nprecision: 1.0\\nrecall: 0.993\", \"variable\": \"precision\", \"value\": 1.0}, {\"threshold\": 0.7551020408163265, \"label\": \"threshold: 0.755\\nprecision: 1.0\\nrecall: 0.993\", \"variable\": \"precision\", \"value\": 1.0}, {\"threshold\": 0.7755102040816326, \"label\": \"threshold: 0.776\\nprecision: 1.0\\nrecall: 0.993\", \"variable\": \"precision\", \"value\": 1.0}, {\"threshold\": 0.7959183673469387, \"label\": \"threshold: 0.796\\nprecision: 1.0\\nrecall: 0.993\", \"variable\": \"precision\", \"value\": 1.0}, {\"threshold\": 0.8163265306122448, \"label\": \"threshold: 0.816\\nprecision: 1.0\\nrecall: 0.993\", \"variable\": \"precision\", \"value\": 1.0}, {\"threshold\": 0.836734693877551, \"label\": \"threshold: 0.837\\nprecision: 1.0\\nrecall: 0.993\", \"variable\": \"precision\", \"value\": 1.0}, {\"threshold\": 0.8571428571428571, \"label\": \"threshold: 0.857\\nprecision: 1.0\\nrecall: 0.993\", \"variable\": \"precision\", \"value\": 1.0}, {\"threshold\": 0.8775510204081632, \"label\": \"threshold: 0.878\\nprecision: 1.0\\nrecall: 0.993\", \"variable\": \"precision\", \"value\": 1.0}, {\"threshold\": 0.8979591836734693, \"label\": \"threshold: 0.898\\nprecision: 1.0\\nrecall: 0.993\", \"variable\": \"precision\", \"value\": 1.0}, {\"threshold\": 0.9183673469387754, \"label\": \"threshold: 0.918\\nprecision: 1.0\\nrecall: 0.993\", \"variable\": \"precision\", \"value\": 1.0}, {\"threshold\": 0.9387755102040816, \"label\": \"threshold: 0.939\\nprecision: 1.0\\nrecall: 0.992\", \"variable\": \"precision\", \"value\": 1.0}, {\"threshold\": 0.9591836734693877, \"label\": \"threshold: 0.959\\nprecision: 1.0\\nrecall: 0.992\", \"variable\": \"precision\", \"value\": 1.0}, {\"threshold\": 0.9795918367346939, \"label\": \"threshold: 0.98\\nprecision: 1.0\\nrecall: 0.992\", \"variable\": \"precision\", \"value\": 1.0}, {\"threshold\": 1.0, \"label\": \"threshold: 1.0\\nprecision: 1.0\\nrecall: 0.934\", \"variable\": \"precision\", \"value\": 1.0}]}}, {\"mode\": \"vega-lite\"});\n",
              "</script>"
            ]
          },
          "metadata": {},
          "execution_count": 31
        }
      ],
      "source": [
        "tutorial.plot_precision_recall_vs_threshold(df_eval)"
      ]
    },
    {
      "cell_type": "markdown",
      "metadata": {
        "id": "9lJsOj7TG5dS"
      },
      "source": [
        "## Iterating with Active Learning"
      ]
    },
    {
      "cell_type": "markdown",
      "metadata": {
        "id": "rIZmAhbqG5dS"
      },
      "source": [
        "When using active learning, we iterate on our linking solution, and incorporate progressively more labeled training data. Perhaps we're not satisfied with the current performance of the blockers or classifier, and we'd like to create more labeled examples for dedupe to train on.\n",
        "\n",
        "Recall that earlier, we saved off our existing training data from the first labeling session. We can load this persisted data into a `dedupe` linker, and kick off another labeling session. Perhaps, after investigating the data during our first cycle, we don't think that dedupe should include `address_1` and `address2` in its comparators."
      ]
    },
    {
      "cell_type": "markdown",
      "metadata": {
        "id": "VmJJ6xB6G5dS"
      },
      "source": [
        "### Tweak the Linker and Use Existing Training Data"
      ]
    },
    {
      "cell_type": "code",
      "execution_count": 32,
      "metadata": {
        "id": "8fyPAYcNG5dS",
        "colab": {
          "base_uri": "https://localhost:8080/"
        },
        "outputId": "9c5eb7e9-7edc-49f3-bd0f-3656a7086fbe"
      },
      "outputs": [
        {
          "output_type": "stream",
          "name": "stderr",
          "text": [
            "INFO:dedupe.api:reading training from file\n",
            "INFO:dedupe.training:Final predicate set:\n",
            "INFO:dedupe.training:SimplePredicate: (dayPredicate, date_of_birth)\n",
            "INFO:dedupe.training:Final predicate set:\n",
            "INFO:dedupe.training:SimplePredicate: (wholeFieldPredicate, suburb)\n"
          ]
        },
        {
          "output_type": "stream",
          "name": "stdout",
          "text": [
            "CPU times: user 40.1 s, sys: 550 ms, total: 40.7 s\n",
            "Wall time: 41.9 s\n"
          ]
        }
      ],
      "source": [
        "%%time\n",
        "\n",
        "fields = [\n",
        "    { \"field\" : \"first_name\", \"type\" : \"Name\" },\n",
        "    { \"field\" : \"surname\", \"type\" : \"Name\" },\n",
        "    { \"field\" : \"suburb\", \"type\" : \"ShortString\" },\n",
        "    { \"field\" : \"postcode\", \"type\" : \"Exact\" },\n",
        "    { \"field\" : \"state\", \"type\" : \"Exact\" },\n",
        "    { \"field\" : \"date_of_birth\", \"type\" : \"DateTime\" },\n",
        "    { \"field\" : \"soc_sec_id\", \"type\" : \"Exact\" },\n",
        "]\n",
        "\n",
        "linker2 = dedupe.RecordLink(fields)\n",
        "\n",
        "with open(TRAINING_FILE, \"r\") as fh:\n",
        "    linker2.prepare_training(records_A, records_B, training_file=fh)"
      ]
    },
    {
      "cell_type": "markdown",
      "metadata": {
        "id": "cI5snRSNG5dT"
      },
      "source": [
        "Now, we can kick off a second active learning/labeling session."
      ]
    },
    {
      "cell_type": "code",
      "execution_count": 33,
      "metadata": {
        "id": "EWgpValjG5dT",
        "colab": {
          "base_uri": "https://localhost:8080/"
        },
        "outputId": "5b0ffe93-90bd-43c6-fbe3-865892e4c81f"
      },
      "outputs": [
        {
          "output_type": "stream",
          "name": "stderr",
          "text": [
            "first_name : louis\n",
            "surname : traforti\n",
            "suburb : pacific paradise\n",
            "postcode : 2518\n",
            "state : vic\n",
            "date_of_birth : 05/12/38\n",
            "soc_sec_id : 1913191\n",
            "\n",
            "first_name : louis\n",
            "surname : trafcrati\n",
            "suburb : None\n",
            "postcode : 2518\n",
            "state : vic\n",
            "date_of_birth : 05/12/38\n",
            "soc_sec_id : 1913191\n",
            "\n",
            "10/10 positive, 3/10 negative\n",
            "Do these records refer to the same thing?\n",
            "(y)es / (n)o / (u)nsure / (f)inished\n"
          ]
        },
        {
          "name": "stdout",
          "output_type": "stream",
          "text": [
            "y\n"
          ]
        },
        {
          "output_type": "stream",
          "name": "stderr",
          "text": [
            "first_name : callie\n",
            "surname : campbell\n",
            "suburb : burwood\n",
            "postcode : 2480\n",
            "state : nsw\n",
            "date_of_birth : 02/01/97\n",
            "soc_sec_id : 8116328\n",
            "\n",
            "first_name : callie\n",
            "surname : campbell\n",
            "suburb : None\n",
            "postcode : 2480\n",
            "state : None\n",
            "date_of_birth : 02/01/97\n",
            "soc_sec_id : 8116328\n",
            "\n",
            "11/10 positive, 3/10 negative\n",
            "Do these records refer to the same thing?\n",
            "(y)es / (n)o / (u)nsure / (f)inished / (p)revious\n"
          ]
        },
        {
          "name": "stdout",
          "output_type": "stream",
          "text": [
            "y\n"
          ]
        },
        {
          "output_type": "stream",
          "name": "stderr",
          "text": [
            "INFO:dedupe.training:Final predicate set:\n",
            "INFO:dedupe.training:SimplePredicate: (wholeFieldPredicate, suburb)\n",
            "INFO:dedupe.training:PartialPredicate: (sameThreeCharStartPredicate, surname, CorporationName)\n",
            "first_name : jaiden\n",
            "surname : gaugg\n",
            "suburb : None\n",
            "postcode : 3850\n",
            "state : nsw\n",
            "date_of_birth : 05/01/76\n",
            "soc_sec_id : 7820255\n",
            "\n",
            "first_name : jaiden\n",
            "surname : gaugg\n",
            "suburb : None\n",
            "postcode : 3850\n",
            "state : None\n",
            "date_of_birth : 05/01/76\n",
            "soc_sec_id : 7820255\n",
            "\n",
            "12/10 positive, 3/10 negative\n",
            "Do these records refer to the same thing?\n",
            "(y)es / (n)o / (u)nsure / (f)inished / (p)revious\n"
          ]
        },
        {
          "name": "stdout",
          "output_type": "stream",
          "text": [
            "y\n"
          ]
        },
        {
          "output_type": "stream",
          "name": "stderr",
          "text": [
            "INFO:dedupe.training:Final predicate set:\n",
            "INFO:dedupe.training:SimplePredicate: (wholeFieldPredicate, suburb)\n",
            "INFO:dedupe.training:SimplePredicate: (dayPredicate, date_of_birth)\n",
            "first_name : nathan\n",
            "surname : hanna\n",
            "suburb : None\n",
            "postcode : 2526\n",
            "state : vic\n",
            "date_of_birth : 11/06/54\n",
            "soc_sec_id : 1862673\n",
            "\n",
            "first_name : harrisbn\n",
            "surname : bishp\n",
            "suburb : 2400\n",
            "postcode : toolleen\n",
            "state : qld\n",
            "date_of_birth : None\n",
            "soc_sec_id : 5782301\n",
            "\n",
            "13/10 positive, 3/10 negative\n",
            "Do these records refer to the same thing?\n",
            "(y)es / (n)o / (u)nsure / (f)inished / (p)revious\n"
          ]
        },
        {
          "name": "stdout",
          "output_type": "stream",
          "text": [
            "y\n"
          ]
        },
        {
          "output_type": "stream",
          "name": "stderr",
          "text": [
            "first_name : sophie\n",
            "surname : campbell\n",
            "suburb : None\n",
            "postcode : 3799\n",
            "state : vic\n",
            "date_of_birth : 09/20/19\n",
            "soc_sec_id : 7746745\n",
            "\n",
            "first_name : callum\n",
            "surname : newfkry\n",
            "suburb : miller\n",
            "postcode : 5700\n",
            "state : qls\n",
            "date_of_birth : None\n",
            "soc_sec_id : 3078894\n",
            "\n",
            "14/10 positive, 3/10 negative\n",
            "Do these records refer to the same thing?\n",
            "(y)es / (n)o / (u)nsure / (f)inished / (p)revious\n"
          ]
        },
        {
          "name": "stdout",
          "output_type": "stream",
          "text": [
            "n\n"
          ]
        },
        {
          "output_type": "stream",
          "name": "stderr",
          "text": [
            "INFO:dedupe.training:Final predicate set:\n",
            "INFO:dedupe.training:PartialIndexLevenshteinSearchPredicate: (2, first_name, CorporationName)\n",
            "first_name : jared\n",
            "surname : ryan\n",
            "suburb : campbellfield\n",
            "postcode : 4680\n",
            "state : wa\n",
            "date_of_birth : 03/25/31\n",
            "soc_sec_id : 6128736\n",
            "\n",
            "first_name : jare\n",
            "surname : rysn\n",
            "suburb : campbellfield\n",
            "postcode : 4680\n",
            "state : wy\n",
            "date_of_birth : 03/25/31\n",
            "soc_sec_id : 6128736\n",
            "\n",
            "14/10 positive, 4/10 negative\n",
            "Do these records refer to the same thing?\n",
            "(y)es / (n)o / (u)nsure / (f)inished / (p)revious\n"
          ]
        },
        {
          "name": "stdout",
          "output_type": "stream",
          "text": [
            "f\n"
          ]
        },
        {
          "output_type": "stream",
          "name": "stderr",
          "text": [
            "Finished labeling\n"
          ]
        }
      ],
      "source": [
        "dedupe.console_label(linker2)"
      ]
    },
    {
      "cell_type": "markdown",
      "metadata": {
        "id": "-goVAIznG5dT"
      },
      "source": [
        "### Retrain the Linker and Examine Blocking Performance"
      ]
    },
    {
      "cell_type": "markdown",
      "metadata": {
        "id": "qaVolniOG5dU"
      },
      "source": [
        "Now, let's retrain, and examine blocker performance. Ideally, we see an improved true link retention following our second labeling session."
      ]
    },
    {
      "cell_type": "code",
      "execution_count": 34,
      "metadata": {
        "id": "bLPAWc4zG5dU",
        "colab": {
          "base_uri": "https://localhost:8080/"
        },
        "outputId": "aa64375f-4370-4abc-90ec-de00a4817e45"
      },
      "outputs": [
        {
          "output_type": "stream",
          "name": "stderr",
          "text": [
            "INFO:rlr.crossvalidation:using cross validation to find optimum alpha...\n",
            "/usr/local/lib/python3.7/dist-packages/rlr/crossvalidation.py:122: RuntimeWarning: invalid value encountered in double_scalars\n",
            "  * (true_distinct + false_distinct)))\n",
            "/usr/local/lib/python3.7/dist-packages/rlr/lr.py:47: RuntimeWarning: overflow encountered in exp\n",
            "  scores = np.exp(scores + self.bias) / (1 + np.exp(scores + self.bias))\n",
            "/usr/local/lib/python3.7/dist-packages/rlr/lr.py:47: RuntimeWarning: invalid value encountered in true_divide\n",
            "  scores = np.exp(scores + self.bias) / (1 + np.exp(scores + self.bias))\n",
            "INFO:rlr.crossvalidation:optimum alpha: 0.001000, score 0.10163888579390475\n",
            "INFO:dedupe.training:Final predicate set:\n"
          ]
        },
        {
          "output_type": "stream",
          "name": "stdout",
          "text": [
            "CPU times: user 9.43 s, sys: 1.55 s, total: 11 s\n",
            "Wall time: 9.23 s\n"
          ]
        }
      ],
      "source": [
        "%%time\n",
        "linker2.train()"
      ]
    },
    {
      "cell_type": "code",
      "source": [
        "df_candidate_links"
      ],
      "metadata": {
        "colab": {
          "base_uri": "https://localhost:8080/",
          "height": 438
        },
        "id": "7HaymASimNL6",
        "outputId": "8254bf85-f15e-4fbc-f409-7897e52c0a42"
      },
      "execution_count": 36,
      "outputs": [
        {
          "output_type": "execute_result",
          "data": {
            "text/html": [
              "<div>\n",
              "<style scoped>\n",
              "    .dataframe tbody tr th:only-of-type {\n",
              "        vertical-align: middle;\n",
              "    }\n",
              "\n",
              "    .dataframe tbody tr th {\n",
              "        vertical-align: top;\n",
              "    }\n",
              "\n",
              "    .dataframe thead th {\n",
              "        text-align: right;\n",
              "    }\n",
              "</style>\n",
              "<table border=\"1\" class=\"dataframe\">\n",
              "  <thead>\n",
              "    <tr style=\"text-align: right;\">\n",
              "      <th></th>\n",
              "      <th></th>\n",
              "    </tr>\n",
              "    <tr>\n",
              "      <th>person_id_A</th>\n",
              "      <th>person_id_B</th>\n",
              "    </tr>\n",
              "  </thead>\n",
              "  <tbody>\n",
              "    <tr>\n",
              "      <th>fbc4143d-15f9-4f27-b5f0-dedbadce6616</th>\n",
              "      <th>a9f5a761-83d6-452e-9f27-a452b3d06a4e</th>\n",
              "    </tr>\n",
              "    <tr>\n",
              "      <th>48a56cad-7ba6-45e1-97cd-517ba65bdab5</th>\n",
              "      <th>c77c2c04-4415-4c4d-b248-18dc28fd63d0</th>\n",
              "    </tr>\n",
              "    <tr>\n",
              "      <th>41f038b8-77c0-45a5-9e1f-e62b8637ffd1</th>\n",
              "      <th>337aa0c5-4a0a-4bcd-89db-6fa998fa783c</th>\n",
              "    </tr>\n",
              "    <tr>\n",
              "      <th>b4e3efc2-9c8f-4e3e-8b98-9bfa842094f9</th>\n",
              "      <th>e63f19ca-3f5b-4021-ac1e-05fc7495bd48</th>\n",
              "    </tr>\n",
              "    <tr>\n",
              "      <th>050a4ce1-8fc9-410d-bae1-65a70a518e34</th>\n",
              "      <th>e36dc4e4-c33c-4021-9dba-ceed3a4956d7</th>\n",
              "    </tr>\n",
              "    <tr>\n",
              "      <th>...</th>\n",
              "      <th>...</th>\n",
              "    </tr>\n",
              "    <tr>\n",
              "      <th>88211d39-93f1-404b-b2be-594a7a0a24dd</th>\n",
              "      <th>b143acb5-b7ad-49b0-aaef-6848b98ecb15</th>\n",
              "    </tr>\n",
              "    <tr>\n",
              "      <th>a63ef7fb-b231-492e-9e89-5a1b36871dab</th>\n",
              "      <th>fd5b5d7d-97f4-4ac7-a94d-6897540622e0</th>\n",
              "    </tr>\n",
              "    <tr>\n",
              "      <th>12923ed1-3ec4-4f05-a0ee-e2f50de15d02</th>\n",
              "      <th>95714e93-ddad-4ac3-ad72-c274429411aa</th>\n",
              "    </tr>\n",
              "    <tr>\n",
              "      <th>601bed72-e640-4894-b6f9-85b724133b1d</th>\n",
              "      <th>d6b87055-3867-4060-a21b-737313c74bfe</th>\n",
              "    </tr>\n",
              "    <tr>\n",
              "      <th>84795758-9c63-4e18-b41e-465c1a41648e</th>\n",
              "      <th>4826db2f-62ec-4a6b-9674-003401f3efcb</th>\n",
              "    </tr>\n",
              "  </tbody>\n",
              "</table>\n",
              "<p>1190 rows × 0 columns</p>\n",
              "</div>"
            ],
            "text/plain": [
              "Empty DataFrame\n",
              "Columns: []\n",
              "Index: [(fbc4143d-15f9-4f27-b5f0-dedbadce6616, a9f5a761-83d6-452e-9f27-a452b3d06a4e), (48a56cad-7ba6-45e1-97cd-517ba65bdab5, c77c2c04-4415-4c4d-b248-18dc28fd63d0), (41f038b8-77c0-45a5-9e1f-e62b8637ffd1, 337aa0c5-4a0a-4bcd-89db-6fa998fa783c), (b4e3efc2-9c8f-4e3e-8b98-9bfa842094f9, e63f19ca-3f5b-4021-ac1e-05fc7495bd48), (050a4ce1-8fc9-410d-bae1-65a70a518e34, e36dc4e4-c33c-4021-9dba-ceed3a4956d7), (7264bfb0-bbcb-4f68-b9bf-03619237cfb2, 8e5d98b8-9611-480e-8c65-b0e56520307b), (67f406b1-ddbe-4dff-b725-f6653f8af0a6, 97bbf64b-d893-4af2-91d8-86215fe0a4f7), (4091b2cd-f68c-447e-80ff-5ee4dde4f057, de64cc87-e3f4-4546-8e20-1294b19f9cac), (ff86e492-166d-4652-bf5b-61b9eef60e51, 0e4b371a-3c2b-4e2d-bae3-1e37058855b7), (75d0094f-ff34-4ebb-947f-387c040e463e, d2f7b732-f4fa-455a-a5c4-9dd4c5e3f6bf), (df7a3ed9-d022-4782-9dd6-948666d9a13d, d1bcd6d6-42a4-4bfd-a1ac-77f6b071f399), (03cce5d2-1737-4fad-b2ad-edab154baf48, 45e25cf7-57fb-4a76-b4cc-67d77376d725), (e4847dc7-b9e3-4ee8-9f47-e94aea969fa8, f96f22e2-6df6-426a-a3ad-8a1c6d1cb81f), (f1ce5552-216e-475d-811c-faaa28737378, 9e614876-19c4-4f31-bc1e-c545ff98d8d0), (877b827f-1e43-4e2a-a099-6f41a3de2f4c, d7768fbc-971f-4bdd-b85e-c3b78bfd3cfd), (d9ccd699-358a-4dce-8719-44d93b0cadf0, fc0d98b1-c981-4ee7-83ca-2e8849fe5dad), (18971456-d6af-400c-bdbd-6c7cbc99860b, c3779b23-3691-4e2b-af56-960662e1f3ad), (a1fcb0fc-bdde-4cec-8cae-1c39f4c9c93c, a454040a-5bae-4d75-808c-b8df8e099bb7), (421fcd72-6e37-4e15-8523-c8a8a417ecff, bbe0c226-1ddc-48f6-bbe2-9e1de88f0c44), (57efa3d2-ca61-4c18-a26a-246c3fcb4548, b094106b-5a63-4686-9b9c-0d0dd5320d7f), (d9395067-4ddc-4057-b758-de75032f59d0, 9e5fe0d0-4c78-4959-96f1-f766eb91673e), (3b24d404-7c24-4447-9d53-388d17f57373, 3f8c8569-669b-4ba0-b1a0-1248249a8793), (26ebaeca-bed3-4e20-9f3d-79a6a6335bde, 4dc3c004-2f0c-49aa-bddc-8600b97e60a6), (1be11122-b19a-4fb5-91e8-a4dfb86cf8d2, cfae6b05-b3a0-409d-a16e-27868a7aed38), (08f60a1a-7f54-456e-aa5a-cd29149dfed2, a72e7383-cefa-457b-9c1b-3f5f08a22d9b), (c330dee6-48b0-459c-a841-779b4ef34fba, a2926c77-141e-4fae-bbd4-3b724872ef65), (d84e8ad9-88cc-4676-bd5d-f70caa5089ce, 8ed9e350-73c1-4349-b5cc-4411cd828854), (c5812506-9afe-41c6-944f-e08cae90f2ea, 607d49fb-b8a8-4fbe-bb1d-4942b203d22b), (3d524623-e6d2-413c-879e-98507e8b0180, bb7d0330-021c-4d44-bea6-8b0784edb5f8), (d88e3074-f2a0-41ca-b74c-6beda7ab4399, e5d40cc5-dd0a-4c54-8e54-1a883be5cea6), (a21d70f4-f9c5-4e4f-b879-117e8f691b06, 664c1008-6c46-433b-b2b1-07331dc8abb6), (a2b7f6a4-9339-4005-87bd-0e3e94e5dc85, fc74c77c-2614-4431-a5e2-2ca6db414f1c), (21b7fae4-cf05-4d2c-8093-f6df143ac2e6, 327b7ffd-dad2-47ef-a114-4a7e4632be09), (750ea5ce-b0dd-45c7-95cb-8c3ad7abdf9a, 02ea4a0d-253f-4ae0-83ae-ee1688d3cd7f), (5f9fe83f-144b-4743-aa49-d06cac876d91, 04ff16aa-b5ed-40f3-a2bd-67aa329da713), (cd7b261d-72c4-4ad9-a831-ce345e31a4e1, 973a8b48-66a4-4c0f-875d-d5927460cef9), (9530b25c-076c-40ee-8c89-fc7c0556a6a7, 14340db6-5ae7-4f2c-ae8b-83aef0c262f7), (fee2a7e5-2a4e-4930-acad-4ecd7233d296, ad491112-9c0f-4364-b892-618538c9f673), (09e36bac-1b31-4a7a-85d0-e573e189ebeb, 2c34f9fc-66d3-4681-8a38-bcada97549c6), (25b06917-50b5-4266-a53c-41670d153e65, c8c61cbf-214f-415d-b324-3e9360e38978), (ddfde3c4-e005-4a81-924f-9ab6e58bb5fa, 83f55fc1-674b-460d-954a-7304dbb034c3), (dfb4b27c-ab39-4f9b-915f-30638a9bcb04, f212b943-1e9c-46fc-8ee6-22b23b7a3de5), (2183d858-a10d-46ad-95b1-654a281753e5, b4131c54-2712-4a8d-a71f-66c37e57ffbf), (08edfd45-334e-46df-9a3f-1845c2f7dc59, 94a678ab-5419-48b4-ad6a-c70eb09873bf), (308ce185-8a67-46ba-8565-dc7ea0b8279d, e841e841-dd48-4e4a-984d-fbb41fa6da79), (7de4bd9a-4bc5-4724-955f-915edab949dd, 903e7504-0b90-4a8d-876b-42d4af1d3f64), (fb9055d9-87c4-4ab0-8c90-fb026d72eeac, ea0f0b86-56fa-4fa4-ba2e-5967d0aa3fad), (d73739d5-c71e-4d36-9200-343915f33566, fa7daaa3-511a-44b8-9068-86e8be2f3e4b), (0e332e71-ade7-4fa0-86b7-7cf95cfadc7f, bff3e47e-ccb0-4d24-bcc7-56ae299e7ab8), (b89b48fb-c9d9-4fed-9fee-7bed353f028b, 0a7ab794-fa0d-4478-8010-ddfb6ba0621f), (9a2bbfbb-6bc7-41dd-9391-af8374fa96a4, 6044b518-6c9b-47c4-94d3-d39f95e5cbf8), (c28cde27-b4f0-493a-80d1-d40d63094a7c, a80a84e4-4073-4876-8218-fb2e12e1a05f), (5dbc844f-874a-4fef-a9fc-7513b8af731b, edc2d69e-7063-43ff-80dc-e351979c085e), (fac3662b-782b-4628-8e76-d7917793f78f, f592d9e4-34da-4080-b6fc-c95c8744e11b), (f8dd1c60-bb21-47df-b03e-ffc408c926dc, b92aec2b-6979-4f79-8b16-f15dd1cb889a), (07b18167-d2bb-44f3-a0e8-e137ecb5c5b5, a41df665-9ebd-41bd-8615-a3e94bee0183), (cc7e4e5c-6949-4e11-bd25-dbb267a468f1, 4dffb7fd-110e-4fce-845f-9a7f491e860a), (225f6784-c5c8-4908-ba28-b77a34e7654a, 90c58529-11ad-4343-a3e4-6bef69dbf7e1), (aa936872-6963-4ccc-b8e2-48e884d9cc60, 4c31e10e-56a9-4d06-9cfd-22a7fe70e974), (a53b9c63-2989-4455-9981-da6d24d37413, e1e9330d-78db-4704-9996-ce9e6d87e401), (ff35c358-732f-40ed-a686-bd228089323a, 79160577-d48f-4434-9ff1-af16a4eebf4c), (ef0f563b-3e30-4452-a36c-a30f41fbb252, 5cc86ec4-e843-4beb-a3a8-93583ce3102f), (f6a82e99-bf40-4b0d-a161-7e73c2baf7d3, b54f16ce-6a73-458e-89c2-837a0cd4e672), (53d01b9f-9add-4807-ab99-96f5be12f451, 3a0d767a-a683-45e5-a0e1-f0ab369e5be6), (8f04149d-abd7-463c-94a3-bf38ea24488e, 16e68706-3fbe-4558-bf79-dda047b8bf9e), (8e84f2dd-9c90-4422-b8f7-07008869538b, 0f47a2f5-170f-4a7c-a3ee-51a4b1292f0b), (e48cda20-a10f-43cc-ac7a-e460763b7b4a, 7ec3e7f5-b44c-453c-b06e-6d33578731f3), (8ec916d6-37f9-48d5-9a48-026a4e274ce4, f24f499e-39ac-4501-af47-b267bbd9b73a), (b82201af-cdf1-4488-baee-66d3e5d41503, d675e861-9b76-4ad0-b2c6-e7e123f65b50), (32d3555a-f8f5-4d0c-9d60-147bf69e60c1, 15b9af9f-aeb7-4329-a6bd-5ebd6cea667c), (d9c54112-e37d-4381-8e23-191dddae787e, fd8422eb-976c-41dc-bf99-139841e6686c), (63dfd460-71c1-4abb-bdd4-8bec41941843, e37442f9-a3cb-43d6-b913-a7482bbadeff), (86746bcd-33f4-499b-96c6-b86371972f7e, 58c280ba-8d05-456f-bac6-ed90e7ad000a), (aa8a1033-847b-47c7-b5cd-4a429748c32e, 030f9300-6c67-4af6-8300-e52905465d38), (f4129fed-1f09-4de9-b794-070603a68ca6, 750916cd-f156-43c7-b7df-56ba51ed60c0), (1fb60733-7be5-489a-a94a-cb808d895b69, 2aa5ba7e-92f0-4618-9783-3873bb60c940), (95ea16ca-9fe9-4d99-a836-f47d0421e115, 178052f4-539b-48b0-9bca-f21e4b6f833c), (e51b769b-ce42-4807-89d5-b17bfd5f9a55, 550cfb60-5961-444b-8cb8-ba33005b09d7), (3703e072-f5ad-4d21-851b-daf2fe9866cf, 18e2dd84-cc5e-4379-8890-225192ea8493), (473a9a0f-3d4b-46d9-ba4d-da58d2839292, 6895424e-3770-4d84-9dbe-ba5a454f8481), (25b9d081-1d50-4c26-8380-f9ef5774f804, ae29719b-baf8-4563-8a2b-277f86ba8a5f), (d496d653-8474-42ab-9476-156ca8c07a26, ff87682e-77d3-42eb-b282-d14944b5d090), (795844a7-a1a7-4d19-839b-fdd19ea41522, d597fd55-827c-48bc-86ff-5db4ba1ea953), (2d81b41a-0dca-4c41-8874-9316940b0d2d, 877f0d40-a669-4a9d-995d-82b9146c3fd9), (ac884ba7-fb20-4029-95d3-4f7c71eab23d, dd222e65-778e-4e78-9f8c-f714725fa2c7), (11ee472c-64c9-4f1e-bb42-fd8c84eef085, 87b4988c-cfc3-4d02-89ee-07ee49e00824), (b6cabd65-0a59-4c99-9ad9-9c45fd582f34, a5aaaf37-a427-4117-a72d-186bd2d0f545), (e5c6edc4-157d-43bf-8c70-2b6524305b2d, cfdef36f-a16b-4176-90ad-683ddb6fc6a7), (61f7b854-7d8f-40b9-8488-ba0de08789ef, 0f7f1638-5ba4-47b5-9d0e-f013def6f166), (97ac741c-e216-44e4-8dfd-da08a98fa4e6, 8133f781-a967-4d00-8023-b565dacc7985), (2f0964a8-6d07-4c74-af52-18758459e2eb, 31cd4042-068b-423e-bd20-b563b51d1af7), (8bb72382-8c62-445e-9d2b-036ee276cd32, dda22117-50c0-4327-89ec-fed8975f4c97), (33ac3b84-5133-4ae6-bfab-75ee9a44184d, de1dfc2a-18c1-479e-b733-dc03c28d9ce6), (a40941aa-3c09-4d19-a282-f7b685ab0ea6, 96a0b493-c76a-4dee-b235-e50a2fc4f386), (2b8dd0ec-2185-4872-b802-63dffe02b2f9, efb5b72c-c404-4d67-bdfc-3e0a76dc69b8), (09e73386-497c-47e4-99e1-fe99532b9521, 53420857-e73f-46fd-bf30-996c38afd1e7), (a4ad3107-b6f3-4dbc-8eed-9e1404ea1a49, 6fd44514-2824-4852-a1cb-5853ab4775c0), (16b04992-28d0-4d8b-8863-1b687d2b435f, c7e4245a-e320-40c1-9fcd-67ea79bbe0db), (ebf01dc7-8e96-418a-a3b4-be0bd509a784, 6674ec3a-cf7a-4f8d-bb5f-f4a22ce9145a), (51b2bcad-d8e1-4064-be97-3f1523c52818, a1357eed-14ba-4ecf-b191-367a9b2c53de), ...]\n",
              "\n",
              "[1190 rows x 0 columns]"
            ]
          },
          "metadata": {},
          "execution_count": 36
        }
      ]
    },
    {
      "cell_type": "code",
      "execution_count": 47,
      "metadata": {
        "id": "Wc-tY-NwG5dU",
        "colab": {
          "base_uri": "https://localhost:8080/"
        },
        "outputId": "3a7f22ff-f51b-4073-e333-5313a5c128ef"
      },
      "outputs": [
        {
          "output_type": "stream",
          "name": "stdout",
          "text": [
            "0 candidate pairs generated from blocking.\n"
          ]
        }
      ],
      "source": [
        "candidate_pairs = [x for x in linker2.pairs(records_A, records_B)]\n",
        "print(f\"{len(candidate_pairs):,} candidate pairs generated from blocking.\")\n",
        "if len(candidate_pairs)!=0:\n",
        "  df_candidate_links = pd.DataFrame(\n",
        "    [(x[0][0], x[1][0]) for x in candidate_pairs]\n",
        "  ).rename(columns={0 : \"person_id_A\", 1 : \"person_id_B\"})\n",
        "  print(df_candidate_links.columns)\n",
        "  df_candidate_links.set_index([\"person_id_A\", \"person_id_B\"])\n",
        "\n",
        "  max_candidate_pairs = df_A.shape[0]*df_B.shape[0]\n",
        "\n",
        "  print(f\"{max_candidate_pairs:,} total possible pairs.\")\n",
        "\n",
        "  # Calculate search space reduction.\n",
        "  search_space_reduction = round(1 - len(candidate_pairs)/max_candidate_pairs, 6)\n",
        "  print(f\"\\n{len(candidate_pairs):,} pairs after full blocking: {search_space_reduction}% search space reduction.\")\n",
        "\n",
        "  # Calculate retained true links percentage.\n",
        "  total_true_links = df_ground_truth.shape[0]\n",
        "  true_links_after_blocking = pd.merge(\n",
        "      df_ground_truth,\n",
        "      df_candidate_links,\n",
        "      left_index=True,\n",
        "      right_index=True,\n",
        "      how=\"inner\"\n",
        "  ).shape[0]\n",
        "\n",
        "  retained_true_link_percent = round((true_links_after_blocking/total_true_links) * 100, 2)\n",
        "  print(f\"{retained_true_link_percent}% true links retained after blocking.\")"
      ]
    },
    {
      "cell_type": "markdown",
      "metadata": {
        "id": "LSxIWYktG5dV"
      },
      "source": [
        "### Evaluate Classification Performance"
      ]
    },
    {
      "cell_type": "code",
      "execution_count": 43,
      "metadata": {
        "id": "otdbKRXkG5dV",
        "colab": {
          "base_uri": "https://localhost:8080/",
          "height": 455
        },
        "outputId": "8de111db-d820-4025-9f54-69f599e0b0ff"
      },
      "outputs": [
        {
          "output_type": "execute_result",
          "data": {
            "text/html": [
              "<div>\n",
              "<style scoped>\n",
              "    .dataframe tbody tr th:only-of-type {\n",
              "        vertical-align: middle;\n",
              "    }\n",
              "\n",
              "    .dataframe tbody tr th {\n",
              "        vertical-align: top;\n",
              "    }\n",
              "\n",
              "    .dataframe thead th {\n",
              "        text-align: right;\n",
              "    }\n",
              "</style>\n",
              "<table border=\"1\" class=\"dataframe\">\n",
              "  <thead>\n",
              "    <tr style=\"text-align: right;\">\n",
              "      <th></th>\n",
              "      <th></th>\n",
              "      <th>model_score</th>\n",
              "      <th>ground_truth</th>\n",
              "    </tr>\n",
              "    <tr>\n",
              "      <th>person_id_A</th>\n",
              "      <th>person_id_B</th>\n",
              "      <th></th>\n",
              "      <th></th>\n",
              "    </tr>\n",
              "  </thead>\n",
              "  <tbody>\n",
              "    <tr>\n",
              "      <th>fff044ab-8dca-4946-bfa4-1675ee7d56b5</th>\n",
              "      <th>99060a0c-e1bf-4869-bf08-2e15389193b6</th>\n",
              "      <td>1.000000</td>\n",
              "      <td>True</td>\n",
              "    </tr>\n",
              "    <tr>\n",
              "      <th>ffd668ac-2f63-4c05-a6a3-58ebcf1f4a80</th>\n",
              "      <th>3e8c4b67-3611-4a08-84c8-b082b627bb21</th>\n",
              "      <td>1.000000</td>\n",
              "      <td>True</td>\n",
              "    </tr>\n",
              "    <tr>\n",
              "      <th>ff86e492-166d-4652-bf5b-61b9eef60e51</th>\n",
              "      <th>0e4b371a-3c2b-4e2d-bae3-1e37058855b7</th>\n",
              "      <td>1.000000</td>\n",
              "      <td>True</td>\n",
              "    </tr>\n",
              "    <tr>\n",
              "      <th>ff64e7b6-7a23-45d2-abfd-df84b7dfe02a</th>\n",
              "      <th>e44731a3-6d4d-4d1e-8466-57aef723dcdc</th>\n",
              "      <td>1.000000</td>\n",
              "      <td>True</td>\n",
              "    </tr>\n",
              "    <tr>\n",
              "      <th>fed0c57c-c844-47f9-a338-3777f231729b</th>\n",
              "      <th>b908bc05-6230-4b65-91d4-b7aa8f61b6b0</th>\n",
              "      <td>1.000000</td>\n",
              "      <td>True</td>\n",
              "    </tr>\n",
              "    <tr>\n",
              "      <th>...</th>\n",
              "      <th>...</th>\n",
              "      <td>...</td>\n",
              "      <td>...</td>\n",
              "    </tr>\n",
              "    <tr>\n",
              "      <th>62d4aa2a-864d-4646-87d2-f7117a1a4e0f</th>\n",
              "      <th>11bbd921-7258-421e-814c-2cd50347429a</th>\n",
              "      <td>0.207074</td>\n",
              "      <td>True</td>\n",
              "    </tr>\n",
              "    <tr>\n",
              "      <th>c720fe31-603b-483b-a65e-0aec2f5a1fd0</th>\n",
              "      <th>90e57a5c-a1a0-4ecb-9f2e-793aea34b056</th>\n",
              "      <td>0.202214</td>\n",
              "      <td>True</td>\n",
              "    </tr>\n",
              "    <tr>\n",
              "      <th>23afe634-5cbe-4a97-a33a-a611cb8c702c</th>\n",
              "      <th>efc1f4fa-fb86-424c-89ac-ed3be8a75519</th>\n",
              "      <td>0.159320</td>\n",
              "      <td>True</td>\n",
              "    </tr>\n",
              "    <tr>\n",
              "      <th>88211d39-93f1-404b-b2be-594a7a0a24dd</th>\n",
              "      <th>b143acb5-b7ad-49b0-aaef-6848b98ecb15</th>\n",
              "      <td>0.044695</td>\n",
              "      <td>True</td>\n",
              "    </tr>\n",
              "    <tr>\n",
              "      <th>b014c251-b24c-4713-9b9a-0d29487927b4</th>\n",
              "      <th>3cc6ecdc-f80c-460e-8699-07ff742cbb1d</th>\n",
              "      <td>0.000030</td>\n",
              "      <td>True</td>\n",
              "    </tr>\n",
              "  </tbody>\n",
              "</table>\n",
              "<p>1190 rows × 2 columns</p>\n",
              "</div>"
            ],
            "text/plain": [
              "                                                                           model_score  ground_truth\n",
              "person_id_A                          person_id_B                                                    \n",
              "fff044ab-8dca-4946-bfa4-1675ee7d56b5 99060a0c-e1bf-4869-bf08-2e15389193b6     1.000000          True\n",
              "ffd668ac-2f63-4c05-a6a3-58ebcf1f4a80 3e8c4b67-3611-4a08-84c8-b082b627bb21     1.000000          True\n",
              "ff86e492-166d-4652-bf5b-61b9eef60e51 0e4b371a-3c2b-4e2d-bae3-1e37058855b7     1.000000          True\n",
              "ff64e7b6-7a23-45d2-abfd-df84b7dfe02a e44731a3-6d4d-4d1e-8466-57aef723dcdc     1.000000          True\n",
              "fed0c57c-c844-47f9-a338-3777f231729b b908bc05-6230-4b65-91d4-b7aa8f61b6b0     1.000000          True\n",
              "...                                                                                ...           ...\n",
              "62d4aa2a-864d-4646-87d2-f7117a1a4e0f 11bbd921-7258-421e-814c-2cd50347429a     0.207074          True\n",
              "c720fe31-603b-483b-a65e-0aec2f5a1fd0 90e57a5c-a1a0-4ecb-9f2e-793aea34b056     0.202214          True\n",
              "23afe634-5cbe-4a97-a33a-a611cb8c702c efc1f4fa-fb86-424c-89ac-ed3be8a75519     0.159320          True\n",
              "88211d39-93f1-404b-b2be-594a7a0a24dd b143acb5-b7ad-49b0-aaef-6848b98ecb15     0.044695          True\n",
              "b014c251-b24c-4713-9b9a-0d29487927b4 3cc6ecdc-f80c-460e-8699-07ff742cbb1d     0.000030          True\n",
              "\n",
              "[1190 rows x 2 columns]"
            ]
          },
          "metadata": {},
          "execution_count": 43
        }
      ],
      "source": [
        "df_predictions = pd.DataFrame(\n",
        "    [ {\"person_id_A\" : x[0][0], \"person_id_B\" : x[0][1], \"model_score\" : x[1]} for x in linked_records]\n",
        ")\n",
        "\n",
        "df_predictions = df_predictions.set_index([\"person_id_A\", \"person_id_B\"])\n",
        "\n",
        "df_predictions = pd.merge(\n",
        "    df_predictions,\n",
        "    df_ground_truth,\n",
        "    left_index=True,\n",
        "    right_index=True,\n",
        "    how=\"left\",\n",
        ")\n",
        "\n",
        "df_predictions[\"ground_truth\"].fillna(False, inplace=True)\n",
        "df_predictions"
      ]
    },
    {
      "cell_type": "code",
      "execution_count": 44,
      "metadata": {
        "id": "_mlJEHf_G5dV",
        "colab": {
          "base_uri": "https://localhost:8080/"
        },
        "outputId": "3bef21ce-72c0-437f-9fef-979b9f6aabf7"
      },
      "outputs": [
        {
          "output_type": "execute_result",
          "data": {
            "text/plain": [
              "True    1190\n",
              "Name: ground_truth, dtype: int64"
            ]
          },
          "metadata": {},
          "execution_count": 44
        }
      ],
      "source": [
        "df_predictions[\"ground_truth\"].value_counts()"
      ]
    },
    {
      "cell_type": "code",
      "execution_count": 45,
      "metadata": {
        "id": "VSFEdQceG5dW",
        "colab": {
          "base_uri": "https://localhost:8080/",
          "height": 485
        },
        "outputId": "d1b07c9a-4255-4772-a1d5-d5a838443867"
      },
      "outputs": [
        {
          "output_type": "execute_result",
          "data": {
            "text/plain": [
              "alt.Chart(...)"
            ],
            "text/html": [
              "\n",
              "<div id=\"altair-viz-df61c53290284b73b15dd8aa9fa4f51e\"></div>\n",
              "<script type=\"text/javascript\">\n",
              "  (function(spec, embedOpt){\n",
              "    let outputDiv = document.currentScript.previousElementSibling;\n",
              "    if (outputDiv.id !== \"altair-viz-df61c53290284b73b15dd8aa9fa4f51e\") {\n",
              "      outputDiv = document.getElementById(\"altair-viz-df61c53290284b73b15dd8aa9fa4f51e\");\n",
              "    }\n",
              "    const paths = {\n",
              "      \"vega\": \"https://cdn.jsdelivr.net/npm//vega@5?noext\",\n",
              "      \"vega-lib\": \"https://cdn.jsdelivr.net/npm//vega-lib?noext\",\n",
              "      \"vega-lite\": \"https://cdn.jsdelivr.net/npm//vega-lite@4.8.1?noext\",\n",
              "      \"vega-embed\": \"https://cdn.jsdelivr.net/npm//vega-embed@6?noext\",\n",
              "    };\n",
              "\n",
              "    function loadScript(lib) {\n",
              "      return new Promise(function(resolve, reject) {\n",
              "        var s = document.createElement('script');\n",
              "        s.src = paths[lib];\n",
              "        s.async = true;\n",
              "        s.onload = () => resolve(paths[lib]);\n",
              "        s.onerror = () => reject(`Error loading script: ${paths[lib]}`);\n",
              "        document.getElementsByTagName(\"head\")[0].appendChild(s);\n",
              "      });\n",
              "    }\n",
              "\n",
              "    function showError(err) {\n",
              "      outputDiv.innerHTML = `<div class=\"error\" style=\"color:red;\">${err}</div>`;\n",
              "      throw err;\n",
              "    }\n",
              "\n",
              "    function displayChart(vegaEmbed) {\n",
              "      vegaEmbed(outputDiv, spec, embedOpt)\n",
              "        .catch(err => showError(`Javascript Error: ${err.message}<br>This usually means there's a typo in your chart specification. See the javascript console for the full traceback.`));\n",
              "    }\n",
              "\n",
              "    if(typeof define === \"function\" && define.amd) {\n",
              "      requirejs.config({paths});\n",
              "      require([\"vega-embed\"], displayChart, err => showError(`Error loading script: ${err.message}`));\n",
              "    } else if (typeof vegaEmbed === \"function\") {\n",
              "      displayChart(vegaEmbed);\n",
              "    } else {\n",
              "      loadScript(\"vega\")\n",
              "        .then(() => loadScript(\"vega-lite\"))\n",
              "        .then(() => loadScript(\"vega-embed\"))\n",
              "        .catch(showError)\n",
              "        .then(() => displayChart(vegaEmbed));\n",
              "    }\n",
              "  })({\"config\": {\"view\": {\"continuousWidth\": 400, \"continuousHeight\": 300}}, \"data\": {\"name\": \"data-5e5a58805c8a9be24f753e6dbe73e1bc\"}, \"mark\": {\"type\": \"bar\", \"binSpacing\": 0, \"opacity\": 0.7}, \"encoding\": {\"color\": {\"type\": \"nominal\", \"field\": \"ground_truth\", \"legend\": {\"title\": \"Ground Truth Label\"}, \"scale\": {\"domain\": [\"True Link\", \"Not a Link\"], \"scheme\": \"tableau10\"}}, \"opacity\": {\"condition\": {\"value\": 0.7, \"selection\": \"selector005\"}, \"value\": 0.2}, \"tooltip\": [{\"type\": \"quantitative\", \"field\": \"model_score\", \"title\": \"Model Score\"}, {\"type\": \"nominal\", \"field\": \"ground_truth\", \"title\": \"Ground Truth\"}, {\"type\": \"quantitative\", \"field\": \"count\", \"title\": \"Count of Links\"}], \"x\": {\"type\": \"quantitative\", \"axis\": {\"tickCount\": 5, \"title\": \"Model Score (Binned)\"}, \"bin\": {\"extent\": [0, 1], \"step\": 0.01}, \"field\": \"model_score\"}, \"y\": {\"type\": \"quantitative\", \"axis\": {\"title\": \"Count of Links\"}, \"field\": \"count\", \"stack\": null}}, \"height\": 400, \"selection\": {\"selector005\": {\"type\": \"multi\", \"fields\": [\"ground_truth\"], \"bind\": \"legend\"}, \"selector006\": {\"type\": \"interval\", \"bind\": \"scales\", \"encodings\": [\"x\", \"y\"]}}, \"title\": \"Model Score Distribution\", \"width\": 800, \"$schema\": \"https://vega.github.io/schema/vega-lite/v4.8.1.json\", \"datasets\": {\"data-5e5a58805c8a9be24f753e6dbe73e1bc\": [{\"model_score\": 0.0, \"ground_truth\": \"True Link\", \"count\": 1}, {\"model_score\": 0.04, \"ground_truth\": \"True Link\", \"count\": 1}, {\"model_score\": 0.16, \"ground_truth\": \"True Link\", \"count\": 1}, {\"model_score\": 0.2, \"ground_truth\": \"True Link\", \"count\": 1}, {\"model_score\": 0.21, \"ground_truth\": \"True Link\", \"count\": 1}, {\"model_score\": 0.25, \"ground_truth\": \"True Link\", \"count\": 1}, {\"model_score\": 0.28, \"ground_truth\": \"True Link\", \"count\": 1}, {\"model_score\": 0.58, \"ground_truth\": \"True Link\", \"count\": 1}, {\"model_score\": 0.93, \"ground_truth\": \"True Link\", \"count\": 1}, {\"model_score\": 0.97, \"ground_truth\": \"True Link\", \"count\": 1}, {\"model_score\": 0.98, \"ground_truth\": \"True Link\", \"count\": 1}, {\"model_score\": 1.0, \"ground_truth\": \"True Link\", \"count\": 1179}]}}, {\"mode\": \"vega-lite\"});\n",
              "</script>"
            ]
          },
          "metadata": {},
          "execution_count": 45
        }
      ],
      "source": [
        "tutorial.plot_model_score_distribution(df_predictions)"
      ]
    },
    {
      "cell_type": "code",
      "execution_count": 46,
      "metadata": {
        "id": "t5f3aV5GG5dW",
        "colab": {
          "base_uri": "https://localhost:8080/",
          "height": 485
        },
        "outputId": "2512f289-4c46-4400-cf6f-033a9490a194"
      },
      "outputs": [
        {
          "output_type": "execute_result",
          "data": {
            "text/plain": [
              "alt.LayerChart(...)"
            ],
            "text/html": [
              "\n",
              "<div id=\"altair-viz-8435ea6ee46d4dd4915cfbdcf93d6d9c\"></div>\n",
              "<script type=\"text/javascript\">\n",
              "  (function(spec, embedOpt){\n",
              "    let outputDiv = document.currentScript.previousElementSibling;\n",
              "    if (outputDiv.id !== \"altair-viz-8435ea6ee46d4dd4915cfbdcf93d6d9c\") {\n",
              "      outputDiv = document.getElementById(\"altair-viz-8435ea6ee46d4dd4915cfbdcf93d6d9c\");\n",
              "    }\n",
              "    const paths = {\n",
              "      \"vega\": \"https://cdn.jsdelivr.net/npm//vega@5?noext\",\n",
              "      \"vega-lib\": \"https://cdn.jsdelivr.net/npm//vega-lib?noext\",\n",
              "      \"vega-lite\": \"https://cdn.jsdelivr.net/npm//vega-lite@4.8.1?noext\",\n",
              "      \"vega-embed\": \"https://cdn.jsdelivr.net/npm//vega-embed@6?noext\",\n",
              "    };\n",
              "\n",
              "    function loadScript(lib) {\n",
              "      return new Promise(function(resolve, reject) {\n",
              "        var s = document.createElement('script');\n",
              "        s.src = paths[lib];\n",
              "        s.async = true;\n",
              "        s.onload = () => resolve(paths[lib]);\n",
              "        s.onerror = () => reject(`Error loading script: ${paths[lib]}`);\n",
              "        document.getElementsByTagName(\"head\")[0].appendChild(s);\n",
              "      });\n",
              "    }\n",
              "\n",
              "    function showError(err) {\n",
              "      outputDiv.innerHTML = `<div class=\"error\" style=\"color:red;\">${err}</div>`;\n",
              "      throw err;\n",
              "    }\n",
              "\n",
              "    function displayChart(vegaEmbed) {\n",
              "      vegaEmbed(outputDiv, spec, embedOpt)\n",
              "        .catch(err => showError(`Javascript Error: ${err.message}<br>This usually means there's a typo in your chart specification. See the javascript console for the full traceback.`));\n",
              "    }\n",
              "\n",
              "    if(typeof define === \"function\" && define.amd) {\n",
              "      requirejs.config({paths});\n",
              "      require([\"vega-embed\"], displayChart, err => showError(`Error loading script: ${err.message}`));\n",
              "    } else if (typeof vegaEmbed === \"function\") {\n",
              "      displayChart(vegaEmbed);\n",
              "    } else {\n",
              "      loadScript(\"vega\")\n",
              "        .then(() => loadScript(\"vega-lite\"))\n",
              "        .then(() => loadScript(\"vega-embed\"))\n",
              "        .catch(showError)\n",
              "        .then(() => displayChart(vegaEmbed));\n",
              "    }\n",
              "  })({\"config\": {\"view\": {\"continuousWidth\": 400, \"continuousHeight\": 300}}, \"layer\": [{\"mark\": \"line\", \"encoding\": {\"color\": {\"type\": \"nominal\", \"field\": \"variable\", \"legend\": {\"title\": \"Variable\"}}, \"tooltip\": [{\"type\": \"nominal\", \"field\": \"variable\"}, {\"type\": \"quantitative\", \"field\": \"threshold\"}, {\"type\": \"quantitative\", \"field\": \"value\"}], \"x\": {\"type\": \"quantitative\", \"axis\": {\"title\": \"Model Threshold\"}, \"field\": \"threshold\"}, \"y\": {\"type\": \"quantitative\", \"axis\": {\"title\": \"Precision/Recall Value\"}, \"field\": \"value\", \"scale\": {\"domain\": [0, 1]}}}, \"selection\": {\"selector008\": {\"type\": \"interval\", \"bind\": \"scales\", \"encodings\": [\"x\", \"y\"]}}, \"title\": \"Precision and Recall v.s. Model Threshold\"}, {\"mark\": \"point\", \"encoding\": {\"opacity\": {\"value\": 0}, \"x\": {\"type\": \"quantitative\", \"field\": \"threshold\"}}, \"selection\": {\"selector007\": {\"type\": \"single\", \"nearest\": true, \"on\": \"mouseover\", \"fields\": [\"threshold\"], \"empty\": \"none\"}}}, {\"mark\": \"point\", \"encoding\": {\"color\": {\"type\": \"nominal\", \"field\": \"variable\", \"legend\": {\"title\": \"Variable\"}}, \"opacity\": {\"condition\": {\"value\": 1, \"selection\": \"selector007\"}, \"value\": 0}, \"tooltip\": [{\"type\": \"nominal\", \"field\": \"variable\"}, {\"type\": \"quantitative\", \"field\": \"threshold\"}, {\"type\": \"quantitative\", \"field\": \"value\"}], \"x\": {\"type\": \"quantitative\", \"axis\": {\"title\": \"Model Threshold\"}, \"field\": \"threshold\"}, \"y\": {\"type\": \"quantitative\", \"axis\": {\"title\": \"Precision/Recall Value\"}, \"field\": \"value\", \"scale\": {\"domain\": [0, 1]}}}, \"title\": \"Precision and Recall v.s. Model Threshold\"}, {\"mark\": {\"type\": \"rule\", \"color\": \"gray\"}, \"encoding\": {\"x\": {\"type\": \"quantitative\", \"field\": \"threshold\"}}, \"transform\": [{\"filter\": {\"selection\": \"selector007\"}}]}, {\"mark\": {\"type\": \"text\", \"align\": \"right\", \"dx\": -10, \"dy\": -5, \"fontWeight\": 300, \"lineBreak\": \"\\n\"}, \"encoding\": {\"color\": {\"type\": \"nominal\", \"field\": \"variable\", \"legend\": {\"title\": \"Variable\"}}, \"text\": {\"condition\": {\"type\": \"nominal\", \"field\": \"label\", \"selection\": \"selector007\"}, \"value\": \" \"}, \"tooltip\": [{\"type\": \"nominal\", \"field\": \"variable\"}, {\"type\": \"quantitative\", \"field\": \"threshold\"}, {\"type\": \"quantitative\", \"field\": \"value\"}], \"x\": {\"type\": \"quantitative\", \"axis\": {\"title\": \"Model Threshold\"}, \"field\": \"threshold\"}, \"y\": {\"type\": \"quantitative\", \"axis\": {\"title\": \"Precision/Recall Value\"}, \"field\": \"value\", \"scale\": {\"domain\": [0, 1]}}}, \"title\": \"Precision and Recall v.s. Model Threshold\"}], \"data\": {\"name\": \"data-531a74bcb6231de04f256a5b5b307684\"}, \"height\": 400, \"width\": 800, \"$schema\": \"https://vega.github.io/schema/vega-lite/v4.8.1.json\", \"datasets\": {\"data-531a74bcb6231de04f256a5b5b307684\": [{\"threshold\": 0.0, \"label\": \"threshold: 0.0\\nprecision: 1.0\\nrecall: 1.0\", \"variable\": \"recall\", \"value\": 1.0}, {\"threshold\": 0.02040816326530612, \"label\": \"threshold: 0.02\\nprecision: 1.0\\nrecall: 0.999\", \"variable\": \"recall\", \"value\": 0.9991596638655462}, {\"threshold\": 0.04081632653061224, \"label\": \"threshold: 0.041\\nprecision: 1.0\\nrecall: 0.999\", \"variable\": \"recall\", \"value\": 0.9991596638655462}, {\"threshold\": 0.061224489795918366, \"label\": \"threshold: 0.061\\nprecision: 1.0\\nrecall: 0.998\", \"variable\": \"recall\", \"value\": 0.9983193277310924}, {\"threshold\": 0.08163265306122448, \"label\": \"threshold: 0.082\\nprecision: 1.0\\nrecall: 0.998\", \"variable\": \"recall\", \"value\": 0.9983193277310924}, {\"threshold\": 0.1020408163265306, \"label\": \"threshold: 0.102\\nprecision: 1.0\\nrecall: 0.998\", \"variable\": \"recall\", \"value\": 0.9983193277310924}, {\"threshold\": 0.12244897959183673, \"label\": \"threshold: 0.122\\nprecision: 1.0\\nrecall: 0.998\", \"variable\": \"recall\", \"value\": 0.9983193277310924}, {\"threshold\": 0.14285714285714285, \"label\": \"threshold: 0.143\\nprecision: 1.0\\nrecall: 0.998\", \"variable\": \"recall\", \"value\": 0.9983193277310924}, {\"threshold\": 0.16326530612244897, \"label\": \"threshold: 0.163\\nprecision: 1.0\\nrecall: 0.997\", \"variable\": \"recall\", \"value\": 0.9974789915966387}, {\"threshold\": 0.18367346938775508, \"label\": \"threshold: 0.184\\nprecision: 1.0\\nrecall: 0.997\", \"variable\": \"recall\", \"value\": 0.9974789915966387}, {\"threshold\": 0.2040816326530612, \"label\": \"threshold: 0.204\\nprecision: 1.0\\nrecall: 0.997\", \"variable\": \"recall\", \"value\": 0.9966386554621849}, {\"threshold\": 0.22448979591836732, \"label\": \"threshold: 0.224\\nprecision: 1.0\\nrecall: 0.996\", \"variable\": \"recall\", \"value\": 0.9957983193277311}, {\"threshold\": 0.24489795918367346, \"label\": \"threshold: 0.245\\nprecision: 1.0\\nrecall: 0.996\", \"variable\": \"recall\", \"value\": 0.9957983193277311}, {\"threshold\": 0.26530612244897955, \"label\": \"threshold: 0.265\\nprecision: 1.0\\nrecall: 0.995\", \"variable\": \"recall\", \"value\": 0.9949579831932773}, {\"threshold\": 0.2857142857142857, \"label\": \"threshold: 0.286\\nprecision: 1.0\\nrecall: 0.994\", \"variable\": \"recall\", \"value\": 0.9941176470588236}, {\"threshold\": 0.3061224489795918, \"label\": \"threshold: 0.306\\nprecision: 1.0\\nrecall: 0.994\", \"variable\": \"recall\", \"value\": 0.9941176470588236}, {\"threshold\": 0.32653061224489793, \"label\": \"threshold: 0.327\\nprecision: 1.0\\nrecall: 0.994\", \"variable\": \"recall\", \"value\": 0.9941176470588236}, {\"threshold\": 0.3469387755102041, \"label\": \"threshold: 0.347\\nprecision: 1.0\\nrecall: 0.994\", \"variable\": \"recall\", \"value\": 0.9941176470588236}, {\"threshold\": 0.36734693877551017, \"label\": \"threshold: 0.367\\nprecision: 1.0\\nrecall: 0.994\", \"variable\": \"recall\", \"value\": 0.9941176470588236}, {\"threshold\": 0.3877551020408163, \"label\": \"threshold: 0.388\\nprecision: 1.0\\nrecall: 0.994\", \"variable\": \"recall\", \"value\": 0.9941176470588236}, {\"threshold\": 0.4081632653061224, \"label\": \"threshold: 0.408\\nprecision: 1.0\\nrecall: 0.994\", \"variable\": \"recall\", \"value\": 0.9941176470588236}, {\"threshold\": 0.42857142857142855, \"label\": \"threshold: 0.429\\nprecision: 1.0\\nrecall: 0.994\", \"variable\": \"recall\", \"value\": 0.9941176470588236}, {\"threshold\": 0.44897959183673464, \"label\": \"threshold: 0.449\\nprecision: 1.0\\nrecall: 0.994\", \"variable\": \"recall\", \"value\": 0.9941176470588236}, {\"threshold\": 0.4693877551020408, \"label\": \"threshold: 0.469\\nprecision: 1.0\\nrecall: 0.994\", \"variable\": \"recall\", \"value\": 0.9941176470588236}, {\"threshold\": 0.4897959183673469, \"label\": \"threshold: 0.49\\nprecision: 1.0\\nrecall: 0.994\", \"variable\": \"recall\", \"value\": 0.9941176470588236}, {\"threshold\": 0.5102040816326531, \"label\": \"threshold: 0.51\\nprecision: 1.0\\nrecall: 0.994\", \"variable\": \"recall\", \"value\": 0.9941176470588236}, {\"threshold\": 0.5306122448979591, \"label\": \"threshold: 0.531\\nprecision: 1.0\\nrecall: 0.994\", \"variable\": \"recall\", \"value\": 0.9941176470588236}, {\"threshold\": 0.5510204081632653, \"label\": \"threshold: 0.551\\nprecision: 1.0\\nrecall: 0.994\", \"variable\": \"recall\", \"value\": 0.9941176470588236}, {\"threshold\": 0.5714285714285714, \"label\": \"threshold: 0.571\\nprecision: 1.0\\nrecall: 0.994\", \"variable\": \"recall\", \"value\": 0.9941176470588236}, {\"threshold\": 0.5918367346938775, \"label\": \"threshold: 0.592\\nprecision: 1.0\\nrecall: 0.993\", \"variable\": \"recall\", \"value\": 0.9932773109243698}, {\"threshold\": 0.6122448979591836, \"label\": \"threshold: 0.612\\nprecision: 1.0\\nrecall: 0.993\", \"variable\": \"recall\", \"value\": 0.9932773109243698}, {\"threshold\": 0.6326530612244897, \"label\": \"threshold: 0.633\\nprecision: 1.0\\nrecall: 0.993\", \"variable\": \"recall\", \"value\": 0.9932773109243698}, {\"threshold\": 0.6530612244897959, \"label\": \"threshold: 0.653\\nprecision: 1.0\\nrecall: 0.993\", \"variable\": \"recall\", \"value\": 0.9932773109243698}, {\"threshold\": 0.673469387755102, \"label\": \"threshold: 0.673\\nprecision: 1.0\\nrecall: 0.993\", \"variable\": \"recall\", \"value\": 0.9932773109243698}, {\"threshold\": 0.6938775510204082, \"label\": \"threshold: 0.694\\nprecision: 1.0\\nrecall: 0.993\", \"variable\": \"recall\", \"value\": 0.9932773109243698}, {\"threshold\": 0.7142857142857142, \"label\": \"threshold: 0.714\\nprecision: 1.0\\nrecall: 0.993\", \"variable\": \"recall\", \"value\": 0.9932773109243698}, {\"threshold\": 0.7346938775510203, \"label\": \"threshold: 0.735\\nprecision: 1.0\\nrecall: 0.993\", \"variable\": \"recall\", \"value\": 0.9932773109243698}, {\"threshold\": 0.7551020408163265, \"label\": \"threshold: 0.755\\nprecision: 1.0\\nrecall: 0.993\", \"variable\": \"recall\", \"value\": 0.9932773109243698}, {\"threshold\": 0.7755102040816326, \"label\": \"threshold: 0.776\\nprecision: 1.0\\nrecall: 0.993\", \"variable\": \"recall\", \"value\": 0.9932773109243698}, {\"threshold\": 0.7959183673469387, \"label\": \"threshold: 0.796\\nprecision: 1.0\\nrecall: 0.993\", \"variable\": \"recall\", \"value\": 0.9932773109243698}, {\"threshold\": 0.8163265306122448, \"label\": \"threshold: 0.816\\nprecision: 1.0\\nrecall: 0.993\", \"variable\": \"recall\", \"value\": 0.9932773109243698}, {\"threshold\": 0.836734693877551, \"label\": \"threshold: 0.837\\nprecision: 1.0\\nrecall: 0.993\", \"variable\": \"recall\", \"value\": 0.9932773109243698}, {\"threshold\": 0.8571428571428571, \"label\": \"threshold: 0.857\\nprecision: 1.0\\nrecall: 0.993\", \"variable\": \"recall\", \"value\": 0.9932773109243698}, {\"threshold\": 0.8775510204081632, \"label\": \"threshold: 0.878\\nprecision: 1.0\\nrecall: 0.993\", \"variable\": \"recall\", \"value\": 0.9932773109243698}, {\"threshold\": 0.8979591836734693, \"label\": \"threshold: 0.898\\nprecision: 1.0\\nrecall: 0.993\", \"variable\": \"recall\", \"value\": 0.9932773109243698}, {\"threshold\": 0.9183673469387754, \"label\": \"threshold: 0.918\\nprecision: 1.0\\nrecall: 0.993\", \"variable\": \"recall\", \"value\": 0.9932773109243698}, {\"threshold\": 0.9387755102040816, \"label\": \"threshold: 0.939\\nprecision: 1.0\\nrecall: 0.992\", \"variable\": \"recall\", \"value\": 0.992436974789916}, {\"threshold\": 0.9591836734693877, \"label\": \"threshold: 0.959\\nprecision: 1.0\\nrecall: 0.992\", \"variable\": \"recall\", \"value\": 0.992436974789916}, {\"threshold\": 0.9795918367346939, \"label\": \"threshold: 0.98\\nprecision: 1.0\\nrecall: 0.992\", \"variable\": \"recall\", \"value\": 0.9915966386554622}, {\"threshold\": 1.0, \"label\": \"threshold: 1.0\\nprecision: 1.0\\nrecall: 0.934\", \"variable\": \"recall\", \"value\": 0.9336134453781513}, {\"threshold\": 0.0, \"label\": \"threshold: 0.0\\nprecision: 1.0\\nrecall: 1.0\", \"variable\": \"precision\", \"value\": 1.0}, {\"threshold\": 0.02040816326530612, \"label\": \"threshold: 0.02\\nprecision: 1.0\\nrecall: 0.999\", \"variable\": \"precision\", \"value\": 1.0}, {\"threshold\": 0.04081632653061224, \"label\": \"threshold: 0.041\\nprecision: 1.0\\nrecall: 0.999\", \"variable\": \"precision\", \"value\": 1.0}, {\"threshold\": 0.061224489795918366, \"label\": \"threshold: 0.061\\nprecision: 1.0\\nrecall: 0.998\", \"variable\": \"precision\", \"value\": 1.0}, {\"threshold\": 0.08163265306122448, \"label\": \"threshold: 0.082\\nprecision: 1.0\\nrecall: 0.998\", \"variable\": \"precision\", \"value\": 1.0}, {\"threshold\": 0.1020408163265306, \"label\": \"threshold: 0.102\\nprecision: 1.0\\nrecall: 0.998\", \"variable\": \"precision\", \"value\": 1.0}, {\"threshold\": 0.12244897959183673, \"label\": \"threshold: 0.122\\nprecision: 1.0\\nrecall: 0.998\", \"variable\": \"precision\", \"value\": 1.0}, {\"threshold\": 0.14285714285714285, \"label\": \"threshold: 0.143\\nprecision: 1.0\\nrecall: 0.998\", \"variable\": \"precision\", \"value\": 1.0}, {\"threshold\": 0.16326530612244897, \"label\": \"threshold: 0.163\\nprecision: 1.0\\nrecall: 0.997\", \"variable\": \"precision\", \"value\": 1.0}, {\"threshold\": 0.18367346938775508, \"label\": \"threshold: 0.184\\nprecision: 1.0\\nrecall: 0.997\", \"variable\": \"precision\", \"value\": 1.0}, {\"threshold\": 0.2040816326530612, \"label\": \"threshold: 0.204\\nprecision: 1.0\\nrecall: 0.997\", \"variable\": \"precision\", \"value\": 1.0}, {\"threshold\": 0.22448979591836732, \"label\": \"threshold: 0.224\\nprecision: 1.0\\nrecall: 0.996\", \"variable\": \"precision\", \"value\": 1.0}, {\"threshold\": 0.24489795918367346, \"label\": \"threshold: 0.245\\nprecision: 1.0\\nrecall: 0.996\", \"variable\": \"precision\", \"value\": 1.0}, {\"threshold\": 0.26530612244897955, \"label\": \"threshold: 0.265\\nprecision: 1.0\\nrecall: 0.995\", \"variable\": \"precision\", \"value\": 1.0}, {\"threshold\": 0.2857142857142857, \"label\": \"threshold: 0.286\\nprecision: 1.0\\nrecall: 0.994\", \"variable\": \"precision\", \"value\": 1.0}, {\"threshold\": 0.3061224489795918, \"label\": \"threshold: 0.306\\nprecision: 1.0\\nrecall: 0.994\", \"variable\": \"precision\", \"value\": 1.0}, {\"threshold\": 0.32653061224489793, \"label\": \"threshold: 0.327\\nprecision: 1.0\\nrecall: 0.994\", \"variable\": \"precision\", \"value\": 1.0}, {\"threshold\": 0.3469387755102041, \"label\": \"threshold: 0.347\\nprecision: 1.0\\nrecall: 0.994\", \"variable\": \"precision\", \"value\": 1.0}, {\"threshold\": 0.36734693877551017, \"label\": \"threshold: 0.367\\nprecision: 1.0\\nrecall: 0.994\", \"variable\": \"precision\", \"value\": 1.0}, {\"threshold\": 0.3877551020408163, \"label\": \"threshold: 0.388\\nprecision: 1.0\\nrecall: 0.994\", \"variable\": \"precision\", \"value\": 1.0}, {\"threshold\": 0.4081632653061224, \"label\": \"threshold: 0.408\\nprecision: 1.0\\nrecall: 0.994\", \"variable\": \"precision\", \"value\": 1.0}, {\"threshold\": 0.42857142857142855, \"label\": \"threshold: 0.429\\nprecision: 1.0\\nrecall: 0.994\", \"variable\": \"precision\", \"value\": 1.0}, {\"threshold\": 0.44897959183673464, \"label\": \"threshold: 0.449\\nprecision: 1.0\\nrecall: 0.994\", \"variable\": \"precision\", \"value\": 1.0}, {\"threshold\": 0.4693877551020408, \"label\": \"threshold: 0.469\\nprecision: 1.0\\nrecall: 0.994\", \"variable\": \"precision\", \"value\": 1.0}, {\"threshold\": 0.4897959183673469, \"label\": \"threshold: 0.49\\nprecision: 1.0\\nrecall: 0.994\", \"variable\": \"precision\", \"value\": 1.0}, {\"threshold\": 0.5102040816326531, \"label\": \"threshold: 0.51\\nprecision: 1.0\\nrecall: 0.994\", \"variable\": \"precision\", \"value\": 1.0}, {\"threshold\": 0.5306122448979591, \"label\": \"threshold: 0.531\\nprecision: 1.0\\nrecall: 0.994\", \"variable\": \"precision\", \"value\": 1.0}, {\"threshold\": 0.5510204081632653, \"label\": \"threshold: 0.551\\nprecision: 1.0\\nrecall: 0.994\", \"variable\": \"precision\", \"value\": 1.0}, {\"threshold\": 0.5714285714285714, \"label\": \"threshold: 0.571\\nprecision: 1.0\\nrecall: 0.994\", \"variable\": \"precision\", \"value\": 1.0}, {\"threshold\": 0.5918367346938775, \"label\": \"threshold: 0.592\\nprecision: 1.0\\nrecall: 0.993\", \"variable\": \"precision\", \"value\": 1.0}, {\"threshold\": 0.6122448979591836, \"label\": \"threshold: 0.612\\nprecision: 1.0\\nrecall: 0.993\", \"variable\": \"precision\", \"value\": 1.0}, {\"threshold\": 0.6326530612244897, \"label\": \"threshold: 0.633\\nprecision: 1.0\\nrecall: 0.993\", \"variable\": \"precision\", \"value\": 1.0}, {\"threshold\": 0.6530612244897959, \"label\": \"threshold: 0.653\\nprecision: 1.0\\nrecall: 0.993\", \"variable\": \"precision\", \"value\": 1.0}, {\"threshold\": 0.673469387755102, \"label\": \"threshold: 0.673\\nprecision: 1.0\\nrecall: 0.993\", \"variable\": \"precision\", \"value\": 1.0}, {\"threshold\": 0.6938775510204082, \"label\": \"threshold: 0.694\\nprecision: 1.0\\nrecall: 0.993\", \"variable\": \"precision\", \"value\": 1.0}, {\"threshold\": 0.7142857142857142, \"label\": \"threshold: 0.714\\nprecision: 1.0\\nrecall: 0.993\", \"variable\": \"precision\", \"value\": 1.0}, {\"threshold\": 0.7346938775510203, \"label\": \"threshold: 0.735\\nprecision: 1.0\\nrecall: 0.993\", \"variable\": \"precision\", \"value\": 1.0}, {\"threshold\": 0.7551020408163265, \"label\": \"threshold: 0.755\\nprecision: 1.0\\nrecall: 0.993\", \"variable\": \"precision\", \"value\": 1.0}, {\"threshold\": 0.7755102040816326, \"label\": \"threshold: 0.776\\nprecision: 1.0\\nrecall: 0.993\", \"variable\": \"precision\", \"value\": 1.0}, {\"threshold\": 0.7959183673469387, \"label\": \"threshold: 0.796\\nprecision: 1.0\\nrecall: 0.993\", \"variable\": \"precision\", \"value\": 1.0}, {\"threshold\": 0.8163265306122448, \"label\": \"threshold: 0.816\\nprecision: 1.0\\nrecall: 0.993\", \"variable\": \"precision\", \"value\": 1.0}, {\"threshold\": 0.836734693877551, \"label\": \"threshold: 0.837\\nprecision: 1.0\\nrecall: 0.993\", \"variable\": \"precision\", \"value\": 1.0}, {\"threshold\": 0.8571428571428571, \"label\": \"threshold: 0.857\\nprecision: 1.0\\nrecall: 0.993\", \"variable\": \"precision\", \"value\": 1.0}, {\"threshold\": 0.8775510204081632, \"label\": \"threshold: 0.878\\nprecision: 1.0\\nrecall: 0.993\", \"variable\": \"precision\", \"value\": 1.0}, {\"threshold\": 0.8979591836734693, \"label\": \"threshold: 0.898\\nprecision: 1.0\\nrecall: 0.993\", \"variable\": \"precision\", \"value\": 1.0}, {\"threshold\": 0.9183673469387754, \"label\": \"threshold: 0.918\\nprecision: 1.0\\nrecall: 0.993\", \"variable\": \"precision\", \"value\": 1.0}, {\"threshold\": 0.9387755102040816, \"label\": \"threshold: 0.939\\nprecision: 1.0\\nrecall: 0.992\", \"variable\": \"precision\", \"value\": 1.0}, {\"threshold\": 0.9591836734693877, \"label\": \"threshold: 0.959\\nprecision: 1.0\\nrecall: 0.992\", \"variable\": \"precision\", \"value\": 1.0}, {\"threshold\": 0.9795918367346939, \"label\": \"threshold: 0.98\\nprecision: 1.0\\nrecall: 0.992\", \"variable\": \"precision\", \"value\": 1.0}, {\"threshold\": 1.0, \"label\": \"threshold: 1.0\\nprecision: 1.0\\nrecall: 0.934\", \"variable\": \"precision\", \"value\": 1.0}]}}, {\"mode\": \"vega-lite\"});\n",
              "</script>"
            ]
          },
          "metadata": {},
          "execution_count": 46
        }
      ],
      "source": [
        "df_eval = tutorial.evaluate_linking(\n",
        "    df=df_predictions\n",
        ")\n",
        "\n",
        "tutorial.plot_precision_recall_vs_threshold(df_eval)"
      ]
    }
  ],
  "metadata": {
    "kernelspec": {
      "display_name": "linking",
      "language": "python",
      "name": "linking"
    },
    "language_info": {
      "codemirror_mode": {
        "name": "ipython",
        "version": 3
      },
      "file_extension": ".py",
      "mimetype": "text/x-python",
      "name": "python",
      "nbconvert_exporter": "python",
      "pygments_lexer": "ipython3",
      "version": "3.8.6"
    },
    "colab": {
      "name": "FEBRL Data with Active Learning",
      "provenance": [],
      "collapsed_sections": [],
      "include_colab_link": true
    }
  },
  "nbformat": 4,
  "nbformat_minor": 0
}